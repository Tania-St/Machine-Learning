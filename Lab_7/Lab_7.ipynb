{
 "cells": [
  {
   "cell_type": "markdown",
   "metadata": {
    "id": "jW04GCYrtw8Y"
   },
   "source": [
    "# Лабораторная работа №7. Машинное обучение"
   ]
  },
  {
   "cell_type": "markdown",
   "metadata": {
    "id": "d4RRYGsWEkYH"
   },
   "source": [
    "Задача: анализ контингента посетителей магазинов по кадрам с видеокамер. Может применяться для определения того, какие категории людей чаще посещают те или иные отделы, а также для составления маркетинговых стратегий, проведения акций и скидок."
   ]
  },
  {
   "cell_type": "markdown",
   "metadata": {
    "id": "EwaYE8g3Fk6C"
   },
   "source": [
    "### Распаковка файлов и предварительная обработка"
   ]
  },
  {
   "cell_type": "code",
   "execution_count": null,
   "metadata": {
    "id": "SEFPx183Ptke"
   },
   "outputs": [],
   "source": [
    "import os\n",
    "import tarfile\n",
    "import pandas as pd\n",
    "import torch\n",
    "from torch.utils.data import Dataset, DataLoader\n",
    "from torchvision import transforms\n",
    "from PIL import Image, UnidentifiedImageError\n",
    "from sklearn.model_selection import train_test_split\n",
    "import torch.nn as nn\n",
    "import torchvision.models as models\n",
    "import torch.optim as optim\n",
    "from sklearn.metrics import confusion_matrix\n",
    "from tqdm import tqdm\n",
    "import json\n",
    "import matplotlib.pyplot as plt\n",
    "import seaborn as sns"
   ]
  },
  {
   "cell_type": "code",
   "execution_count": null,
   "metadata": {
    "id": "USB3ET6Zh5ZK"
   },
   "outputs": [],
   "source": [
    "data_dir = './face_data/'\n",
    "extract_dir = './faces'\n",
    "\n",
    "os.makedirs(extract_dir, exist_ok=True)\n",
    "\n",
    "for i in range(1, 4):\n",
    "    archive_path = os.path.join(data_dir, f'part{i}.tar.gz')\n",
    "    with tarfile.open(archive_path, 'r:gz') as tar:\n",
    "        tar.extractall(path=extract_dir)"
   ]
  },
  {
   "cell_type": "code",
   "execution_count": null,
   "metadata": {
    "colab": {
     "base_uri": "https://localhost:8080/"
    },
    "executionInfo": {
     "elapsed": 11600,
     "status": "ok",
     "timestamp": 1744442465708,
     "user": {
      "displayName": "Татьяна Стрельницкая",
      "userId": "08357198606275998011"
     },
     "user_tz": -180
    },
    "id": "Q3VfyEloIUCn",
    "outputId": "009eedf6-cf71-4dbd-f7b7-992bc3ef6df0"
   },
   "outputs": [
    {
     "name": "stdout",
     "output_type": "stream",
     "text": [
      "Каталог: /content/drive/MyDrive/Labs_MO/faces\n",
      "Каталог: /content/drive/MyDrive/Labs_MO/faces/part2\n",
      "Файлы: ['30_1_1_20170112215105568.jpg', '32_0_0_20170117182315092.jpg', '38_0_0_20170117153835602.jpg', '26_0_1_20170113154700499.jpg', '55_0_1_20170117180249950.jpg']\n",
      "Каталог: /content/drive/MyDrive/Labs_MO/faces/part3\n",
      "Файлы: ['44_0_3_20170119200652604.jpg', '78_1_0_20170120224727472.jpg', '44_1_3_20170119164705141.jpg', '55_1_3_20170119195255556.jpg', '35_1_0_20170120220747764.jpg']\n",
      "Каталог: /content/drive/MyDrive/Labs_MO/faces/part1\n",
      "Файлы: ['20_1_4_20161223230050564.jpg', '57_0_0_20170104202107434.jpg', '2_1_2_20161219151500019.jpg', '28_1_2_20170104021815094.jpg', '90_0_2_20170111210740854.jpg']\n",
      "Каталог: /content/drive/MyDrive/Labs_MO/faces\n",
      "Пример файлов: []\n"
     ]
    }
   ],
   "source": [
    "for root, dirs, files in os.walk('./faces'):\n",
    "    print(f\"Каталог: {root}\")\n",
    "    if files:\n",
    "        print(f\"Файлы: {files[:5]}\")"
   ]
  },
  {
   "cell_type": "code",
   "execution_count": null,
   "metadata": {
    "colab": {
     "base_uri": "https://localhost:8080/",
     "height": 241
    },
    "executionInfo": {
     "elapsed": 5718,
     "status": "ok",
     "timestamp": 1744442471439,
     "user": {
      "displayName": "Татьяна Стрельницкая",
      "userId": "08357198606275998011"
     },
     "user_tz": -180
    },
    "id": "68TkqMoWJJRd",
    "outputId": "2b17a914-322d-4bdb-808c-dacc115e3be9"
   },
   "outputs": [
    {
     "name": "stdout",
     "output_type": "stream",
     "text": [
      "Пропущен файл 53__0_20170116184028385.jpg: invalid literal for int() with base 10: ''\n",
      "Всего изображений: 24105\n"
     ]
    },
    {
     "data": {
      "application/vnd.google.colaboratory.intrinsic+json": {
       "summary": "{\n  \"name\": \"df\",\n  \"rows\": 24105,\n  \"fields\": [\n    {\n      \"column\": \"image_path\",\n      \"properties\": {\n        \"dtype\": \"string\",\n        \"num_unique_values\": 24105,\n        \"samples\": [\n          \"/content/drive/MyDrive/Labs_MO/faces/part2/23_0_2_20170116173001224.jpg\",\n          \"/content/drive/MyDrive/Labs_MO/faces/part2/28_0_1_20170116025822052.jpg\",\n          \"/content/drive/MyDrive/Labs_MO/faces/part2/43_1_1_20170113013019161.jpg\"\n        ],\n        \"semantic_type\": \"\",\n        \"description\": \"\"\n      }\n    },\n    {\n      \"column\": \"age_category\",\n      \"properties\": {\n        \"dtype\": \"number\",\n        \"std\": 1,\n        \"min\": 0,\n        \"max\": 4,\n        \"num_unique_values\": 5,\n        \"samples\": [\n          3,\n          1,\n          0\n        ],\n        \"semantic_type\": \"\",\n        \"description\": \"\"\n      }\n    },\n    {\n      \"column\": \"gender\",\n      \"properties\": {\n        \"dtype\": \"number\",\n        \"std\": 0,\n        \"min\": 0,\n        \"max\": 3,\n        \"num_unique_values\": 3,\n        \"samples\": [\n          1,\n          0,\n          3\n        ],\n        \"semantic_type\": \"\",\n        \"description\": \"\"\n      }\n    }\n  ]\n}",
       "type": "dataframe",
       "variable_name": "df"
      },
      "text/html": [
       "\n",
       "  <div id=\"df-f4b67ee7-d92f-4ff6-8af1-6c30deef5767\" class=\"colab-df-container\">\n",
       "    <div>\n",
       "<style scoped>\n",
       "    .dataframe tbody tr th:only-of-type {\n",
       "        vertical-align: middle;\n",
       "    }\n",
       "\n",
       "    .dataframe tbody tr th {\n",
       "        vertical-align: top;\n",
       "    }\n",
       "\n",
       "    .dataframe thead th {\n",
       "        text-align: right;\n",
       "    }\n",
       "</style>\n",
       "<table border=\"1\" class=\"dataframe\">\n",
       "  <thead>\n",
       "    <tr style=\"text-align: right;\">\n",
       "      <th></th>\n",
       "      <th>image_path</th>\n",
       "      <th>age_category</th>\n",
       "      <th>gender</th>\n",
       "    </tr>\n",
       "  </thead>\n",
       "  <tbody>\n",
       "    <tr>\n",
       "      <th>0</th>\n",
       "      <td>/content/drive/MyDrive/Labs_MO/faces/part1/20_...</td>\n",
       "      <td>2</td>\n",
       "      <td>1</td>\n",
       "    </tr>\n",
       "    <tr>\n",
       "      <th>1</th>\n",
       "      <td>/content/drive/MyDrive/Labs_MO/faces/part1/57_...</td>\n",
       "      <td>3</td>\n",
       "      <td>0</td>\n",
       "    </tr>\n",
       "    <tr>\n",
       "      <th>2</th>\n",
       "      <td>/content/drive/MyDrive/Labs_MO/faces/part1/2_1...</td>\n",
       "      <td>0</td>\n",
       "      <td>1</td>\n",
       "    </tr>\n",
       "    <tr>\n",
       "      <th>3</th>\n",
       "      <td>/content/drive/MyDrive/Labs_MO/faces/part1/28_...</td>\n",
       "      <td>2</td>\n",
       "      <td>1</td>\n",
       "    </tr>\n",
       "    <tr>\n",
       "      <th>4</th>\n",
       "      <td>/content/drive/MyDrive/Labs_MO/faces/part1/90_...</td>\n",
       "      <td>4</td>\n",
       "      <td>0</td>\n",
       "    </tr>\n",
       "  </tbody>\n",
       "</table>\n",
       "</div>\n",
       "    <div class=\"colab-df-buttons\">\n",
       "\n",
       "  <div class=\"colab-df-container\">\n",
       "    <button class=\"colab-df-convert\" onclick=\"convertToInteractive('df-f4b67ee7-d92f-4ff6-8af1-6c30deef5767')\"\n",
       "            title=\"Convert this dataframe to an interactive table.\"\n",
       "            style=\"display:none;\">\n",
       "\n",
       "  <svg xmlns=\"http://www.w3.org/2000/svg\" height=\"24px\" viewBox=\"0 -960 960 960\">\n",
       "    <path d=\"M120-120v-720h720v720H120Zm60-500h600v-160H180v160Zm220 220h160v-160H400v160Zm0 220h160v-160H400v160ZM180-400h160v-160H180v160Zm440 0h160v-160H620v160ZM180-180h160v-160H180v160Zm440 0h160v-160H620v160Z\"/>\n",
       "  </svg>\n",
       "    </button>\n",
       "\n",
       "  <style>\n",
       "    .colab-df-container {\n",
       "      display:flex;\n",
       "      gap: 12px;\n",
       "    }\n",
       "\n",
       "    .colab-df-convert {\n",
       "      background-color: #E8F0FE;\n",
       "      border: none;\n",
       "      border-radius: 50%;\n",
       "      cursor: pointer;\n",
       "      display: none;\n",
       "      fill: #1967D2;\n",
       "      height: 32px;\n",
       "      padding: 0 0 0 0;\n",
       "      width: 32px;\n",
       "    }\n",
       "\n",
       "    .colab-df-convert:hover {\n",
       "      background-color: #E2EBFA;\n",
       "      box-shadow: 0px 1px 2px rgba(60, 64, 67, 0.3), 0px 1px 3px 1px rgba(60, 64, 67, 0.15);\n",
       "      fill: #174EA6;\n",
       "    }\n",
       "\n",
       "    .colab-df-buttons div {\n",
       "      margin-bottom: 4px;\n",
       "    }\n",
       "\n",
       "    [theme=dark] .colab-df-convert {\n",
       "      background-color: #3B4455;\n",
       "      fill: #D2E3FC;\n",
       "    }\n",
       "\n",
       "    [theme=dark] .colab-df-convert:hover {\n",
       "      background-color: #434B5C;\n",
       "      box-shadow: 0px 1px 3px 1px rgba(0, 0, 0, 0.15);\n",
       "      filter: drop-shadow(0px 1px 2px rgba(0, 0, 0, 0.3));\n",
       "      fill: #FFFFFF;\n",
       "    }\n",
       "  </style>\n",
       "\n",
       "    <script>\n",
       "      const buttonEl =\n",
       "        document.querySelector('#df-f4b67ee7-d92f-4ff6-8af1-6c30deef5767 button.colab-df-convert');\n",
       "      buttonEl.style.display =\n",
       "        google.colab.kernel.accessAllowed ? 'block' : 'none';\n",
       "\n",
       "      async function convertToInteractive(key) {\n",
       "        const element = document.querySelector('#df-f4b67ee7-d92f-4ff6-8af1-6c30deef5767');\n",
       "        const dataTable =\n",
       "          await google.colab.kernel.invokeFunction('convertToInteractive',\n",
       "                                                    [key], {});\n",
       "        if (!dataTable) return;\n",
       "\n",
       "        const docLinkHtml = 'Like what you see? Visit the ' +\n",
       "          '<a target=\"_blank\" href=https://colab.research.google.com/notebooks/data_table.ipynb>data table notebook</a>'\n",
       "          + ' to learn more about interactive tables.';\n",
       "        element.innerHTML = '';\n",
       "        dataTable['output_type'] = 'display_data';\n",
       "        await google.colab.output.renderOutput(dataTable, element);\n",
       "        const docLink = document.createElement('div');\n",
       "        docLink.innerHTML = docLinkHtml;\n",
       "        element.appendChild(docLink);\n",
       "      }\n",
       "    </script>\n",
       "  </div>\n",
       "\n",
       "\n",
       "<div id=\"df-51f72834-bbfc-4493-8bca-6c8a60c3cf2b\">\n",
       "  <button class=\"colab-df-quickchart\" onclick=\"quickchart('df-51f72834-bbfc-4493-8bca-6c8a60c3cf2b')\"\n",
       "            title=\"Suggest charts\"\n",
       "            style=\"display:none;\">\n",
       "\n",
       "<svg xmlns=\"http://www.w3.org/2000/svg\" height=\"24px\"viewBox=\"0 0 24 24\"\n",
       "     width=\"24px\">\n",
       "    <g>\n",
       "        <path d=\"M19 3H5c-1.1 0-2 .9-2 2v14c0 1.1.9 2 2 2h14c1.1 0 2-.9 2-2V5c0-1.1-.9-2-2-2zM9 17H7v-7h2v7zm4 0h-2V7h2v10zm4 0h-2v-4h2v4z\"/>\n",
       "    </g>\n",
       "</svg>\n",
       "  </button>\n",
       "\n",
       "<style>\n",
       "  .colab-df-quickchart {\n",
       "      --bg-color: #E8F0FE;\n",
       "      --fill-color: #1967D2;\n",
       "      --hover-bg-color: #E2EBFA;\n",
       "      --hover-fill-color: #174EA6;\n",
       "      --disabled-fill-color: #AAA;\n",
       "      --disabled-bg-color: #DDD;\n",
       "  }\n",
       "\n",
       "  [theme=dark] .colab-df-quickchart {\n",
       "      --bg-color: #3B4455;\n",
       "      --fill-color: #D2E3FC;\n",
       "      --hover-bg-color: #434B5C;\n",
       "      --hover-fill-color: #FFFFFF;\n",
       "      --disabled-bg-color: #3B4455;\n",
       "      --disabled-fill-color: #666;\n",
       "  }\n",
       "\n",
       "  .colab-df-quickchart {\n",
       "    background-color: var(--bg-color);\n",
       "    border: none;\n",
       "    border-radius: 50%;\n",
       "    cursor: pointer;\n",
       "    display: none;\n",
       "    fill: var(--fill-color);\n",
       "    height: 32px;\n",
       "    padding: 0;\n",
       "    width: 32px;\n",
       "  }\n",
       "\n",
       "  .colab-df-quickchart:hover {\n",
       "    background-color: var(--hover-bg-color);\n",
       "    box-shadow: 0 1px 2px rgba(60, 64, 67, 0.3), 0 1px 3px 1px rgba(60, 64, 67, 0.15);\n",
       "    fill: var(--button-hover-fill-color);\n",
       "  }\n",
       "\n",
       "  .colab-df-quickchart-complete:disabled,\n",
       "  .colab-df-quickchart-complete:disabled:hover {\n",
       "    background-color: var(--disabled-bg-color);\n",
       "    fill: var(--disabled-fill-color);\n",
       "    box-shadow: none;\n",
       "  }\n",
       "\n",
       "  .colab-df-spinner {\n",
       "    border: 2px solid var(--fill-color);\n",
       "    border-color: transparent;\n",
       "    border-bottom-color: var(--fill-color);\n",
       "    animation:\n",
       "      spin 1s steps(1) infinite;\n",
       "  }\n",
       "\n",
       "  @keyframes spin {\n",
       "    0% {\n",
       "      border-color: transparent;\n",
       "      border-bottom-color: var(--fill-color);\n",
       "      border-left-color: var(--fill-color);\n",
       "    }\n",
       "    20% {\n",
       "      border-color: transparent;\n",
       "      border-left-color: var(--fill-color);\n",
       "      border-top-color: var(--fill-color);\n",
       "    }\n",
       "    30% {\n",
       "      border-color: transparent;\n",
       "      border-left-color: var(--fill-color);\n",
       "      border-top-color: var(--fill-color);\n",
       "      border-right-color: var(--fill-color);\n",
       "    }\n",
       "    40% {\n",
       "      border-color: transparent;\n",
       "      border-right-color: var(--fill-color);\n",
       "      border-top-color: var(--fill-color);\n",
       "    }\n",
       "    60% {\n",
       "      border-color: transparent;\n",
       "      border-right-color: var(--fill-color);\n",
       "    }\n",
       "    80% {\n",
       "      border-color: transparent;\n",
       "      border-right-color: var(--fill-color);\n",
       "      border-bottom-color: var(--fill-color);\n",
       "    }\n",
       "    90% {\n",
       "      border-color: transparent;\n",
       "      border-bottom-color: var(--fill-color);\n",
       "    }\n",
       "  }\n",
       "</style>\n",
       "\n",
       "  <script>\n",
       "    async function quickchart(key) {\n",
       "      const quickchartButtonEl =\n",
       "        document.querySelector('#' + key + ' button');\n",
       "      quickchartButtonEl.disabled = true;  // To prevent multiple clicks.\n",
       "      quickchartButtonEl.classList.add('colab-df-spinner');\n",
       "      try {\n",
       "        const charts = await google.colab.kernel.invokeFunction(\n",
       "            'suggestCharts', [key], {});\n",
       "      } catch (error) {\n",
       "        console.error('Error during call to suggestCharts:', error);\n",
       "      }\n",
       "      quickchartButtonEl.classList.remove('colab-df-spinner');\n",
       "      quickchartButtonEl.classList.add('colab-df-quickchart-complete');\n",
       "    }\n",
       "    (() => {\n",
       "      let quickchartButtonEl =\n",
       "        document.querySelector('#df-51f72834-bbfc-4493-8bca-6c8a60c3cf2b button');\n",
       "      quickchartButtonEl.style.display =\n",
       "        google.colab.kernel.accessAllowed ? 'block' : 'none';\n",
       "    })();\n",
       "  </script>\n",
       "</div>\n",
       "    </div>\n",
       "  </div>\n"
      ],
      "text/plain": [
       "                                          image_path  age_category  gender\n",
       "0  /content/drive/MyDrive/Labs_MO/faces/part1/20_...             2       1\n",
       "1  /content/drive/MyDrive/Labs_MO/faces/part1/57_...             3       0\n",
       "2  /content/drive/MyDrive/Labs_MO/faces/part1/2_1...             0       1\n",
       "3  /content/drive/MyDrive/Labs_MO/faces/part1/28_...             2       1\n",
       "4  /content/drive/MyDrive/Labs_MO/faces/part1/90_...             4       0"
      ]
     },
     "execution_count": 5,
     "metadata": {},
     "output_type": "execute_result"
    }
   ],
   "source": [
    "data_root = './faces'\n",
    "subfolders = ['part1', 'part2', 'part3']\n",
    "\n",
    "def get_age_category(age):\n",
    "    if age <= 12:\n",
    "        return 0  # child\n",
    "    elif age <= 19:\n",
    "        return 1  # teen\n",
    "    elif age <= 39:\n",
    "        return 2  # young adult\n",
    "    elif age <= 59:\n",
    "        return 3  # middle age\n",
    "    else:\n",
    "        return 4  # senior\n",
    "\n",
    "data = []\n",
    "\n",
    "for folder in subfolders:\n",
    "    folder_path = os.path.join(data_root, folder)\n",
    "    for filename in os.listdir(folder_path):\n",
    "        if filename.endswith('.jpg'):\n",
    "            try:\n",
    "                age, gender, *_ = filename.split('_')\n",
    "                age = int(age)\n",
    "                gender = int(gender)\n",
    "                age_cat = get_age_category(age)\n",
    "                full_path = os.path.join(folder_path, filename)\n",
    "                data.append([full_path, age_cat, gender])\n",
    "            except Exception as e:\n",
    "                print(f\"Пропущен файл {filename}: {e}\")\n",
    "\n",
    "df = pd.DataFrame(data, columns=['image_path', 'age_category', 'gender'])\n",
    "print(f\"Всего изображений: {len(df)}\")\n",
    "df.head()"
   ]
  },
  {
   "cell_type": "code",
   "execution_count": null,
   "metadata": {
    "id": "VRgBOxsXJYzB"
   },
   "outputs": [],
   "source": [
    "image_transforms = transforms.Compose([\n",
    "    transforms.Resize((224, 224)),\n",
    "    transforms.ToTensor(),\n",
    "    transforms.Normalize(mean=[0.485, 0.456, 0.406],\n",
    "                         std=[0.229, 0.224, 0.225])\n",
    "])\n",
    "\n",
    "\n",
    "class FaceDataset(Dataset):\n",
    "    def __init__(self, dataframe, transform=None):\n",
    "        self.df = dataframe.reset_index(drop=True)\n",
    "        self.transform = transform\n",
    "\n",
    "    def __len__(self):\n",
    "        return len(self.df)\n",
    "\n",
    "    def __getitem__(self, idx):\n",
    "        row = self.df.loc[idx]\n",
    "        image_path = row['image_path']\n",
    "\n",
    "        try:\n",
    "            img = Image.open(image_path).convert('RGB')\n",
    "        except (UnidentifiedImageError, FileNotFoundError):\n",
    "            # Если изображение не читается — пробуем следующий по индексу\n",
    "            return self.__getitem__((idx + 1) % len(self))\n",
    "\n",
    "        if self.transform:\n",
    "            img = self.transform(img)\n",
    "\n",
    "        age = torch.tensor(row['age_category'], dtype=torch.long)\n",
    "        gender = torch.tensor(row['gender'], dtype=torch.long)\n",
    "\n",
    "        return img, {'age': age, 'gender': gender}"
   ]
  },
  {
   "cell_type": "code",
   "execution_count": null,
   "metadata": {
    "colab": {
     "base_uri": "https://localhost:8080/"
    },
    "executionInfo": {
     "elapsed": 10,
     "status": "ok",
     "timestamp": 1744387422037,
     "user": {
      "displayName": "Татьяна Стрельницкая",
      "userId": "08357198606275998011"
     },
     "user_tz": -180
    },
    "id": "wBsE-iAwOIYM",
    "outputId": "4d6fd0ae-0d1e-465a-9de5-9f67a9c6fbe5"
   },
   "outputs": [
    {
     "name": "stdout",
     "output_type": "stream",
     "text": [
      "<class 'pandas.core.frame.DataFrame'>\n",
      "RangeIndex: 24105 entries, 0 to 24104\n",
      "Data columns (total 3 columns):\n",
      " #   Column        Non-Null Count  Dtype \n",
      "---  ------        --------------  ----- \n",
      " 0   image_path    24105 non-null  object\n",
      " 1   age_category  24105 non-null  int64 \n",
      " 2   gender        24105 non-null  int64 \n",
      "dtypes: int64(2), object(1)\n",
      "memory usage: 565.1+ KB\n"
     ]
    }
   ],
   "source": [
    "df.info()"
   ]
  },
  {
   "cell_type": "markdown",
   "metadata": {
    "id": "5n-UKE4xG2lT"
   },
   "source": [
    "Тут откуда-то взялось некорректное значение признака gender, его удаляем"
   ]
  },
  {
   "cell_type": "code",
   "execution_count": null,
   "metadata": {
    "colab": {
     "base_uri": "https://localhost:8080/"
    },
    "executionInfo": {
     "elapsed": 48,
     "status": "ok",
     "timestamp": 1744387422087,
     "user": {
      "displayName": "Татьяна Стрельницкая",
      "userId": "08357198606275998011"
     },
     "user_tz": -180
    },
    "id": "MF8u-x0VNczU",
    "outputId": "1d7f9f19-996a-4d76-8e4c-37ac7c0443f3"
   },
   "outputs": [
    {
     "name": "stdout",
     "output_type": "stream",
     "text": [
      "      age_category  gender\n",
      "0                2       1\n",
      "1                3       0\n",
      "2                0       1\n",
      "4                4       0\n",
      "7                3       1\n",
      "9                4       1\n",
      "13               1       0\n",
      "15               0       0\n",
      "17               1       1\n",
      "35               2       0\n",
      "9961             4       3\n"
     ]
    }
   ],
   "source": [
    "unique_combinations = df[['age_category', 'gender']].drop_duplicates()\n",
    "print(unique_combinations)"
   ]
  },
  {
   "cell_type": "code",
   "execution_count": null,
   "metadata": {
    "id": "i7XbQKOHNwL5"
   },
   "outputs": [],
   "source": [
    "df = df[df['gender'].isin([0, 1])].reset_index(drop=True)"
   ]
  },
  {
   "cell_type": "markdown",
   "metadata": {
    "id": "pzbDlGTvCF3F"
   },
   "source": [
    "### Подготовка моделей"
   ]
  },
  {
   "cell_type": "code",
   "execution_count": null,
   "metadata": {
    "id": "GbCDxtDvNwJo"
   },
   "outputs": [],
   "source": [
    "train_df, val_df = train_test_split(\n",
    "    df,\n",
    "    test_size=0.2,\n",
    "    stratify=df[['age_category', 'gender']],\n",
    "    random_state=42\n",
    ")"
   ]
  },
  {
   "cell_type": "markdown",
   "metadata": {
    "id": "9A3OTT_RHOG9"
   },
   "source": [
    "В качестве backbone модели будем использовать ResNet18"
   ]
  },
  {
   "cell_type": "code",
   "execution_count": null,
   "metadata": {
    "id": "O5rV9AL_Uvw0"
   },
   "outputs": [],
   "source": [
    "device = torch.device('cuda' if torch.cuda.is_available() else 'cpu')\n",
    "\n",
    "class MultiTaskResNet18(nn.Module):\n",
    "    def __init__(self, dropout=0.5):\n",
    "        super(MultiTaskResNet18, self).__init__()\n",
    "        self.resnet = models.resnet18(pretrained=True)\n",
    "        in_features = self.resnet.fc.in_features\n",
    "        self.resnet.fc = nn.Identity()\n",
    "\n",
    "        self.fc_age = nn.Sequential(\n",
    "            nn.Dropout(dropout),\n",
    "            nn.Linear(in_features, 256),\n",
    "            nn.ReLU(),\n",
    "            nn.Linear(256, 5)\n",
    "        )\n",
    "\n",
    "        self.fc_gender = nn.Sequential(\n",
    "            nn.Dropout(dropout),\n",
    "            nn.Linear(in_features, 256),\n",
    "            nn.ReLU(),\n",
    "            nn.Linear(256, 2)\n",
    "        )\n",
    "\n",
    "    def forward(self, x):\n",
    "        x_res = self.resnet(x)\n",
    "        age_output = self.fc_age(x_res)\n",
    "        gender_output = self.fc_gender(x_res)\n",
    "        return {'age': age_output, 'gender': gender_output}"
   ]
  },
  {
   "cell_type": "code",
   "execution_count": null,
   "metadata": {
    "id": "10Bg8MrZEpMi"
   },
   "outputs": [],
   "source": [
    "def train_epoch(model, loader, optimizer, criterion_age, criterion_gender):\n",
    "    model.train()\n",
    "    running_loss = 0.0\n",
    "    correct_age = 0\n",
    "    correct_gender = 0\n",
    "    total = 0\n",
    "\n",
    "    pbar = tqdm(loader, desc=\"Training\", leave=False)\n",
    "\n",
    "    for imgs, labels in pbar:\n",
    "        imgs = imgs.to(device)\n",
    "        age_labels = labels['age'].to(device)\n",
    "        gender_labels = labels['gender'].to(device)\n",
    "\n",
    "        outputs = model(imgs)\n",
    "        loss_age = criterion_age(outputs['age'], age_labels)\n",
    "        loss_gender = criterion_gender(outputs['gender'], gender_labels)\n",
    "        loss = loss_age + loss_gender\n",
    "\n",
    "        optimizer.zero_grad()\n",
    "        loss.backward()\n",
    "        optimizer.step()\n",
    "\n",
    "        running_loss += loss.item()\n",
    "\n",
    "        _, age_preds = torch.max(outputs['age'], 1)\n",
    "        _, gender_preds = torch.max(outputs['gender'], 1)\n",
    "\n",
    "        correct_age += (age_preds == age_labels).sum().item()\n",
    "        correct_gender += (gender_preds == gender_labels).sum().item()\n",
    "        total += age_labels.size(0)\n",
    "\n",
    "    avg_loss = running_loss / len(loader)\n",
    "    acc_age = correct_age / total\n",
    "    acc_gender = correct_gender / total\n",
    "\n",
    "    return avg_loss, acc_age, acc_gender\n",
    "\n",
    "\n",
    "def validate_epoch(model, loader, criterion_age, criterion_gender):\n",
    "    model.eval()\n",
    "    running_loss = 0.0\n",
    "    correct_age = 0\n",
    "    correct_gender = 0\n",
    "    total = 0\n",
    "\n",
    "    with torch.no_grad():\n",
    "        for imgs, labels in loader:\n",
    "            imgs = imgs.to(device)\n",
    "            age_labels = labels['age'].to(device)\n",
    "            gender_labels = labels['gender'].to(device)\n",
    "\n",
    "            outputs = model(imgs)\n",
    "            loss_age = criterion_age(outputs['age'], age_labels)\n",
    "            loss_gender = criterion_gender(outputs['gender'], gender_labels)\n",
    "            loss = loss_age + loss_gender\n",
    "\n",
    "            running_loss += loss.item()\n",
    "\n",
    "            _, age_preds = torch.max(outputs['age'], 1)\n",
    "            _, gender_preds = torch.max(outputs['gender'], 1)\n",
    "\n",
    "            correct_age += (age_preds == age_labels).sum().item()\n",
    "            correct_gender += (gender_preds == gender_labels).sum().item()\n",
    "            total += age_labels.size(0)\n",
    "\n",
    "    avg_loss = running_loss / len(loader)\n",
    "    acc_age = correct_age / total\n",
    "    acc_gender = correct_gender / total\n",
    "\n",
    "    return avg_loss, acc_age, acc_gender"
   ]
  },
  {
   "cell_type": "code",
   "execution_count": null,
   "metadata": {
    "id": "vreVB_f5RgpQ"
   },
   "outputs": [],
   "source": [
    "def train_and_validate_model(batch_size, lr, dropout, num_epochs=3):\n",
    "    model = MultiTaskResNet18(dropout=dropout)\n",
    "    model.to(device)\n",
    "\n",
    "    optimizer = optim.Adam(model.parameters(), lr=lr)\n",
    "    criterion_age = nn.CrossEntropyLoss()\n",
    "    criterion_gender = nn.CrossEntropyLoss()\n",
    "\n",
    "    train_loader = DataLoader(\n",
    "        FaceDataset(train_df, transform=image_transforms),\n",
    "        batch_size=batch_size,\n",
    "        shuffle=True\n",
    "    )\n",
    "\n",
    "    val_loader = DataLoader(\n",
    "        FaceDataset(val_df, transform=image_transforms),\n",
    "        batch_size=batch_size,\n",
    "        shuffle=False\n",
    "    )\n",
    "\n",
    "    for epoch in range(num_epochs):\n",
    "        train_loss, train_acc_age, train_acc_gender = train_epoch(\n",
    "            model, train_loader, optimizer, criterion_age, criterion_gender)\n",
    "\n",
    "        val_loss, val_acc_age, val_acc_gender = validate_epoch(\n",
    "            model, val_loader, criterion_age, criterion_gender)\n",
    "\n",
    "        print(f\"Epoch {epoch+1}/{num_epochs}\")\n",
    "        print(f\"  Train Loss: {train_loss:.4f} | Age Acc: {train_acc_age:.4f} | Gender Acc: {train_acc_gender:.4f}\")\n",
    "        print(f\"  Val   Loss: {val_loss:.4f} | Age Acc: {val_acc_age:.4f} | Gender Acc: {val_acc_gender:.4f}\")\n",
    "\n",
    "    return model, val_loss, val_acc_age, val_acc_gender"
   ]
  },
  {
   "cell_type": "markdown",
   "metadata": {
    "id": "WSmaewMdQYCY"
   },
   "source": [
    "Обучим три модели с разными комбинациями значений параметров batch_size, lr и dropout"
   ]
  },
  {
   "cell_type": "markdown",
   "metadata": {
    "id": "y_X-xVbLQKoO"
   },
   "source": [
    "### Обучение и результаты первой модели"
   ]
  },
  {
   "cell_type": "markdown",
   "metadata": {
    "id": "7CMNz-oBQqsf"
   },
   "source": [
    "Метрики и уже обученную модель сохраним для дальнейшего использования"
   ]
  },
  {
   "cell_type": "code",
   "execution_count": null,
   "metadata": {
    "colab": {
     "base_uri": "https://localhost:8080/"
    },
    "executionInfo": {
     "elapsed": 15960080,
     "status": "ok",
     "timestamp": 1744411670228,
     "user": {
      "displayName": "Татьяна Стрельницкая",
      "userId": "08357198606275998011"
     },
     "user_tz": -180
    },
    "id": "9F6O-mkWRgnA",
    "outputId": "8127ce6d-a8a6-4e18-f29f-dac11c34fa7b"
   },
   "outputs": [
    {
     "name": "stderr",
     "output_type": "stream",
     "text": [
      "/usr/local/lib/python3.11/dist-packages/torchvision/models/_utils.py:208: UserWarning: The parameter 'pretrained' is deprecated since 0.13 and may be removed in the future, please use 'weights' instead.\n",
      "  warnings.warn(\n",
      "/usr/local/lib/python3.11/dist-packages/torchvision/models/_utils.py:223: UserWarning: Arguments other than a weight enum or `None` for 'weights' are deprecated since 0.13 and may be removed in the future. The current behavior is equivalent to passing `weights=ResNet18_Weights.IMAGENET1K_V1`. You can also use `weights=ResNet18_Weights.DEFAULT` to get the most up-to-date weights.\n",
      "  warnings.warn(msg)\n",
      "Downloading: \"https://download.pytorch.org/models/resnet18-f37072fd.pth\" to /root/.cache/torch/hub/checkpoints/resnet18-f37072fd.pth\n",
      "100%|██████████| 44.7M/44.7M [00:00<00:00, 87.3MB/s]\n"
     ]
    },
    {
     "name": "stdout",
     "output_type": "stream",
     "text": [
      "Epoch 1/3\n",
      "  Train Loss: 1.1792 | Age Acc: 0.6844 | Gender Acc: 0.8436\n",
      "  Val   Loss: 1.1919 | Age Acc: 0.6470 | Gender Acc: 0.8787\n"
     ]
    },
    {
     "name": "stderr",
     "output_type": "stream",
     "text": []
    },
    {
     "name": "stdout",
     "output_type": "stream",
     "text": [
      "Epoch 2/3\n",
      "  Train Loss: 0.9378 | Age Acc: 0.7402 | Gender Acc: 0.8917\n",
      "  Val   Loss: 0.9100 | Age Acc: 0.7449 | Gender Acc: 0.8899\n"
     ]
    },
    {
     "name": "stderr",
     "output_type": "stream",
     "text": []
    },
    {
     "name": "stdout",
     "output_type": "stream",
     "text": [
      "Epoch 3/3\n",
      "  Train Loss: 0.8163 | Age Acc: 0.7701 | Gender Acc: 0.9049\n",
      "  Val   Loss: 0.9200 | Age Acc: 0.7370 | Gender Acc: 0.8996\n"
     ]
    }
   ],
   "source": [
    "os.makedirs('results', exist_ok=True)\n",
    "\n",
    "model_1, val_loss_1, val_acc_age_1, val_acc_gender_1 = train_and_validate_model(\n",
    "    batch_size=32,\n",
    "    lr=1e-3,\n",
    "    dropout=0.3\n",
    ")\n",
    "\n",
    "metrics_1 = {\n",
    "    'batch_size': 32,\n",
    "    'learning_rate': 1e-3,\n",
    "    'dropout': 0.3,\n",
    "    'val_loss': val_loss_1,\n",
    "    'val_acc_age': val_acc_age_1,\n",
    "    'val_acc_gender': val_acc_gender_1\n",
    "}\n",
    "with open('results/metrics_model_1.json', 'w') as f:\n",
    "    json.dump(metrics_1, f, indent=4)\n",
    "\n",
    "torch.save(model_1.state_dict(), 'results/model_1_weights.pt')"
   ]
  },
  {
   "cell_type": "code",
   "execution_count": null,
   "metadata": {
    "colab": {
     "base_uri": "https://localhost:8080/",
     "height": 880
    },
    "executionInfo": {
     "elapsed": 427995,
     "status": "ok",
     "timestamp": 1744412098234,
     "user": {
      "displayName": "Татьяна Стрельницкая",
      "userId": "08357198606275998011"
     },
     "user_tz": -180
    },
    "id": "bAZf8EkKVfaE",
    "outputId": "9bbdfc44-a668-4337-bfed-a71d68637f2f"
   },
   "outputs": [
    {
     "data": {
      "image/png": "[encoded data removed]",
      "text/plain": [
       "<Figure size 600x500 with 2 Axes>"
      ]
     },
     "metadata": {},
     "output_type": "display_data"
    },
    {
     "data": {
      "image/png": "[encoded data removed]",
      "text/plain": [
       "<Figure size 400x400 with 2 Axes>"
      ]
     },
     "metadata": {},
     "output_type": "display_data"
    }
   ],
   "source": [
    "val_loader = DataLoader(\n",
    "    FaceDataset(val_df, transform=image_transforms),\n",
    "    batch_size=32,\n",
    "    shuffle=False\n",
    ")\n",
    "\n",
    "all_age_preds, all_age_labels = [], []\n",
    "all_gender_preds, all_gender_labels = [], []\n",
    "\n",
    "model_1.eval()\n",
    "with torch.no_grad():\n",
    "    for images, labels in val_loader:\n",
    "        images = images.to(device)\n",
    "        age_labels = labels['age'].to(device)\n",
    "        gender_labels = labels['gender'].to(device)\n",
    "\n",
    "        outputs = model_1(images)\n",
    "        age_preds = torch.argmax(outputs['age'], dim=1)\n",
    "        gender_preds = torch.argmax(outputs['gender'], dim=1)\n",
    "\n",
    "        all_age_preds.extend(age_preds.cpu().numpy())\n",
    "        all_age_labels.extend(age_labels.cpu().numpy())\n",
    "        all_gender_preds.extend(gender_preds.cpu().numpy())\n",
    "        all_gender_labels.extend(gender_labels.cpu().numpy())\n",
    "\n",
    "cm_age = confusion_matrix(all_age_labels, all_age_preds)\n",
    "plt.figure(figsize=(6,5))\n",
    "sns.heatmap(cm_age, annot=True, fmt='d', cmap='Blues')\n",
    "plt.title('Confusion Matrix — Age (Model 1)')\n",
    "plt.xlabel('Predicted')\n",
    "plt.ylabel('True')\n",
    "plt.savefig('results/confusion_age_model_1.png')\n",
    "plt.show()\n",
    "\n",
    "cm_gender = confusion_matrix(all_gender_labels, all_gender_preds)\n",
    "plt.figure(figsize=(4,4))\n",
    "sns.heatmap(cm_gender, annot=True, fmt='d', cmap='Oranges')\n",
    "plt.title('Confusion Matrix — Gender (Model 1)')\n",
    "plt.xlabel('Predicted')\n",
    "plt.ylabel('True')\n",
    "plt.savefig('results/confusion_gender_model_1.png')\n",
    "plt.show()"
   ]
  },
  {
   "cell_type": "markdown",
   "metadata": {
    "id": "zXN9_pkPRDPX"
   },
   "source": [
    "### Обучение и результаты второй модели"
   ]
  },
  {
   "cell_type": "code",
   "execution_count": null,
   "metadata": {
    "colab": {
     "base_uri": "https://localhost:8080/"
    },
    "executionInfo": {
     "elapsed": 16467455,
     "status": "ok",
     "timestamp": 1744428568245,
     "user": {
      "displayName": "Татьяна Стрельницкая",
      "userId": "08357198606275998011"
     },
     "user_tz": -180
    },
    "id": "0CFaGlvuU32V",
    "outputId": "ba936141-3539-4959-bb57-48dc8aa3055e"
   },
   "outputs": [
    {
     "name": "stderr",
     "output_type": "stream",
     "text": [
      "/usr/local/lib/python3.11/dist-packages/torchvision/models/_utils.py:208: UserWarning: The parameter 'pretrained' is deprecated since 0.13 and may be removed in the future, please use 'weights' instead.\n",
      "  warnings.warn(\n",
      "/usr/local/lib/python3.11/dist-packages/torchvision/models/_utils.py:223: UserWarning: Arguments other than a weight enum or `None` for 'weights' are deprecated since 0.13 and may be removed in the future. The current behavior is equivalent to passing `weights=ResNet18_Weights.IMAGENET1K_V1`. You can also use `weights=ResNet18_Weights.DEFAULT` to get the most up-to-date weights.\n",
      "  warnings.warn(msg)\n"
     ]
    },
    {
     "name": "stdout",
     "output_type": "stream",
     "text": [
      "Epoch 1/3\n",
      "  Train Loss: 1.0080 | Age Acc: 0.7208 | Gender Acc: 0.8837\n",
      "  Val   Loss: 0.7532 | Age Acc: 0.7924 | Gender Acc: 0.9264\n"
     ]
    },
    {
     "name": "stderr",
     "output_type": "stream",
     "text": []
    },
    {
     "name": "stdout",
     "output_type": "stream",
     "text": [
      "Epoch 2/3\n",
      "  Train Loss: 0.6156 | Age Acc: 0.8199 | Gender Acc: 0.9456\n",
      "  Val   Loss: 0.7658 | Age Acc: 0.7853 | Gender Acc: 0.9218\n"
     ]
    },
    {
     "name": "stderr",
     "output_type": "stream",
     "text": []
    },
    {
     "name": "stdout",
     "output_type": "stream",
     "text": [
      "Epoch 3/3\n",
      "  Train Loss: 0.3966 | Age Acc: 0.8783 | Gender Acc: 0.9700\n",
      "  Val   Loss: 0.8470 | Age Acc: 0.7822 | Gender Acc: 0.9255\n"
     ]
    }
   ],
   "source": [
    "model_2, val_loss_2, val_acc_age_2, val_acc_gender_2 = train_and_validate_model(\n",
    "    batch_size=64,\n",
    "    lr=1e-4,\n",
    "    dropout=0.5\n",
    ")\n",
    "\n",
    "metrics_2 = {\n",
    "    'batch_size': 64,\n",
    "    'learning_rate': 1e-4,\n",
    "    'dropout': 0.5,\n",
    "    'val_loss': val_loss_2,\n",
    "    'val_acc_age': val_acc_age_2,\n",
    "    'val_acc_gender': val_acc_gender_2\n",
    "}\n",
    "\n",
    "with open('results/metrics_model_2.json', 'w') as f:\n",
    "    json.dump(metrics_2, f, indent=4)\n",
    "\n",
    "torch.save(model_2.state_dict(), 'results/model_2_weights.pt')"
   ]
  },
  {
   "cell_type": "code",
   "execution_count": null,
   "metadata": {
    "colab": {
     "base_uri": "https://localhost:8080/",
     "height": 880
    },
    "executionInfo": {
     "elapsed": 416549,
     "status": "ok",
     "timestamp": 1744428984792,
     "user": {
      "displayName": "Татьяна Стрельницкая",
      "userId": "08357198606275998011"
     },
     "user_tz": -180
    },
    "id": "_4GwxcUzVxqe",
    "outputId": "4e85aae5-6749-4f70-e5b3-5dec519bc621"
   },
   "outputs": [
    {
     "data": {
      "image/png": "[encoded data removed]",
      "text/plain": [
       "<Figure size 600x500 with 2 Axes>"
      ]
     },
     "metadata": {},
     "output_type": "display_data"
    },
    {
     "data": {
      "image/png": "[encoded data removed]",
      "text/plain": [
       "<Figure size 400x400 with 2 Axes>"
      ]
     },
     "metadata": {},
     "output_type": "display_data"
    }
   ],
   "source": [
    "val_loader_2 = DataLoader(\n",
    "    FaceDataset(val_df, transform=image_transforms),\n",
    "    batch_size=64,\n",
    "    shuffle=False\n",
    ")\n",
    "\n",
    "all_age_preds_2, all_age_labels_2 = [], []\n",
    "all_gender_preds_2, all_gender_labels_2 = [], []\n",
    "\n",
    "model_2.eval()\n",
    "with torch.no_grad():\n",
    "    for images, labels in val_loader_2:\n",
    "        images = images.to(device)\n",
    "        age_labels = labels['age'].to(device)\n",
    "        gender_labels = labels['gender'].to(device)\n",
    "\n",
    "        outputs = model_2(images)\n",
    "        age_preds = torch.argmax(outputs['age'], dim=1)\n",
    "        gender_preds = torch.argmax(outputs['gender'], dim=1)\n",
    "\n",
    "        all_age_preds_2.extend(age_preds.cpu().numpy())\n",
    "        all_age_labels_2.extend(age_labels.cpu().numpy())\n",
    "        all_gender_preds_2.extend(gender_preds.cpu().numpy())\n",
    "        all_gender_labels_2.extend(gender_labels.cpu().numpy())\n",
    "\n",
    "cm_age_2 = confusion_matrix(all_age_labels_2, all_age_preds_2)\n",
    "plt.figure(figsize=(6,5))\n",
    "sns.heatmap(cm_age_2, annot=True, fmt='d', cmap='Blues')\n",
    "plt.title('Confusion Matrix — Age (Model 2)')\n",
    "plt.xlabel('Predicted')\n",
    "plt.ylabel('True')\n",
    "plt.savefig('results/confusion_age_model_2.png')\n",
    "plt.show()\n",
    "\n",
    "cm_gender_2 = confusion_matrix(all_gender_labels_2, all_gender_preds_2)\n",
    "plt.figure(figsize=(4,4))\n",
    "sns.heatmap(cm_gender_2, annot=True, fmt='d', cmap='Oranges')\n",
    "plt.title('Confusion Matrix — Gender (Model 2)')\n",
    "plt.xlabel('Predicted')\n",
    "plt.ylabel('True')\n",
    "plt.savefig('results/confusion_gender_model_2.png')\n",
    "plt.show()"
   ]
  },
  {
   "cell_type": "markdown",
   "metadata": {
    "id": "Xl_V7SCERNpk"
   },
   "source": [
    "### Обучение и результаты третьей модели"
   ]
  },
  {
   "cell_type": "code",
   "execution_count": null,
   "metadata": {
    "colab": {
     "base_uri": "https://localhost:8080/",
     "height": 491
    },
    "executionInfo": {
     "elapsed": 13095886,
     "status": "error",
     "timestamp": 1744463595937,
     "user": {
      "displayName": "Татьяна Стрельницкая",
      "userId": "08357198606275998011"
     },
     "user_tz": -180
    },
    "id": "bdDffqqxV8iC",
    "outputId": "6e70a7b9-eda7-49aa-d8e2-5ef003e19844"
   },
   "outputs": [
    {
     "name": "stderr",
     "output_type": "stream",
     "text": [
      "/usr/local/lib/python3.11/dist-packages/torchvision/models/_utils.py:208: UserWarning: The parameter 'pretrained' is deprecated since 0.13 and may be removed in the future, please use 'weights' instead.\n",
      "  warnings.warn(\n",
      "/usr/local/lib/python3.11/dist-packages/torchvision/models/_utils.py:223: UserWarning: Arguments other than a weight enum or `None` for 'weights' are deprecated since 0.13 and may be removed in the future. The current behavior is equivalent to passing `weights=ResNet18_Weights.IMAGENET1K_V1`. You can also use `weights=ResNet18_Weights.DEFAULT` to get the most up-to-date weights.\n",
      "  warnings.warn(msg)\n",
      "Downloading: \"https://download.pytorch.org/models/resnet18-f37072fd.pth\" to /root/.cache/torch/hub/checkpoints/resnet18-f37072fd.pth\n",
      "100%|██████████| 44.7M/44.7M [00:01<00:00, 25.9MB/s]\n"
     ]
    },
    {
     "name": "stdout",
     "output_type": "stream",
     "text": [
      "Epoch 1/3\n",
      "  Train Loss: 0.9822 | Age Acc: 0.7338 | Gender Acc: 0.8813\n",
      "  Val   Loss: 0.7818 | Age Acc: 0.7859 | Gender Acc: 0.9038\n"
     ]
    },
    {
     "name": "stderr",
     "output_type": "stream",
     "text": []
    },
    {
     "name": "stdout",
     "output_type": "stream",
     "text": [
      "Epoch 2/3\n",
      "  Train Loss: 0.6245 | Age Acc: 0.8190 | Gender Acc: 0.9419\n",
      "  Val   Loss: 0.7771 | Age Acc: 0.7787 | Gender Acc: 0.9222\n"
     ]
    },
    {
     "name": "stderr",
     "output_type": "stream",
     "text": []
    },
    {
     "name": "stdout",
     "output_type": "stream",
     "text": [
      "Epoch 3/3\n",
      "  Train Loss: 0.4209 | Age Acc: 0.8732 | Gender Acc: 0.9647\n",
      "  Val   Loss: 0.8364 | Age Acc: 0.7658 | Gender Acc: 0.9214\n"
     ]
    },
    {
     "ename": "FileNotFoundError",
     "evalue": "[Errno 2] No such file or directory: 'results/metrics_model_3.json'",
     "output_type": "error",
     "traceback": [
      "\u001b[0;31m---------------------------------------------------------------------------\u001b[0m",
      "\u001b[0;31mFileNotFoundError\u001b[0m                         Traceback (most recent call last)",
      "\u001b[0;32m<ipython-input-14-50a5337d82b3>\u001b[0m in \u001b[0;36m<cell line: 0>\u001b[0;34m()\u001b[0m\n\u001b[1;32m     16\u001b[0m }\n\u001b[1;32m     17\u001b[0m \u001b[0;34m\u001b[0m\u001b[0m\n\u001b[0;32m---> 18\u001b[0;31m \u001b[0;32mwith\u001b[0m \u001b[0mopen\u001b[0m\u001b[0;34m(\u001b[0m\u001b[0;34m'results/metrics_model_3.json'\u001b[0m\u001b[0;34m,\u001b[0m \u001b[0;34m'w'\u001b[0m\u001b[0;34m)\u001b[0m \u001b[0;32mas\u001b[0m \u001b[0mf\u001b[0m\u001b[0;34m:\u001b[0m\u001b[0;34m\u001b[0m\u001b[0;34m\u001b[0m\u001b[0m\n\u001b[0m\u001b[1;32m     19\u001b[0m     \u001b[0mjson\u001b[0m\u001b[0;34m.\u001b[0m\u001b[0mdump\u001b[0m\u001b[0;34m(\u001b[0m\u001b[0mmetrics_3\u001b[0m\u001b[0;34m,\u001b[0m \u001b[0mf\u001b[0m\u001b[0;34m,\u001b[0m \u001b[0mindent\u001b[0m\u001b[0;34m=\u001b[0m\u001b[0;36m4\u001b[0m\u001b[0;34m)\u001b[0m\u001b[0;34m\u001b[0m\u001b[0;34m\u001b[0m\u001b[0m\n\u001b[1;32m     20\u001b[0m \u001b[0;34m\u001b[0m\u001b[0m\n",
      "\u001b[0;31mFileNotFoundError\u001b[0m: [Errno 2] No such file or directory: 'results/metrics_model_3.json'"
     ]
    }
   ],
   "source": [
    "model_3, val_loss_3, val_acc_age_3, val_acc_gender_3 = train_and_validate_model(\n",
    "    batch_size=32,\n",
    "    lr=1e-4,\n",
    "    dropout=0.3\n",
    ")\n",
    "\n",
    "metrics_3 = {\n",
    "    'batch_size': 32,\n",
    "    'learning_rate': 1e-4,\n",
    "    'dropout': 0.3,\n",
    "    'val_loss': val_loss_3,\n",
    "    'val_acc_age': val_acc_age_3,\n",
    "    'val_acc_gender': val_acc_gender_3\n",
    "}"
   ]
  },
  {
   "cell_type": "markdown",
   "metadata": {
    "id": "P1uycmIRRn4X"
   },
   "source": [
    "Тут немного навернулась система, но чтобы не обучать повторно, было решено оставить так"
   ]
  },
  {
   "cell_type": "code",
   "execution_count": null,
   "metadata": {
    "id": "N12bHxRDJtMP"
   },
   "outputs": [],
   "source": [
    "os.makedirs('results', exist_ok=True)\n",
    "with open('results/metrics_model_3.json', 'w') as f:\n",
    "    json.dump(metrics_3, f, indent=4)\n",
    "\n",
    "torch.save(model_3.state_dict(), 'results/model_3_weights.pt')"
   ]
  },
  {
   "cell_type": "code",
   "execution_count": null,
   "metadata": {
    "colab": {
     "base_uri": "https://localhost:8080/",
     "height": 880
    },
    "executionInfo": {
     "elapsed": 504924,
     "status": "ok",
     "timestamp": 1744464619146,
     "user": {
      "displayName": "Татьяна Стрельницкая",
      "userId": "08357198606275998011"
     },
     "user_tz": -180
    },
    "id": "FTySDz-EWB5R",
    "outputId": "326f5001-f8a6-45d8-a9ab-6a6c7b2d596c"
   },
   "outputs": [
    {
     "data": {
      "image/png": "[encoded data removed]",
      "text/plain": [
       "<Figure size 600x500 with 2 Axes>"
      ]
     },
     "metadata": {},
     "output_type": "display_data"
    },
    {
     "data": {
      "image/png": "[encoded data removed]",
      "text/plain": [
       "<Figure size 400x400 with 2 Axes>"
      ]
     },
     "metadata": {},
     "output_type": "display_data"
    }
   ],
   "source": [
    "val_loader_3 = DataLoader(\n",
    "    FaceDataset(val_df, transform=image_transforms),\n",
    "    batch_size=32,\n",
    "    shuffle=False\n",
    ")\n",
    "\n",
    "all_age_preds_3, all_age_labels_3 = [], []\n",
    "all_gender_preds_3, all_gender_labels_3 = [], []\n",
    "\n",
    "model_3.eval()\n",
    "with torch.no_grad():\n",
    "    for images, labels in val_loader_3:\n",
    "        images = images.to(device)\n",
    "        age_labels = labels['age'].to(device)\n",
    "        gender_labels = labels['gender'].to(device)\n",
    "\n",
    "        outputs = model_3(images)\n",
    "        age_preds = torch.argmax(outputs['age'], dim=1)\n",
    "        gender_preds = torch.argmax(outputs['gender'], dim=1)\n",
    "\n",
    "        all_age_preds_3.extend(age_preds.cpu().numpy())\n",
    "        all_age_labels_3.extend(age_labels.cpu().numpy())\n",
    "        all_gender_preds_3.extend(gender_preds.cpu().numpy())\n",
    "        all_gender_labels_3.extend(gender_labels.cpu().numpy())\n",
    "\n",
    "cm_age_3 = confusion_matrix(all_age_labels_3, all_age_preds_3)\n",
    "plt.figure(figsize=(6,5))\n",
    "sns.heatmap(cm_age_3, annot=True, fmt='d', cmap='Blues')\n",
    "plt.title('Confusion Matrix — Age (Model 3)')\n",
    "plt.xlabel('Predicted')\n",
    "plt.ylabel('True')\n",
    "plt.savefig('results/confusion_age_model_3.png')\n",
    "plt.show()\n",
    "\n",
    "cm_gender_3 = confusion_matrix(all_gender_labels_3, all_gender_preds_3)\n",
    "plt.figure(figsize=(4,4))\n",
    "sns.heatmap(cm_gender_3, annot=True, fmt='d', cmap='Oranges')\n",
    "plt.title('Confusion Matrix — Gender (Model 3)')\n",
    "plt.xlabel('Predicted')\n",
    "plt.ylabel('True')\n",
    "plt.savefig('results/confusion_gender_model_3.png')\n",
    "plt.show()"
   ]
  },
  {
   "cell_type": "markdown",
   "metadata": {
    "id": "DpZ9bBkVR3q3"
   },
   "source": [
    "Вывод: лучшая модель - вторая, судя по значениям в матрицах путаницы и значениям как по возрасту, так и по гендеру"
   ]
  }
 ],
 "metadata": {
  "colab": {
   "authorship_tag": "ABX9TyNhDLd4AcUdEz7sKpkh58NK",
   "mount_file_id": "1f3IYrS6Zo7iIK1yWqfjbWNz9HQ5MtEXs",
   "provenance": []
  },
  "kernelspec": {
   "display_name": "Python 3",
   "name": "python3"
  },
  "language_info": {
   "name": "python"
  }
 },
 "nbformat": 4,
 "nbformat_minor": 0
}
