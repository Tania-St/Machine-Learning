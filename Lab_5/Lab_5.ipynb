{
 "cells": [
  {
   "cell_type": "markdown",
   "metadata": {
    "id": "IH9-L-q1XBBe"
   },
   "source": [
    "# Лабораторная работа №5. Машинное обучение"
   ]
  },
  {
   "cell_type": "markdown",
   "metadata": {
    "id": "CDwFnAKvAEtE"
   },
   "source": [
    "## 1. Анализ и предобработка данных"
   ]
  },
  {
   "cell_type": "code",
   "execution_count": 127,
   "metadata": {
    "executionInfo": {
     "elapsed": 13,
     "status": "ok",
     "timestamp": 1744274221250,
     "user": {
      "displayName": "Татьяна Стрельницкая",
      "userId": "08357198606275998011"
     },
     "user_tz": -180
    },
    "id": "qz36FRZQWLmp"
   },
   "outputs": [],
   "source": [
    "import numpy as np\n",
    "import pandas as pd\n",
    "import matplotlib.pyplot as plt\n",
    "import seaborn as sns\n",
    "from sklearn.preprocessing import StandardScaler\n",
    "\n",
    "from collections import defaultdict\n",
    "from sklearn.preprocessing import MultiLabelBinarizer\n",
    "from collections import Counter\n",
    "\n",
    "import torch\n",
    "import torch.nn as nn\n",
    "import torch.optim as optim\n",
    "from sklearn.model_selection import train_test_split\n",
    "from torch.utils.data import DataLoader, TensorDataset\n",
    "\n",
    "import torch.nn.functional as F\n",
    "from sklearn.metrics import mean_squared_error"
   ]
  },
  {
   "cell_type": "code",
   "execution_count": null,
   "metadata": {
    "executionInfo": {
     "elapsed": 85,
     "status": "ok",
     "timestamp": 1744274221334,
     "user": {
      "displayName": "Татьяна Стрельницкая",
      "userId": "08357198606275998011"
     },
     "user_tz": -180
    },
    "id": "VX-dNEaaXLcd"
   },
   "outputs": [],
   "source": [
    "movies = pd.read_csv('./mkrf_movies.csv')\n",
    "shows = pd.read_csv('./mkrf_shows.csv')"
   ]
  },
  {
   "cell_type": "code",
   "execution_count": 129,
   "metadata": {
    "colab": {
     "base_uri": "https://localhost:8080/",
     "height": 712
    },
    "executionInfo": {
     "elapsed": 189,
     "status": "ok",
     "timestamp": 1744274221524,
     "user": {
      "displayName": "Татьяна Стрельницкая",
      "userId": "08357198606275998011"
     },
     "user_tz": -180
    },
    "id": "AjbQGwKqXlFl",
    "outputId": "3d27d4a3-8ca0-4970-9b4a-d74525988ea0"
   },
   "outputs": [
    {
     "data": {
      "application/vnd.google.colaboratory.intrinsic+json": {
       "summary": "{\n  \"name\": \"movies\",\n  \"rows\": 7486,\n  \"fields\": [\n    {\n      \"column\": \"title\",\n      \"properties\": {\n        \"dtype\": \"string\",\n        \"num_unique_values\": 6772,\n        \"samples\": [\n          \"\\u041c\\u0430\\u043b\\u0435\\u043d\\u044c\\u043a\\u0438\\u0435 \\u043b\\u044e\\u0434\\u0438\",\n          \"\\u0412\\u0434\\u0440\\u0435\\u0431\\u0435\\u0437\\u0433\\u0438_\",\n          \"\\u041c\\u043e\\u043d\\u043e\\u043b\\u043e\\u0433 \\u0432 4-\\u0445 \\u0447\\u0430\\u0441\\u0442\\u044f\\u0445. \\u0410\\u043b\\u0435\\u043a\\u0441\\u0430\\u043d\\u0434\\u0440 \\u041a\\u0430\\u043b\\u044f\\u0433\\u0438\\u043d\"\n        ],\n        \"semantic_type\": \"\",\n        \"description\": \"\"\n      }\n    },\n    {\n      \"column\": \"puNumber\",\n      \"properties\": {\n        \"dtype\": \"string\",\n        \"num_unique_values\": 7484,\n        \"samples\": [\n          \"111019015\",\n          \"124003519\",\n          \"111001416\"\n        ],\n        \"semantic_type\": \"\",\n        \"description\": \"\"\n      }\n    },\n    {\n      \"column\": \"show_start_date\",\n      \"properties\": {\n        \"dtype\": \"object\",\n        \"num_unique_values\": 1965,\n        \"samples\": [\n          \"2019-10-26T12:00:00.000Z\",\n          \"2011-11-18T12:00:00.000Z\",\n          \"2017-03-21T12:00:00.000Z\"\n        ],\n        \"semantic_type\": \"\",\n        \"description\": \"\"\n      }\n    },\n    {\n      \"column\": \"type\",\n      \"properties\": {\n        \"dtype\": \"category\",\n        \"num_unique_values\": 8,\n        \"samples\": [\n          \"\\u0410\\u043d\\u0438\\u043c\\u0430\\u0446\\u0438\\u043e\\u043d\\u043d\\u044b\\u0439\",\n          \" \\u0425\\u0443\\u0434\\u043e\\u0436\\u0435\\u0441\\u0442\\u0432\\u0435\\u043d\\u043d\\u044b\\u0439\",\n          \"\\u0425\\u0443\\u0434\\u043e\\u0436\\u0435\\u0441\\u0442\\u0432\\u0435\\u043d\\u043d\\u044b\\u0439\"\n        ],\n        \"semantic_type\": \"\",\n        \"description\": \"\"\n      }\n    },\n    {\n      \"column\": \"film_studio\",\n      \"properties\": {\n        \"dtype\": \"string\",\n        \"num_unique_values\": 5490,\n        \"samples\": [\n          \"\\u041e\\u041e\\u041e \\\"\\u041a\\u0438\\u043d\\u043e\\u0441\\u0442\\u0443\\u0434\\u0438\\u044f \\u0410\\u0437\\u0438\\u044f-\\u0444\\u0438\\u043b\\u044c\\u043c\\\"\",\n          \"\\u0411\\u0443\\u0435\\u043d\\u0430 \\u0412\\u0438\\u0441\\u0442\\u0430 \\u0418\\u043d\\u0442\\u0435\\u0440\\u043d\\u044d\\u0448\\u043d\\u043b \\u0424\\u0438\\u043b\\u043c \\u041f\\u0440\\u043e\\u0434\\u0430\\u043a\\u0448\\u043d, \\u0424\\u0438\\u043b\\u044c\\u043c\\u0448\\u0442\\u0438\\u0444\\u0442\\u0443\\u043d\\u0433 \\u0421\\u0435\\u0432\\u0435\\u0440\\u043d\\u044b\\u0439 \\u0420\\u0435\\u0439\\u043d-\\u0412\\u0435\\u0441\\u0442\\u0444\\u0430\\u043b\\u0438\\u044f, \\u041c\\u0438\\u0441\\u0442\\u0435\\u0440 \\u0411\\u0440\\u0430\\u0443\\u043d \\u0418\\u043d\\u0442\\u0435\\u0440\\u0442\\u0435\\u0439\\u043d\\u043c\\u0435\\u043d\\u0442, \\u0411\\u044d\\u0440\\u0444\\u0443\\u0442 \\u0424\\u0438\\u043b\\u043c\\u0441\",\n          \"\\u041f\\u043e\\u0442\\u0431\\u043e\\u0439\\u043b\\u0435\\u0440 \\u041f\\u0440\\u043e\\u0434\\u0430\\u043a\\u0448\\u043d\\u0437, \\u042d\\u043f\\u0441\\u0438\\u043b\\u043e\\u043d \\u041c\\u043e\\u0443\\u0448\\u043d \\u041f\\u0438\\u043a\\u0447\\u0435\\u0440\\u0437, \\u0421\\u043a\\u0430\\u0439\\u043e\\u043d \\u0424\\u0438\\u043b\\u043c\\u0437 \\u041b\\u0438\\u043c\\u0438\\u0442\\u0435\\u0434, \\u042e\\u041a \\u0424\\u0438\\u043b\\u043c \\u041a\\u0430\\u0443\\u043d\\u0441\\u0438\\u043b\"\n        ],\n        \"semantic_type\": \"\",\n        \"description\": \"\"\n      }\n    },\n    {\n      \"column\": \"production_country\",\n      \"properties\": {\n        \"dtype\": \"category\",\n        \"num_unique_values\": 950,\n        \"samples\": [\n          \"\\u0424\\u0440\\u0430\\u043d\\u0446\\u0438\\u044f-\\u0418\\u043d\\u0434\\u0438\\u044f\",\n          \"\\u0418\\u0442\\u0430\\u043b\\u0438\\u044f - \\u0411\\u0435\\u043b\\u044c\\u0433\\u0438\\u044f - \\u0424\\u0440\\u0430\\u043d\\u0446\\u0438\\u044f\",\n          \"\\u0421\\u0428\\u0410 - \\u041e\\u0431\\u044a\\u0435\\u0434\\u0438\\u043d\\u0435\\u043d\\u043d\\u044b\\u0435 \\u0410\\u0440\\u0430\\u0431\\u0441\\u043a\\u0438\\u0435 \\u042d\\u043c\\u0438\\u0440\\u0430\\u0442\\u044b\"\n        ],\n        \"semantic_type\": \"\",\n        \"description\": \"\"\n      }\n    },\n    {\n      \"column\": \"director\",\n      \"properties\": {\n        \"dtype\": \"string\",\n        \"num_unique_values\": 4811,\n        \"samples\": [\n          \"\\u0414\\u0430\\u043d\\u0438\\u044d\\u043b \\u0410\\u0443\\u0433\\u0443\\u0441\\u0442\\u0443\",\n          \"\\u0410.\\u041c\\u0430\\u0447\\u0435\\u0440\\u0435\\u0442\",\n          \"\\u0422\\u043e\\u043d\\u0438 \\u0413\\u0438\\u043b\\u0440\\u043e\\u0439\"\n        ],\n        \"semantic_type\": \"\",\n        \"description\": \"\"\n      }\n    },\n    {\n      \"column\": \"producer\",\n      \"properties\": {\n        \"dtype\": \"string\",\n        \"num_unique_values\": 5349,\n        \"samples\": [\n          \"\\u042d\\u043b\\u0438\\u0437\\u0430\\u0431\\u0435\\u0442 \\u0411\\u044d\\u0439\\u043a\\u0435\\u0440, \\u041a\\u0430\\u0439\\u043b \\u041a\\u0435\\u0440\\u043d\\u0430\\u043d\",\n          \"\\u041a\\u0440\\u0438\\u0441\\u0442\\u0438\\u043d \\u0411\\u0435\\u0440\\u0440, \\u0411\\u0440\\u0430\\u0439\\u044d\\u043c \\u0422\\u0435\\u0439\\u043b\\u043e\\u0440\",\n          \"\\u0421\\u0430\\u043d\\u0434\\u0440\\u043e \\u0410\\u0433\\u0438\\u043b\\u044f\\u0440, \\u041b\\u0443\\u0438\\u0441 \\u0423\\u0440\\u0431\\u0430\\u043d\\u043e, \\u041c\\u0430\\u0440\\u0435\\u043d \\u042d\\u0434\"\n        ],\n        \"semantic_type\": \"\",\n        \"description\": \"\"\n      }\n    },\n    {\n      \"column\": \"age_restriction\",\n      \"properties\": {\n        \"dtype\": \"category\",\n        \"num_unique_values\": 5,\n        \"samples\": [\n          \"\\u00ab6+\\u00bb - \\u0434\\u043b\\u044f \\u0434\\u0435\\u0442\\u0435\\u0439 \\u0441\\u0442\\u0430\\u0440\\u0448\\u0435 6 \\u043b\\u0435\\u0442\",\n          \"\\u00ab0+\\u00bb - \\u0434\\u043b\\u044f \\u043b\\u044e\\u0431\\u043e\\u0439 \\u0437\\u0440\\u0438\\u0442\\u0435\\u043b\\u044c\\u0441\\u043a\\u043e\\u0439 \\u0430\\u0443\\u0434\\u0438\\u0442\\u043e\\u0440\\u0438\\u0438\",\n          \"\\u00ab12+\\u00bb - \\u0434\\u043b\\u044f \\u0434\\u0435\\u0442\\u0435\\u0439 \\u0441\\u0442\\u0430\\u0440\\u0448\\u0435 12 \\u043b\\u0435\\u0442\"\n        ],\n        \"semantic_type\": \"\",\n        \"description\": \"\"\n      }\n    },\n    {\n      \"column\": \"refundable_support\",\n      \"properties\": {\n        \"dtype\": \"number\",\n        \"std\": 24916555.26364432,\n        \"min\": 0.0,\n        \"max\": 180000000.0,\n        \"num_unique_values\": 34,\n        \"samples\": [\n          3500000.0,\n          110000000.0,\n          7346881.0\n        ],\n        \"semantic_type\": \"\",\n        \"description\": \"\"\n      }\n    },\n    {\n      \"column\": \"nonrefundable_support\",\n      \"properties\": {\n        \"dtype\": \"number\",\n        \"std\": 59980117.92330065,\n        \"min\": 0.0,\n        \"max\": 400000000.0,\n        \"num_unique_values\": 75,\n        \"samples\": [\n          25000000.0,\n          225000000.0,\n          40000000.0\n        ],\n        \"semantic_type\": \"\",\n        \"description\": \"\"\n      }\n    },\n    {\n      \"column\": \"budget\",\n      \"properties\": {\n        \"dtype\": \"number\",\n        \"std\": 188588333.11515832,\n        \"min\": 0.0,\n        \"max\": 2305074303.0,\n        \"num_unique_values\": 290,\n        \"samples\": [\n          211810247.0,\n          47200000.0,\n          112000000.0\n        ],\n        \"semantic_type\": \"\",\n        \"description\": \"\"\n      }\n    },\n    {\n      \"column\": \"financing_source\",\n      \"properties\": {\n        \"dtype\": \"category\",\n        \"num_unique_values\": 3,\n        \"samples\": [\n          \"\\u041c\\u0438\\u043d\\u0438\\u0441\\u0442\\u0435\\u0440\\u0441\\u0442\\u0432\\u043e \\u043a\\u0443\\u043b\\u044c\\u0442\\u0443\\u0440\\u044b\",\n          \"\\u0424\\u043e\\u043d\\u0434 \\u043a\\u0438\\u043d\\u043e\",\n          \"\\u041c\\u0438\\u043d\\u0438\\u0441\\u0442\\u0435\\u0440\\u0441\\u0442\\u0432\\u043e \\u043a\\u0443\\u043b\\u044c\\u0442\\u0443\\u0440\\u044b, \\u0424\\u043e\\u043d\\u0434 \\u043a\\u0438\\u043d\\u043e\"\n        ],\n        \"semantic_type\": \"\",\n        \"description\": \"\"\n      }\n    },\n    {\n      \"column\": \"ratings\",\n      \"properties\": {\n        \"dtype\": \"category\",\n        \"num_unique_values\": 94,\n        \"samples\": [\n          \"4.5\",\n          \"6.7\",\n          \"3.9\"\n        ],\n        \"semantic_type\": \"\",\n        \"description\": \"\"\n      }\n    },\n    {\n      \"column\": \"genres\",\n      \"properties\": {\n        \"dtype\": \"category\",\n        \"num_unique_values\": 742,\n        \"samples\": [\n          \"\\u0443\\u0436\\u0430\\u0441\\u044b,\\u0444\\u044d\\u043d\\u0442\\u0435\\u0437\\u0438,\\u0442\\u0440\\u0438\\u043b\\u043b\\u0435\\u0440\",\n          \"\\u0444\\u044d\\u043d\\u0442\\u0435\\u0437\\u0438,\\u0431\\u043e\\u0435\\u0432\\u0438\\u043a,\\u0442\\u0440\\u0438\\u043b\\u043b\\u0435\\u0440\",\n          \"\\u043a\\u043e\\u043c\\u0435\\u0434\\u0438\\u044f,\\u043f\\u0440\\u0438\\u043a\\u043b\\u044e\\u0447\\u0435\\u043d\\u0438\\u044f,\\u0444\\u044d\\u043d\\u0442\\u0435\\u0437\\u0438\"\n        ],\n        \"semantic_type\": \"\",\n        \"description\": \"\"\n      }\n    }\n  ]\n}",
       "type": "dataframe",
       "variable_name": "movies"
      },
      "text/html": [
       "\n",
       "  <div id=\"df-dca2f275-fbfc-4cc2-abf7-371511940c95\" class=\"colab-df-container\">\n",
       "    <div>\n",
       "<style scoped>\n",
       "    .dataframe tbody tr th:only-of-type {\n",
       "        vertical-align: middle;\n",
       "    }\n",
       "\n",
       "    .dataframe tbody tr th {\n",
       "        vertical-align: top;\n",
       "    }\n",
       "\n",
       "    .dataframe thead th {\n",
       "        text-align: right;\n",
       "    }\n",
       "</style>\n",
       "<table border=\"1\" class=\"dataframe\">\n",
       "  <thead>\n",
       "    <tr style=\"text-align: right;\">\n",
       "      <th></th>\n",
       "      <th>title</th>\n",
       "      <th>puNumber</th>\n",
       "      <th>show_start_date</th>\n",
       "      <th>type</th>\n",
       "      <th>film_studio</th>\n",
       "      <th>production_country</th>\n",
       "      <th>director</th>\n",
       "      <th>producer</th>\n",
       "      <th>age_restriction</th>\n",
       "      <th>refundable_support</th>\n",
       "      <th>nonrefundable_support</th>\n",
       "      <th>budget</th>\n",
       "      <th>financing_source</th>\n",
       "      <th>ratings</th>\n",
       "      <th>genres</th>\n",
       "    </tr>\n",
       "  </thead>\n",
       "  <tbody>\n",
       "    <tr>\n",
       "      <th>0</th>\n",
       "      <td>Открытый простор</td>\n",
       "      <td>221048915</td>\n",
       "      <td>2015-11-27T12:00:00.000Z</td>\n",
       "      <td>Художественный</td>\n",
       "      <td>Тачстоун Пикчерз, Кобальт Пикчерз, Бикон Пикче...</td>\n",
       "      <td>США</td>\n",
       "      <td>Кевин Костнер</td>\n",
       "      <td>Дэвид Валдес, Кевин Костнер, Джейк Эбертс</td>\n",
       "      <td>«18+» - запрещено для детей</td>\n",
       "      <td>NaN</td>\n",
       "      <td>NaN</td>\n",
       "      <td>NaN</td>\n",
       "      <td>NaN</td>\n",
       "      <td>7.2</td>\n",
       "      <td>боевик,драма,мелодрама</td>\n",
       "    </tr>\n",
       "    <tr>\n",
       "      <th>1</th>\n",
       "      <td>Особо важное задание</td>\n",
       "      <td>111013716</td>\n",
       "      <td>2016-09-13T12:00:00.000Z</td>\n",
       "      <td>Художественный</td>\n",
       "      <td>Киностудия \"Мосфильм\"</td>\n",
       "      <td>СССР</td>\n",
       "      <td>Е.Матвеев</td>\n",
       "      <td>NaN</td>\n",
       "      <td>«6+» - для детей старше 6 лет</td>\n",
       "      <td>NaN</td>\n",
       "      <td>NaN</td>\n",
       "      <td>NaN</td>\n",
       "      <td>NaN</td>\n",
       "      <td>6.6</td>\n",
       "      <td>драма,военный</td>\n",
       "    </tr>\n",
       "    <tr>\n",
       "      <th>2</th>\n",
       "      <td>Особо опасен</td>\n",
       "      <td>221038416</td>\n",
       "      <td>2016-10-10T12:00:00.000Z</td>\n",
       "      <td>Художественный</td>\n",
       "      <td>Юниверсал Пикчерз, Кикстарт Продакшнз, Марк Пл...</td>\n",
       "      <td>США</td>\n",
       "      <td>Тимур Бекмамбетов</td>\n",
       "      <td>Джим Лемли, Джейсон Нетер, Марк Е.Платт, Яйн Смит</td>\n",
       "      <td>«18+» - запрещено для детей</td>\n",
       "      <td>NaN</td>\n",
       "      <td>NaN</td>\n",
       "      <td>NaN</td>\n",
       "      <td>NaN</td>\n",
       "      <td>6.8</td>\n",
       "      <td>фантастика,боевик,триллер</td>\n",
       "    </tr>\n",
       "    <tr>\n",
       "      <th>3</th>\n",
       "      <td>Особо опасен</td>\n",
       "      <td>221026916</td>\n",
       "      <td>2016-06-10T12:00:00.000Z</td>\n",
       "      <td>Художественный</td>\n",
       "      <td>Юниверсал Пикчерз, Кикстарт Продакшнз, Марк Пл...</td>\n",
       "      <td>США</td>\n",
       "      <td>Тимур Бекмамбетов</td>\n",
       "      <td>Джим Лемли, Джейсон Нетер, Марк Е.Платт, Яйн Смит</td>\n",
       "      <td>«18+» - запрещено для детей</td>\n",
       "      <td>NaN</td>\n",
       "      <td>NaN</td>\n",
       "      <td>NaN</td>\n",
       "      <td>NaN</td>\n",
       "      <td>6.8</td>\n",
       "      <td>фантастика,боевик,триллер</td>\n",
       "    </tr>\n",
       "    <tr>\n",
       "      <th>4</th>\n",
       "      <td>Особо опасен</td>\n",
       "      <td>221030815</td>\n",
       "      <td>2015-07-29T12:00:00.000Z</td>\n",
       "      <td>Художественный</td>\n",
       "      <td>Юниверсал Пикчерз, Кикстарт Продакшнз, Марк Пл...</td>\n",
       "      <td>США</td>\n",
       "      <td>Тимур Бекмамбетов</td>\n",
       "      <td>Джим Лемли, Джейсон Нетер, Марк Е.Платт, Яйн Смит</td>\n",
       "      <td>«18+» - запрещено для детей</td>\n",
       "      <td>NaN</td>\n",
       "      <td>NaN</td>\n",
       "      <td>NaN</td>\n",
       "      <td>NaN</td>\n",
       "      <td>6.8</td>\n",
       "      <td>фантастика,боевик,триллер</td>\n",
       "    </tr>\n",
       "  </tbody>\n",
       "</table>\n",
       "</div>\n",
       "    <div class=\"colab-df-buttons\">\n",
       "\n",
       "  <div class=\"colab-df-container\">\n",
       "    <button class=\"colab-df-convert\" onclick=\"convertToInteractive('df-dca2f275-fbfc-4cc2-abf7-371511940c95')\"\n",
       "            title=\"Convert this dataframe to an interactive table.\"\n",
       "            style=\"display:none;\">\n",
       "\n",
       "  <svg xmlns=\"http://www.w3.org/2000/svg\" height=\"24px\" viewBox=\"0 -960 960 960\">\n",
       "    <path d=\"M120-120v-720h720v720H120Zm60-500h600v-160H180v160Zm220 220h160v-160H400v160Zm0 220h160v-160H400v160ZM180-400h160v-160H180v160Zm440 0h160v-160H620v160ZM180-180h160v-160H180v160Zm440 0h160v-160H620v160Z\"/>\n",
       "  </svg>\n",
       "    </button>\n",
       "\n",
       "  <style>\n",
       "    .colab-df-container {\n",
       "      display:flex;\n",
       "      gap: 12px;\n",
       "    }\n",
       "\n",
       "    .colab-df-convert {\n",
       "      background-color: #E8F0FE;\n",
       "      border: none;\n",
       "      border-radius: 50%;\n",
       "      cursor: pointer;\n",
       "      display: none;\n",
       "      fill: #1967D2;\n",
       "      height: 32px;\n",
       "      padding: 0 0 0 0;\n",
       "      width: 32px;\n",
       "    }\n",
       "\n",
       "    .colab-df-convert:hover {\n",
       "      background-color: #E2EBFA;\n",
       "      box-shadow: 0px 1px 2px rgba(60, 64, 67, 0.3), 0px 1px 3px 1px rgba(60, 64, 67, 0.15);\n",
       "      fill: #174EA6;\n",
       "    }\n",
       "\n",
       "    .colab-df-buttons div {\n",
       "      margin-bottom: 4px;\n",
       "    }\n",
       "\n",
       "    [theme=dark] .colab-df-convert {\n",
       "      background-color: #3B4455;\n",
       "      fill: #D2E3FC;\n",
       "    }\n",
       "\n",
       "    [theme=dark] .colab-df-convert:hover {\n",
       "      background-color: #434B5C;\n",
       "      box-shadow: 0px 1px 3px 1px rgba(0, 0, 0, 0.15);\n",
       "      filter: drop-shadow(0px 1px 2px rgba(0, 0, 0, 0.3));\n",
       "      fill: #FFFFFF;\n",
       "    }\n",
       "  </style>\n",
       "\n",
       "    <script>\n",
       "      const buttonEl =\n",
       "        document.querySelector('#df-dca2f275-fbfc-4cc2-abf7-371511940c95 button.colab-df-convert');\n",
       "      buttonEl.style.display =\n",
       "        google.colab.kernel.accessAllowed ? 'block' : 'none';\n",
       "\n",
       "      async function convertToInteractive(key) {\n",
       "        const element = document.querySelector('#df-dca2f275-fbfc-4cc2-abf7-371511940c95');\n",
       "        const dataTable =\n",
       "          await google.colab.kernel.invokeFunction('convertToInteractive',\n",
       "                                                    [key], {});\n",
       "        if (!dataTable) return;\n",
       "\n",
       "        const docLinkHtml = 'Like what you see? Visit the ' +\n",
       "          '<a target=\"_blank\" href=https://colab.research.google.com/notebooks/data_table.ipynb>data table notebook</a>'\n",
       "          + ' to learn more about interactive tables.';\n",
       "        element.innerHTML = '';\n",
       "        dataTable['output_type'] = 'display_data';\n",
       "        await google.colab.output.renderOutput(dataTable, element);\n",
       "        const docLink = document.createElement('div');\n",
       "        docLink.innerHTML = docLinkHtml;\n",
       "        element.appendChild(docLink);\n",
       "      }\n",
       "    </script>\n",
       "  </div>\n",
       "\n",
       "\n",
       "<div id=\"df-a27044ef-5118-411b-bacd-17dba2a9b71f\">\n",
       "  <button class=\"colab-df-quickchart\" onclick=\"quickchart('df-a27044ef-5118-411b-bacd-17dba2a9b71f')\"\n",
       "            title=\"Suggest charts\"\n",
       "            style=\"display:none;\">\n",
       "\n",
       "<svg xmlns=\"http://www.w3.org/2000/svg\" height=\"24px\"viewBox=\"0 0 24 24\"\n",
       "     width=\"24px\">\n",
       "    <g>\n",
       "        <path d=\"M19 3H5c-1.1 0-2 .9-2 2v14c0 1.1.9 2 2 2h14c1.1 0 2-.9 2-2V5c0-1.1-.9-2-2-2zM9 17H7v-7h2v7zm4 0h-2V7h2v10zm4 0h-2v-4h2v4z\"/>\n",
       "    </g>\n",
       "</svg>\n",
       "  </button>\n",
       "\n",
       "<style>\n",
       "  .colab-df-quickchart {\n",
       "      --bg-color: #E8F0FE;\n",
       "      --fill-color: #1967D2;\n",
       "      --hover-bg-color: #E2EBFA;\n",
       "      --hover-fill-color: #174EA6;\n",
       "      --disabled-fill-color: #AAA;\n",
       "      --disabled-bg-color: #DDD;\n",
       "  }\n",
       "\n",
       "  [theme=dark] .colab-df-quickchart {\n",
       "      --bg-color: #3B4455;\n",
       "      --fill-color: #D2E3FC;\n",
       "      --hover-bg-color: #434B5C;\n",
       "      --hover-fill-color: #FFFFFF;\n",
       "      --disabled-bg-color: #3B4455;\n",
       "      --disabled-fill-color: #666;\n",
       "  }\n",
       "\n",
       "  .colab-df-quickchart {\n",
       "    background-color: var(--bg-color);\n",
       "    border: none;\n",
       "    border-radius: 50%;\n",
       "    cursor: pointer;\n",
       "    display: none;\n",
       "    fill: var(--fill-color);\n",
       "    height: 32px;\n",
       "    padding: 0;\n",
       "    width: 32px;\n",
       "  }\n",
       "\n",
       "  .colab-df-quickchart:hover {\n",
       "    background-color: var(--hover-bg-color);\n",
       "    box-shadow: 0 1px 2px rgba(60, 64, 67, 0.3), 0 1px 3px 1px rgba(60, 64, 67, 0.15);\n",
       "    fill: var(--button-hover-fill-color);\n",
       "  }\n",
       "\n",
       "  .colab-df-quickchart-complete:disabled,\n",
       "  .colab-df-quickchart-complete:disabled:hover {\n",
       "    background-color: var(--disabled-bg-color);\n",
       "    fill: var(--disabled-fill-color);\n",
       "    box-shadow: none;\n",
       "  }\n",
       "\n",
       "  .colab-df-spinner {\n",
       "    border: 2px solid var(--fill-color);\n",
       "    border-color: transparent;\n",
       "    border-bottom-color: var(--fill-color);\n",
       "    animation:\n",
       "      spin 1s steps(1) infinite;\n",
       "  }\n",
       "\n",
       "  @keyframes spin {\n",
       "    0% {\n",
       "      border-color: transparent;\n",
       "      border-bottom-color: var(--fill-color);\n",
       "      border-left-color: var(--fill-color);\n",
       "    }\n",
       "    20% {\n",
       "      border-color: transparent;\n",
       "      border-left-color: var(--fill-color);\n",
       "      border-top-color: var(--fill-color);\n",
       "    }\n",
       "    30% {\n",
       "      border-color: transparent;\n",
       "      border-left-color: var(--fill-color);\n",
       "      border-top-color: var(--fill-color);\n",
       "      border-right-color: var(--fill-color);\n",
       "    }\n",
       "    40% {\n",
       "      border-color: transparent;\n",
       "      border-right-color: var(--fill-color);\n",
       "      border-top-color: var(--fill-color);\n",
       "    }\n",
       "    60% {\n",
       "      border-color: transparent;\n",
       "      border-right-color: var(--fill-color);\n",
       "    }\n",
       "    80% {\n",
       "      border-color: transparent;\n",
       "      border-right-color: var(--fill-color);\n",
       "      border-bottom-color: var(--fill-color);\n",
       "    }\n",
       "    90% {\n",
       "      border-color: transparent;\n",
       "      border-bottom-color: var(--fill-color);\n",
       "    }\n",
       "  }\n",
       "</style>\n",
       "\n",
       "  <script>\n",
       "    async function quickchart(key) {\n",
       "      const quickchartButtonEl =\n",
       "        document.querySelector('#' + key + ' button');\n",
       "      quickchartButtonEl.disabled = true;  // To prevent multiple clicks.\n",
       "      quickchartButtonEl.classList.add('colab-df-spinner');\n",
       "      try {\n",
       "        const charts = await google.colab.kernel.invokeFunction(\n",
       "            'suggestCharts', [key], {});\n",
       "      } catch (error) {\n",
       "        console.error('Error during call to suggestCharts:', error);\n",
       "      }\n",
       "      quickchartButtonEl.classList.remove('colab-df-spinner');\n",
       "      quickchartButtonEl.classList.add('colab-df-quickchart-complete');\n",
       "    }\n",
       "    (() => {\n",
       "      let quickchartButtonEl =\n",
       "        document.querySelector('#df-a27044ef-5118-411b-bacd-17dba2a9b71f button');\n",
       "      quickchartButtonEl.style.display =\n",
       "        google.colab.kernel.accessAllowed ? 'block' : 'none';\n",
       "    })();\n",
       "  </script>\n",
       "</div>\n",
       "    </div>\n",
       "  </div>\n"
      ],
      "text/plain": [
       "                  title   puNumber           show_start_date            type  \\\n",
       "0      Открытый простор  221048915  2015-11-27T12:00:00.000Z  Художественный   \n",
       "1  Особо важное задание  111013716  2016-09-13T12:00:00.000Z  Художественный   \n",
       "2          Особо опасен  221038416  2016-10-10T12:00:00.000Z  Художественный   \n",
       "3          Особо опасен  221026916  2016-06-10T12:00:00.000Z  Художественный   \n",
       "4          Особо опасен  221030815  2015-07-29T12:00:00.000Z  Художественный   \n",
       "\n",
       "                                         film_studio production_country  \\\n",
       "0  Тачстоун Пикчерз, Кобальт Пикчерз, Бикон Пикче...                США   \n",
       "1                              Киностудия \"Мосфильм\"               СССР   \n",
       "2  Юниверсал Пикчерз, Кикстарт Продакшнз, Марк Пл...                США   \n",
       "3  Юниверсал Пикчерз, Кикстарт Продакшнз, Марк Пл...                США   \n",
       "4  Юниверсал Пикчерз, Кикстарт Продакшнз, Марк Пл...                США   \n",
       "\n",
       "            director                                           producer  \\\n",
       "0      Кевин Костнер          Дэвид Валдес, Кевин Костнер, Джейк Эбертс   \n",
       "1          Е.Матвеев                                                NaN   \n",
       "2  Тимур Бекмамбетов  Джим Лемли, Джейсон Нетер, Марк Е.Платт, Яйн Смит   \n",
       "3  Тимур Бекмамбетов  Джим Лемли, Джейсон Нетер, Марк Е.Платт, Яйн Смит   \n",
       "4  Тимур Бекмамбетов  Джим Лемли, Джейсон Нетер, Марк Е.Платт, Яйн Смит   \n",
       "\n",
       "                 age_restriction  refundable_support  nonrefundable_support  \\\n",
       "0    «18+» - запрещено для детей                 NaN                    NaN   \n",
       "1  «6+» - для детей старше 6 лет                 NaN                    NaN   \n",
       "2    «18+» - запрещено для детей                 NaN                    NaN   \n",
       "3    «18+» - запрещено для детей                 NaN                    NaN   \n",
       "4    «18+» - запрещено для детей                 NaN                    NaN   \n",
       "\n",
       "   budget financing_source ratings                     genres  \n",
       "0     NaN              NaN     7.2     боевик,драма,мелодрама  \n",
       "1     NaN              NaN     6.6              драма,военный  \n",
       "2     NaN              NaN     6.8  фантастика,боевик,триллер  \n",
       "3     NaN              NaN     6.8  фантастика,боевик,триллер  \n",
       "4     NaN              NaN     6.8  фантастика,боевик,триллер  "
      ]
     },
     "execution_count": 129,
     "metadata": {},
     "output_type": "execute_result"
    }
   ],
   "source": [
    "movies.head()"
   ]
  },
  {
   "cell_type": "code",
   "execution_count": 130,
   "metadata": {
    "colab": {
     "base_uri": "https://localhost:8080/",
     "height": 300
    },
    "executionInfo": {
     "elapsed": 6,
     "status": "ok",
     "timestamp": 1744274221526,
     "user": {
      "displayName": "Татьяна Стрельницкая",
      "userId": "08357198606275998011"
     },
     "user_tz": -180
    },
    "id": "PuheAjKWX6hh",
    "outputId": "18906349-34f8-4cdd-a84b-6d1ce8d21ada"
   },
   "outputs": [
    {
     "data": {
      "application/vnd.google.colaboratory.intrinsic+json": {
       "summary": "{\n  \"name\": \"movies\",\n  \"rows\": 8,\n  \"fields\": [\n    {\n      \"column\": \"refundable_support\",\n      \"properties\": {\n        \"dtype\": \"number\",\n        \"std\": 61726674.13015634,\n        \"min\": 0.0,\n        \"max\": 180000000.0,\n        \"num_unique_values\": 6,\n        \"samples\": [\n          332.0,\n          11864457.831325302,\n          180000000.0\n        ],\n        \"semantic_type\": \"\",\n        \"description\": \"\"\n      }\n    },\n    {\n      \"column\": \"nonrefundable_support\",\n      \"properties\": {\n        \"dtype\": \"number\",\n        \"std\": 132825920.46631646,\n        \"min\": 0.0,\n        \"max\": 400000000.0,\n        \"num_unique_values\": 8,\n        \"samples\": [\n          48980988.89156626,\n          30000000.0,\n          332.0\n        ],\n        \"semantic_type\": \"\",\n        \"description\": \"\"\n      }\n    },\n    {\n      \"column\": \"budget\",\n      \"properties\": {\n        \"dtype\": \"number\",\n        \"std\": 789177854.8295677,\n        \"min\": 0.0,\n        \"max\": 2305074303.0,\n        \"num_unique_values\": 8,\n        \"samples\": [\n          127229716.68373494,\n          68649916.0,\n          332.0\n        ],\n        \"semantic_type\": \"\",\n        \"description\": \"\"\n      }\n    }\n  ]\n}",
       "type": "dataframe"
      },
      "text/html": [
       "\n",
       "  <div id=\"df-c9a6b364-a5e6-4765-810e-21ec2a30bf2b\" class=\"colab-df-container\">\n",
       "    <div>\n",
       "<style scoped>\n",
       "    .dataframe tbody tr th:only-of-type {\n",
       "        vertical-align: middle;\n",
       "    }\n",
       "\n",
       "    .dataframe tbody tr th {\n",
       "        vertical-align: top;\n",
       "    }\n",
       "\n",
       "    .dataframe thead th {\n",
       "        text-align: right;\n",
       "    }\n",
       "</style>\n",
       "<table border=\"1\" class=\"dataframe\">\n",
       "  <thead>\n",
       "    <tr style=\"text-align: right;\">\n",
       "      <th></th>\n",
       "      <th>refundable_support</th>\n",
       "      <th>nonrefundable_support</th>\n",
       "      <th>budget</th>\n",
       "    </tr>\n",
       "  </thead>\n",
       "  <tbody>\n",
       "    <tr>\n",
       "      <th>count</th>\n",
       "      <td>3.320000e+02</td>\n",
       "      <td>3.320000e+02</td>\n",
       "      <td>3.320000e+02</td>\n",
       "    </tr>\n",
       "    <tr>\n",
       "      <th>mean</th>\n",
       "      <td>1.186446e+07</td>\n",
       "      <td>4.898099e+07</td>\n",
       "      <td>1.272297e+08</td>\n",
       "    </tr>\n",
       "    <tr>\n",
       "      <th>std</th>\n",
       "      <td>2.491656e+07</td>\n",
       "      <td>5.998012e+07</td>\n",
       "      <td>1.885883e+08</td>\n",
       "    </tr>\n",
       "    <tr>\n",
       "      <th>min</th>\n",
       "      <td>0.000000e+00</td>\n",
       "      <td>0.000000e+00</td>\n",
       "      <td>0.000000e+00</td>\n",
       "    </tr>\n",
       "    <tr>\n",
       "      <th>25%</th>\n",
       "      <td>0.000000e+00</td>\n",
       "      <td>2.500000e+07</td>\n",
       "      <td>4.200000e+07</td>\n",
       "    </tr>\n",
       "    <tr>\n",
       "      <th>50%</th>\n",
       "      <td>0.000000e+00</td>\n",
       "      <td>3.000000e+07</td>\n",
       "      <td>6.864992e+07</td>\n",
       "    </tr>\n",
       "    <tr>\n",
       "      <th>75%</th>\n",
       "      <td>1.500000e+07</td>\n",
       "      <td>4.037500e+07</td>\n",
       "      <td>1.419853e+08</td>\n",
       "    </tr>\n",
       "    <tr>\n",
       "      <th>max</th>\n",
       "      <td>1.800000e+08</td>\n",
       "      <td>4.000000e+08</td>\n",
       "      <td>2.305074e+09</td>\n",
       "    </tr>\n",
       "  </tbody>\n",
       "</table>\n",
       "</div>\n",
       "    <div class=\"colab-df-buttons\">\n",
       "\n",
       "  <div class=\"colab-df-container\">\n",
       "    <button class=\"colab-df-convert\" onclick=\"convertToInteractive('df-c9a6b364-a5e6-4765-810e-21ec2a30bf2b')\"\n",
       "            title=\"Convert this dataframe to an interactive table.\"\n",
       "            style=\"display:none;\">\n",
       "\n",
       "  <svg xmlns=\"http://www.w3.org/2000/svg\" height=\"24px\" viewBox=\"0 -960 960 960\">\n",
       "    <path d=\"M120-120v-720h720v720H120Zm60-500h600v-160H180v160Zm220 220h160v-160H400v160Zm0 220h160v-160H400v160ZM180-400h160v-160H180v160Zm440 0h160v-160H620v160ZM180-180h160v-160H180v160Zm440 0h160v-160H620v160Z\"/>\n",
       "  </svg>\n",
       "    </button>\n",
       "\n",
       "  <style>\n",
       "    .colab-df-container {\n",
       "      display:flex;\n",
       "      gap: 12px;\n",
       "    }\n",
       "\n",
       "    .colab-df-convert {\n",
       "      background-color: #E8F0FE;\n",
       "      border: none;\n",
       "      border-radius: 50%;\n",
       "      cursor: pointer;\n",
       "      display: none;\n",
       "      fill: #1967D2;\n",
       "      height: 32px;\n",
       "      padding: 0 0 0 0;\n",
       "      width: 32px;\n",
       "    }\n",
       "\n",
       "    .colab-df-convert:hover {\n",
       "      background-color: #E2EBFA;\n",
       "      box-shadow: 0px 1px 2px rgba(60, 64, 67, 0.3), 0px 1px 3px 1px rgba(60, 64, 67, 0.15);\n",
       "      fill: #174EA6;\n",
       "    }\n",
       "\n",
       "    .colab-df-buttons div {\n",
       "      margin-bottom: 4px;\n",
       "    }\n",
       "\n",
       "    [theme=dark] .colab-df-convert {\n",
       "      background-color: #3B4455;\n",
       "      fill: #D2E3FC;\n",
       "    }\n",
       "\n",
       "    [theme=dark] .colab-df-convert:hover {\n",
       "      background-color: #434B5C;\n",
       "      box-shadow: 0px 1px 3px 1px rgba(0, 0, 0, 0.15);\n",
       "      filter: drop-shadow(0px 1px 2px rgba(0, 0, 0, 0.3));\n",
       "      fill: #FFFFFF;\n",
       "    }\n",
       "  </style>\n",
       "\n",
       "    <script>\n",
       "      const buttonEl =\n",
       "        document.querySelector('#df-c9a6b364-a5e6-4765-810e-21ec2a30bf2b button.colab-df-convert');\n",
       "      buttonEl.style.display =\n",
       "        google.colab.kernel.accessAllowed ? 'block' : 'none';\n",
       "\n",
       "      async function convertToInteractive(key) {\n",
       "        const element = document.querySelector('#df-c9a6b364-a5e6-4765-810e-21ec2a30bf2b');\n",
       "        const dataTable =\n",
       "          await google.colab.kernel.invokeFunction('convertToInteractive',\n",
       "                                                    [key], {});\n",
       "        if (!dataTable) return;\n",
       "\n",
       "        const docLinkHtml = 'Like what you see? Visit the ' +\n",
       "          '<a target=\"_blank\" href=https://colab.research.google.com/notebooks/data_table.ipynb>data table notebook</a>'\n",
       "          + ' to learn more about interactive tables.';\n",
       "        element.innerHTML = '';\n",
       "        dataTable['output_type'] = 'display_data';\n",
       "        await google.colab.output.renderOutput(dataTable, element);\n",
       "        const docLink = document.createElement('div');\n",
       "        docLink.innerHTML = docLinkHtml;\n",
       "        element.appendChild(docLink);\n",
       "      }\n",
       "    </script>\n",
       "  </div>\n",
       "\n",
       "\n",
       "<div id=\"df-6663dc03-86b7-4bbe-ad51-b2f041901963\">\n",
       "  <button class=\"colab-df-quickchart\" onclick=\"quickchart('df-6663dc03-86b7-4bbe-ad51-b2f041901963')\"\n",
       "            title=\"Suggest charts\"\n",
       "            style=\"display:none;\">\n",
       "\n",
       "<svg xmlns=\"http://www.w3.org/2000/svg\" height=\"24px\"viewBox=\"0 0 24 24\"\n",
       "     width=\"24px\">\n",
       "    <g>\n",
       "        <path d=\"M19 3H5c-1.1 0-2 .9-2 2v14c0 1.1.9 2 2 2h14c1.1 0 2-.9 2-2V5c0-1.1-.9-2-2-2zM9 17H7v-7h2v7zm4 0h-2V7h2v10zm4 0h-2v-4h2v4z\"/>\n",
       "    </g>\n",
       "</svg>\n",
       "  </button>\n",
       "\n",
       "<style>\n",
       "  .colab-df-quickchart {\n",
       "      --bg-color: #E8F0FE;\n",
       "      --fill-color: #1967D2;\n",
       "      --hover-bg-color: #E2EBFA;\n",
       "      --hover-fill-color: #174EA6;\n",
       "      --disabled-fill-color: #AAA;\n",
       "      --disabled-bg-color: #DDD;\n",
       "  }\n",
       "\n",
       "  [theme=dark] .colab-df-quickchart {\n",
       "      --bg-color: #3B4455;\n",
       "      --fill-color: #D2E3FC;\n",
       "      --hover-bg-color: #434B5C;\n",
       "      --hover-fill-color: #FFFFFF;\n",
       "      --disabled-bg-color: #3B4455;\n",
       "      --disabled-fill-color: #666;\n",
       "  }\n",
       "\n",
       "  .colab-df-quickchart {\n",
       "    background-color: var(--bg-color);\n",
       "    border: none;\n",
       "    border-radius: 50%;\n",
       "    cursor: pointer;\n",
       "    display: none;\n",
       "    fill: var(--fill-color);\n",
       "    height: 32px;\n",
       "    padding: 0;\n",
       "    width: 32px;\n",
       "  }\n",
       "\n",
       "  .colab-df-quickchart:hover {\n",
       "    background-color: var(--hover-bg-color);\n",
       "    box-shadow: 0 1px 2px rgba(60, 64, 67, 0.3), 0 1px 3px 1px rgba(60, 64, 67, 0.15);\n",
       "    fill: var(--button-hover-fill-color);\n",
       "  }\n",
       "\n",
       "  .colab-df-quickchart-complete:disabled,\n",
       "  .colab-df-quickchart-complete:disabled:hover {\n",
       "    background-color: var(--disabled-bg-color);\n",
       "    fill: var(--disabled-fill-color);\n",
       "    box-shadow: none;\n",
       "  }\n",
       "\n",
       "  .colab-df-spinner {\n",
       "    border: 2px solid var(--fill-color);\n",
       "    border-color: transparent;\n",
       "    border-bottom-color: var(--fill-color);\n",
       "    animation:\n",
       "      spin 1s steps(1) infinite;\n",
       "  }\n",
       "\n",
       "  @keyframes spin {\n",
       "    0% {\n",
       "      border-color: transparent;\n",
       "      border-bottom-color: var(--fill-color);\n",
       "      border-left-color: var(--fill-color);\n",
       "    }\n",
       "    20% {\n",
       "      border-color: transparent;\n",
       "      border-left-color: var(--fill-color);\n",
       "      border-top-color: var(--fill-color);\n",
       "    }\n",
       "    30% {\n",
       "      border-color: transparent;\n",
       "      border-left-color: var(--fill-color);\n",
       "      border-top-color: var(--fill-color);\n",
       "      border-right-color: var(--fill-color);\n",
       "    }\n",
       "    40% {\n",
       "      border-color: transparent;\n",
       "      border-right-color: var(--fill-color);\n",
       "      border-top-color: var(--fill-color);\n",
       "    }\n",
       "    60% {\n",
       "      border-color: transparent;\n",
       "      border-right-color: var(--fill-color);\n",
       "    }\n",
       "    80% {\n",
       "      border-color: transparent;\n",
       "      border-right-color: var(--fill-color);\n",
       "      border-bottom-color: var(--fill-color);\n",
       "    }\n",
       "    90% {\n",
       "      border-color: transparent;\n",
       "      border-bottom-color: var(--fill-color);\n",
       "    }\n",
       "  }\n",
       "</style>\n",
       "\n",
       "  <script>\n",
       "    async function quickchart(key) {\n",
       "      const quickchartButtonEl =\n",
       "        document.querySelector('#' + key + ' button');\n",
       "      quickchartButtonEl.disabled = true;  // To prevent multiple clicks.\n",
       "      quickchartButtonEl.classList.add('colab-df-spinner');\n",
       "      try {\n",
       "        const charts = await google.colab.kernel.invokeFunction(\n",
       "            'suggestCharts', [key], {});\n",
       "      } catch (error) {\n",
       "        console.error('Error during call to suggestCharts:', error);\n",
       "      }\n",
       "      quickchartButtonEl.classList.remove('colab-df-spinner');\n",
       "      quickchartButtonEl.classList.add('colab-df-quickchart-complete');\n",
       "    }\n",
       "    (() => {\n",
       "      let quickchartButtonEl =\n",
       "        document.querySelector('#df-6663dc03-86b7-4bbe-ad51-b2f041901963 button');\n",
       "      quickchartButtonEl.style.display =\n",
       "        google.colab.kernel.accessAllowed ? 'block' : 'none';\n",
       "    })();\n",
       "  </script>\n",
       "</div>\n",
       "    </div>\n",
       "  </div>\n"
      ],
      "text/plain": [
       "       refundable_support  nonrefundable_support        budget\n",
       "count        3.320000e+02           3.320000e+02  3.320000e+02\n",
       "mean         1.186446e+07           4.898099e+07  1.272297e+08\n",
       "std          2.491656e+07           5.998012e+07  1.885883e+08\n",
       "min          0.000000e+00           0.000000e+00  0.000000e+00\n",
       "25%          0.000000e+00           2.500000e+07  4.200000e+07\n",
       "50%          0.000000e+00           3.000000e+07  6.864992e+07\n",
       "75%          1.500000e+07           4.037500e+07  1.419853e+08\n",
       "max          1.800000e+08           4.000000e+08  2.305074e+09"
      ]
     },
     "execution_count": 130,
     "metadata": {},
     "output_type": "execute_result"
    }
   ],
   "source": [
    "movies.describe()"
   ]
  },
  {
   "cell_type": "code",
   "execution_count": 131,
   "metadata": {
    "colab": {
     "base_uri": "https://localhost:8080/"
    },
    "executionInfo": {
     "elapsed": 29,
     "status": "ok",
     "timestamp": 1744274221586,
     "user": {
      "displayName": "Татьяна Стрельницкая",
      "userId": "08357198606275998011"
     },
     "user_tz": -180
    },
    "id": "OEIBcGiYX6fA",
    "outputId": "af4b37c4-9cb4-4797-a8a0-13152096bbc6"
   },
   "outputs": [
    {
     "name": "stdout",
     "output_type": "stream",
     "text": [
      "<class 'pandas.core.frame.DataFrame'>\n",
      "RangeIndex: 7486 entries, 0 to 7485\n",
      "Data columns (total 15 columns):\n",
      " #   Column                 Non-Null Count  Dtype  \n",
      "---  ------                 --------------  -----  \n",
      " 0   title                  7486 non-null   object \n",
      " 1   puNumber               7486 non-null   object \n",
      " 2   show_start_date        7486 non-null   object \n",
      " 3   type                   7486 non-null   object \n",
      " 4   film_studio            7468 non-null   object \n",
      " 5   production_country     7484 non-null   object \n",
      " 6   director               7477 non-null   object \n",
      " 7   producer               6918 non-null   object \n",
      " 8   age_restriction        7486 non-null   object \n",
      " 9   refundable_support     332 non-null    float64\n",
      " 10  nonrefundable_support  332 non-null    float64\n",
      " 11  budget                 332 non-null    float64\n",
      " 12  financing_source       332 non-null    object \n",
      " 13  ratings                6519 non-null   object \n",
      " 14  genres                 6510 non-null   object \n",
      "dtypes: float64(3), object(12)\n",
      "memory usage: 877.4+ KB\n"
     ]
    }
   ],
   "source": [
    "movies.info()"
   ]
  },
  {
   "cell_type": "code",
   "execution_count": 132,
   "metadata": {
    "colab": {
     "base_uri": "https://localhost:8080/"
    },
    "executionInfo": {
     "elapsed": 24,
     "status": "ok",
     "timestamp": 1744274221588,
     "user": {
      "displayName": "Татьяна Стрельницкая",
      "userId": "08357198606275998011"
     },
     "user_tz": -180
    },
    "id": "sewyz25dX4F6",
    "outputId": "a593b81f-2c4f-41bb-8da7-3af34205d2c6"
   },
   "outputs": [
    {
     "name": "stdout",
     "output_type": "stream",
     "text": [
      "<class 'pandas.core.frame.DataFrame'>\n",
      "RangeIndex: 3158 entries, 0 to 3157\n",
      "Data columns (total 2 columns):\n",
      " #   Column      Non-Null Count  Dtype  \n",
      "---  ------      --------------  -----  \n",
      " 0   puNumber    3158 non-null   int64  \n",
      " 1   box_office  3158 non-null   float64\n",
      "dtypes: float64(1), int64(1)\n",
      "memory usage: 49.5 KB\n"
     ]
    }
   ],
   "source": [
    "shows.info()"
   ]
  },
  {
   "cell_type": "markdown",
   "metadata": {
    "id": "mHQJbc_VRONx"
   },
   "source": [
    "### Объединение датасетов"
   ]
  },
  {
   "cell_type": "markdown",
   "metadata": {
    "id": "Gd5dDcR3_iK6"
   },
   "source": [
    "При подготовке к объединению двух датасетов было найдено одно значение \"нет\" в puNumber, которое заменено на 0. В таблице movies значения в puNumber были строкового типа, поэтому перед объединением они были преобразованы в числа."
   ]
  },
  {
   "cell_type": "code",
   "execution_count": 133,
   "metadata": {
    "executionInfo": {
     "elapsed": 4,
     "status": "ok",
     "timestamp": 1744274221589,
     "user": {
      "displayName": "Татьяна Стрельницкая",
      "userId": "08357198606275998011"
     },
     "user_tz": -180
    },
    "id": "cIuGc7BYq7bp"
   },
   "outputs": [],
   "source": [
    "movies['puNumber'] = pd.to_numeric(movies['puNumber'], errors='coerce')\n",
    "movies['puNumber'] = movies['puNumber'].fillna(0)\n",
    "movies['puNumber'] = movies['puNumber'].astype(int)"
   ]
  },
  {
   "cell_type": "code",
   "execution_count": 134,
   "metadata": {
    "colab": {
     "base_uri": "https://localhost:8080/"
    },
    "executionInfo": {
     "elapsed": 16,
     "status": "ok",
     "timestamp": 1744274221606,
     "user": {
      "displayName": "Татьяна Стрельницкая",
      "userId": "08357198606275998011"
     },
     "user_tz": -180
    },
    "id": "IFgIjlUQXk89",
    "outputId": "9677a469-a47d-4b1f-d023-bf9da7522a9c"
   },
   "outputs": [
    {
     "name": "stdout",
     "output_type": "stream",
     "text": [
      "(7486, 16)\n",
      "Index(['title', 'puNumber', 'show_start_date', 'type', 'film_studio',\n",
      "       'production_country', 'director', 'producer', 'age_restriction',\n",
      "       'refundable_support', 'nonrefundable_support', 'budget',\n",
      "       'financing_source', 'ratings', 'genres', 'box_office'],\n",
      "      dtype='object')\n"
     ]
    }
   ],
   "source": [
    "data = pd.merge(movies, shows, on='puNumber', how='left')  # how='left' чтобы сохранить все строки из df1\n",
    "\n",
    "print(data.shape)\n",
    "print(data.columns)"
   ]
  },
  {
   "cell_type": "code",
   "execution_count": 135,
   "metadata": {
    "colab": {
     "base_uri": "https://localhost:8080/"
    },
    "executionInfo": {
     "elapsed": 53,
     "status": "ok",
     "timestamp": 1744274221660,
     "user": {
      "displayName": "Татьяна Стрельницкая",
      "userId": "08357198606275998011"
     },
     "user_tz": -180
    },
    "id": "fjglCY6MXk51",
    "outputId": "3ced3f74-fdb2-4be8-96f5-1ab3a6f02775"
   },
   "outputs": [
    {
     "name": "stdout",
     "output_type": "stream",
     "text": [
      "<class 'pandas.core.frame.DataFrame'>\n",
      "RangeIndex: 7486 entries, 0 to 7485\n",
      "Data columns (total 16 columns):\n",
      " #   Column                 Non-Null Count  Dtype  \n",
      "---  ------                 --------------  -----  \n",
      " 0   title                  7486 non-null   object \n",
      " 1   puNumber               7486 non-null   int64  \n",
      " 2   show_start_date        7486 non-null   object \n",
      " 3   type                   7486 non-null   object \n",
      " 4   film_studio            7468 non-null   object \n",
      " 5   production_country     7484 non-null   object \n",
      " 6   director               7477 non-null   object \n",
      " 7   producer               6918 non-null   object \n",
      " 8   age_restriction        7486 non-null   object \n",
      " 9   refundable_support     332 non-null    float64\n",
      " 10  nonrefundable_support  332 non-null    float64\n",
      " 11  budget                 332 non-null    float64\n",
      " 12  financing_source       332 non-null    object \n",
      " 13  ratings                6519 non-null   object \n",
      " 14  genres                 6510 non-null   object \n",
      " 15  box_office             3158 non-null   float64\n",
      "dtypes: float64(4), int64(1), object(11)\n",
      "memory usage: 935.9+ KB\n"
     ]
    }
   ],
   "source": [
    "data.info()"
   ]
  },
  {
   "cell_type": "markdown",
   "metadata": {
    "id": "i46HzCW-RS5B"
   },
   "source": [
    "### Анализ дубликатов"
   ]
  },
  {
   "cell_type": "code",
   "execution_count": 136,
   "metadata": {
    "colab": {
     "base_uri": "https://localhost:8080/",
     "height": 272
    },
    "executionInfo": {
     "elapsed": 27,
     "status": "ok",
     "timestamp": 1744274221686,
     "user": {
      "displayName": "Татьяна Стрельницкая",
      "userId": "08357198606275998011"
     },
     "user_tz": -180
    },
    "id": "A6EbvXGFRVNG",
    "outputId": "40247a64-7eff-496b-824c-bc8ecc3312c8"
   },
   "outputs": [
    {
     "data": {
      "text/html": [
       "<div>\n",
       "<style scoped>\n",
       "    .dataframe tbody tr th:only-of-type {\n",
       "        vertical-align: middle;\n",
       "    }\n",
       "\n",
       "    .dataframe tbody tr th {\n",
       "        vertical-align: top;\n",
       "    }\n",
       "\n",
       "    .dataframe thead th {\n",
       "        text-align: right;\n",
       "    }\n",
       "</style>\n",
       "<table border=\"1\" class=\"dataframe\">\n",
       "  <thead>\n",
       "    <tr style=\"text-align: right;\">\n",
       "      <th></th>\n",
       "      <th>count</th>\n",
       "    </tr>\n",
       "    <tr>\n",
       "      <th>title</th>\n",
       "      <th></th>\n",
       "    </tr>\n",
       "  </thead>\n",
       "  <tbody>\n",
       "    <tr>\n",
       "      <th>День святого Валентина_</th>\n",
       "      <td>5</td>\n",
       "    </tr>\n",
       "    <tr>\n",
       "      <th>Дом грёз</th>\n",
       "      <td>4</td>\n",
       "    </tr>\n",
       "    <tr>\n",
       "      <th>Знакомство с Факерами 2.</th>\n",
       "      <td>4</td>\n",
       "    </tr>\n",
       "    <tr>\n",
       "      <th>Начало_</th>\n",
       "      <td>4</td>\n",
       "    </tr>\n",
       "    <tr>\n",
       "      <th>Дитя тьмы</th>\n",
       "      <td>4</td>\n",
       "    </tr>\n",
       "  </tbody>\n",
       "</table>\n",
       "</div><br><label><b>dtype:</b> int64</label>"
      ],
      "text/plain": [
       "title\n",
       "День святого Валентина_     5\n",
       "Дом грёз                    4\n",
       "Знакомство с Факерами 2.    4\n",
       "Начало_                     4\n",
       "Дитя тьмы                   4\n",
       "Name: count, dtype: int64"
      ]
     },
     "execution_count": 136,
     "metadata": {},
     "output_type": "execute_result"
    }
   ],
   "source": [
    "data['title'].value_counts().head()"
   ]
  },
  {
   "cell_type": "code",
   "execution_count": 137,
   "metadata": {
    "executionInfo": {
     "elapsed": 3,
     "status": "ok",
     "timestamp": 1744274221691,
     "user": {
      "displayName": "Татьяна Стрельницкая",
      "userId": "08357198606275998011"
     },
     "user_tz": -180
    },
    "id": "PztHBx9qRcDU"
   },
   "outputs": [],
   "source": [
    "duplicate_titles = data['title'].value_counts()\n",
    "duplicate_titles = duplicate_titles[duplicate_titles > 1].index\n",
    "\n",
    "duplicates = data[data['title'].isin(duplicate_titles)]"
   ]
  },
  {
   "cell_type": "markdown",
   "metadata": {
    "id": "3UyBum46TE0Z"
   },
   "source": [
    "Тут сначала находим в таблице дубликаты по критерию совпадения названия фильма, потом сравниваем эти дубликаты на предмет совпадения значений других признаков. Если совпадают значения более 7 признаков, то считаем, что это один и тот же фильм. В итоге оставляем только одну запись о фильме, сохранив при этом как можно больше информации, то есть взяв от двух дубликатов все доступные значения признаков."
   ]
  },
  {
   "cell_type": "code",
   "execution_count": 138,
   "metadata": {
    "colab": {
     "base_uri": "https://localhost:8080/"
    },
    "executionInfo": {
     "elapsed": 3607,
     "status": "ok",
     "timestamp": 1744274225299,
     "user": {
      "displayName": "Татьяна Стрельницкая",
      "userId": "08357198606275998011"
     },
     "user_tz": -180
    },
    "id": "bWoplqXLRb91",
    "outputId": "3f898213-2aa2-4b9c-bdaf-1bfd76522b50"
   },
   "outputs": [
    {
     "data": {
      "text/plain": [
       "(6686, 16)"
      ]
     },
     "execution_count": 138,
     "metadata": {},
     "output_type": "execute_result"
    }
   ],
   "source": [
    "data['title'] = (\n",
    "    data['title']\n",
    "    .astype(str)\n",
    "    .str.strip()\n",
    "    .str.strip('._')\n",
    "    .str.lower()\n",
    ")\n",
    "\n",
    "grouped = data.groupby('title')\n",
    "final_rows = []\n",
    "comparison_columns = [col for col in data.columns if col != 'title']\n",
    "\n",
    "def count_matches(row1, row2):\n",
    "    return sum((row1[col] == row2[col]) or pd.isna(row1[col]) or pd.isna(row2[col]) for col in comparison_columns)\n",
    "\n",
    "def merge_rows(row1, row2):\n",
    "    return [row1[col] if pd.notna(row1[col]) else row2[col] for col in data.columns]\n",
    "\n",
    "for title, group in grouped:\n",
    "    group = group.reset_index(drop=True)\n",
    "    used = set()\n",
    "    for i in range(len(group)):\n",
    "        if i in used:\n",
    "            continue\n",
    "        row = group.loc[i]\n",
    "        for j in range(i + 1, len(group)):\n",
    "            if j in used:\n",
    "                continue\n",
    "            other_row = group.loc[j]\n",
    "            if count_matches(row, other_row) >= 7:\n",
    "                row = pd.Series(merge_rows(row, other_row), index=data.columns)\n",
    "                used.add(j)\n",
    "        final_rows.append(row)\n",
    "\n",
    "data = pd.DataFrame(final_rows)\n",
    "data.shape"
   ]
  },
  {
   "cell_type": "markdown",
   "metadata": {
    "id": "gC4T7Iabse2F"
   },
   "source": [
    "### Обработка show_start_date"
   ]
  },
  {
   "cell_type": "code",
   "execution_count": 139,
   "metadata": {
    "colab": {
     "base_uri": "https://localhost:8080/",
     "height": 489
    },
    "executionInfo": {
     "elapsed": 7,
     "status": "ok",
     "timestamp": 1744274225303,
     "user": {
      "displayName": "Татьяна Стрельницкая",
      "userId": "08357198606275998011"
     },
     "user_tz": -180
    },
    "id": "QdQDb72bXk2_",
    "outputId": "145db89a-bd71-4961-bec2-23b12de6ca07"
   },
   "outputs": [
    {
     "data": {
      "text/html": [
       "<div>\n",
       "<style scoped>\n",
       "    .dataframe tbody tr th:only-of-type {\n",
       "        vertical-align: middle;\n",
       "    }\n",
       "\n",
       "    .dataframe tbody tr th {\n",
       "        vertical-align: top;\n",
       "    }\n",
       "\n",
       "    .dataframe thead th {\n",
       "        text-align: right;\n",
       "    }\n",
       "</style>\n",
       "<table border=\"1\" class=\"dataframe\">\n",
       "  <thead>\n",
       "    <tr style=\"text-align: right;\">\n",
       "      <th></th>\n",
       "      <th>count</th>\n",
       "    </tr>\n",
       "    <tr>\n",
       "      <th>show_start_date</th>\n",
       "      <th></th>\n",
       "    </tr>\n",
       "  </thead>\n",
       "  <tbody>\n",
       "    <tr>\n",
       "      <th>2014-12-01T12:00:00.000Z</th>\n",
       "      <td>71</td>\n",
       "    </tr>\n",
       "    <tr>\n",
       "      <th>2010-12-17T12:00:00.000Z</th>\n",
       "      <td>64</td>\n",
       "    </tr>\n",
       "    <tr>\n",
       "      <th>2014-12-24T12:00:00.000Z</th>\n",
       "      <td>60</td>\n",
       "    </tr>\n",
       "    <tr>\n",
       "      <th>2013-12-19T12:00:00.000Z</th>\n",
       "      <td>38</td>\n",
       "    </tr>\n",
       "    <tr>\n",
       "      <th>2016-06-07T12:00:00.000Z</th>\n",
       "      <td>36</td>\n",
       "    </tr>\n",
       "    <tr>\n",
       "      <th>...</th>\n",
       "      <td>...</td>\n",
       "    </tr>\n",
       "    <tr>\n",
       "      <th>2017-09-15T12:00:00.000Z</th>\n",
       "      <td>1</td>\n",
       "    </tr>\n",
       "    <tr>\n",
       "      <th>2010-02-04T12:00:00.000Z</th>\n",
       "      <td>1</td>\n",
       "    </tr>\n",
       "    <tr>\n",
       "      <th>2010-05-07T12:00:00.000Z</th>\n",
       "      <td>1</td>\n",
       "    </tr>\n",
       "    <tr>\n",
       "      <th>2017-08-18T12:00:00.000Z</th>\n",
       "      <td>1</td>\n",
       "    </tr>\n",
       "    <tr>\n",
       "      <th>2014-10-24T12:00:00.000Z</th>\n",
       "      <td>1</td>\n",
       "    </tr>\n",
       "  </tbody>\n",
       "</table>\n",
       "<p>1910 rows × 1 columns</p>\n",
       "</div><br><label><b>dtype:</b> int64</label>"
      ],
      "text/plain": [
       "show_start_date\n",
       "2014-12-01T12:00:00.000Z    71\n",
       "2010-12-17T12:00:00.000Z    64\n",
       "2014-12-24T12:00:00.000Z    60\n",
       "2013-12-19T12:00:00.000Z    38\n",
       "2016-06-07T12:00:00.000Z    36\n",
       "                            ..\n",
       "2017-09-15T12:00:00.000Z     1\n",
       "2010-02-04T12:00:00.000Z     1\n",
       "2010-05-07T12:00:00.000Z     1\n",
       "2017-08-18T12:00:00.000Z     1\n",
       "2014-10-24T12:00:00.000Z     1\n",
       "Name: count, Length: 1910, dtype: int64"
      ]
     },
     "execution_count": 139,
     "metadata": {},
     "output_type": "execute_result"
    }
   ],
   "source": [
    "data['show_start_date'].value_counts()"
   ]
  },
  {
   "cell_type": "code",
   "execution_count": 140,
   "metadata": {
    "executionInfo": {
     "elapsed": 3,
     "status": "ok",
     "timestamp": 1744274225307,
     "user": {
      "displayName": "Татьяна Стрельницкая",
      "userId": "08357198606275998011"
     },
     "user_tz": -180
    },
    "id": "As_s8d5itZG8"
   },
   "outputs": [],
   "source": [
    "show_start_date = pd.to_datetime(data['show_start_date'], errors='coerce')\n",
    "\n",
    "data['year'] = show_start_date.dt.year\n",
    "data['month'] = show_start_date.dt.month\n",
    "data['weekday'] = show_start_date.dt.weekday\n",
    "data['day'] = show_start_date.dt.day\n",
    "data['timestamp'] = show_start_date.astype('int64') // 10**9"
   ]
  },
  {
   "cell_type": "markdown",
   "metadata": {
    "id": "7AxnL7rivW2N"
   },
   "source": [
    "### Обработка type"
   ]
  },
  {
   "cell_type": "code",
   "execution_count": 141,
   "metadata": {
    "colab": {
     "base_uri": "https://localhost:8080/",
     "height": 366
    },
    "executionInfo": {
     "elapsed": 3,
     "status": "ok",
     "timestamp": 1744274225312,
     "user": {
      "displayName": "Татьяна Стрельницкая",
      "userId": "08357198606275998011"
     },
     "user_tz": -180
    },
    "id": "9eQYCbA9tZDk",
    "outputId": "e059455c-737b-4d19-fb02-852c7349b662"
   },
   "outputs": [
    {
     "data": {
      "text/html": [
       "<div>\n",
       "<style scoped>\n",
       "    .dataframe tbody tr th:only-of-type {\n",
       "        vertical-align: middle;\n",
       "    }\n",
       "\n",
       "    .dataframe tbody tr th {\n",
       "        vertical-align: top;\n",
       "    }\n",
       "\n",
       "    .dataframe thead th {\n",
       "        text-align: right;\n",
       "    }\n",
       "</style>\n",
       "<table border=\"1\" class=\"dataframe\">\n",
       "  <thead>\n",
       "    <tr style=\"text-align: right;\">\n",
       "      <th></th>\n",
       "      <th>count</th>\n",
       "    </tr>\n",
       "    <tr>\n",
       "      <th>type</th>\n",
       "      <th></th>\n",
       "    </tr>\n",
       "  </thead>\n",
       "  <tbody>\n",
       "    <tr>\n",
       "      <th>Художественный</th>\n",
       "      <td>3878</td>\n",
       "    </tr>\n",
       "    <tr>\n",
       "      <th>Художественный</th>\n",
       "      <td>1333</td>\n",
       "    </tr>\n",
       "    <tr>\n",
       "      <th>Анимационный</th>\n",
       "      <td>757</td>\n",
       "    </tr>\n",
       "    <tr>\n",
       "      <th>Прочие</th>\n",
       "      <td>389</td>\n",
       "    </tr>\n",
       "    <tr>\n",
       "      <th>Документальный</th>\n",
       "      <td>275</td>\n",
       "    </tr>\n",
       "    <tr>\n",
       "      <th>Научно-популярный</th>\n",
       "      <td>52</td>\n",
       "    </tr>\n",
       "    <tr>\n",
       "      <th>Музыкально-развлекательный</th>\n",
       "      <td>1</td>\n",
       "    </tr>\n",
       "    <tr>\n",
       "      <th>Анимационный</th>\n",
       "      <td>1</td>\n",
       "    </tr>\n",
       "  </tbody>\n",
       "</table>\n",
       "</div><br><label><b>dtype:</b> int64</label>"
      ],
      "text/plain": [
       "type\n",
       "Художественный                3878\n",
       " Художественный               1333\n",
       "Анимационный                   757\n",
       "Прочие                         389\n",
       "Документальный                 275\n",
       "Научно-популярный               52\n",
       "Музыкально-развлекательный       1\n",
       " Анимационный                    1\n",
       "Name: count, dtype: int64"
      ]
     },
     "execution_count": 141,
     "metadata": {},
     "output_type": "execute_result"
    }
   ],
   "source": [
    "data['type'].value_counts()"
   ]
  },
  {
   "cell_type": "code",
   "execution_count": 142,
   "metadata": {
    "executionInfo": {
     "elapsed": 16,
     "status": "ok",
     "timestamp": 1744274225345,
     "user": {
      "displayName": "Татьяна Стрельницкая",
      "userId": "08357198606275998011"
     },
     "user_tz": -180
    },
    "id": "PUg7tn2DuDjZ"
   },
   "outputs": [],
   "source": [
    "data['type'] = data['type'].str.strip().str.lower()\n",
    "data['type'] = data['type'].replace('музыкально-развлекательный', 'прочие')\n",
    "data = pd.get_dummies(data, columns=['type'], prefix='type', dtype=int)"
   ]
  },
  {
   "cell_type": "markdown",
   "metadata": {
    "id": "xtCbRSJlojXM"
   },
   "source": [
    "### Обработка film_studio"
   ]
  },
  {
   "cell_type": "code",
   "execution_count": 143,
   "metadata": {
    "colab": {
     "base_uri": "https://localhost:8080/",
     "height": 489
    },
    "executionInfo": {
     "elapsed": 5,
     "status": "ok",
     "timestamp": 1744274225362,
     "user": {
      "displayName": "Татьяна Стрельницкая",
      "userId": "08357198606275998011"
     },
     "user_tz": -180
    },
    "id": "P91E6sKevIZA",
    "outputId": "b4705fa1-9fca-4bc5-e60d-23ac1f4ea58c"
   },
   "outputs": [
    {
     "data": {
      "text/html": [
       "<div>\n",
       "<style scoped>\n",
       "    .dataframe tbody tr th:only-of-type {\n",
       "        vertical-align: middle;\n",
       "    }\n",
       "\n",
       "    .dataframe tbody tr th {\n",
       "        vertical-align: top;\n",
       "    }\n",
       "\n",
       "    .dataframe thead th {\n",
       "        text-align: right;\n",
       "    }\n",
       "</style>\n",
       "<table border=\"1\" class=\"dataframe\">\n",
       "  <thead>\n",
       "    <tr style=\"text-align: right;\">\n",
       "      <th></th>\n",
       "      <th>count</th>\n",
       "    </tr>\n",
       "    <tr>\n",
       "      <th>film_studio</th>\n",
       "      <th></th>\n",
       "    </tr>\n",
       "  </thead>\n",
       "  <tbody>\n",
       "    <tr>\n",
       "      <th>Киностудия \"Мосфильм\"</th>\n",
       "      <td>335</td>\n",
       "    </tr>\n",
       "    <tr>\n",
       "      <th>ООО \"Мульт в кино\"</th>\n",
       "      <td>57</td>\n",
       "    </tr>\n",
       "    <tr>\n",
       "      <th>Анимаккорд Лтд</th>\n",
       "      <td>23</td>\n",
       "    </tr>\n",
       "    <tr>\n",
       "      <th>ООО \"Мульт в кино\"</th>\n",
       "      <td>18</td>\n",
       "    </tr>\n",
       "    <tr>\n",
       "      <th>ФГУП \"ТПО \"Киностудия \"Союзмультфильм\"</th>\n",
       "      <td>15</td>\n",
       "    </tr>\n",
       "    <tr>\n",
       "      <th>...</th>\n",
       "      <td>...</td>\n",
       "    </tr>\n",
       "    <tr>\n",
       "      <th>Сосьете Нувель де Синематографи, СиДжиИСи, Компанья Дженерале Финанциарья Чинематографика</th>\n",
       "      <td>1</td>\n",
       "    </tr>\n",
       "    <tr>\n",
       "      <th>Дэйт Авейтс Синема, Пинк Буффало Филмз</th>\n",
       "      <td>1</td>\n",
       "    </tr>\n",
       "    <tr>\n",
       "      <th>Диджитал Интерференс</th>\n",
       "      <td>1</td>\n",
       "    </tr>\n",
       "    <tr>\n",
       "      <th>Гравье Продакшнз</th>\n",
       "      <td>1</td>\n",
       "    </tr>\n",
       "    <tr>\n",
       "      <th>Моби Дик Филмз, Партизан Фильм</th>\n",
       "      <td>1</td>\n",
       "    </tr>\n",
       "  </tbody>\n",
       "</table>\n",
       "<p>5393 rows × 1 columns</p>\n",
       "</div><br><label><b>dtype:</b> int64</label>"
      ],
      "text/plain": [
       "film_studio\n",
       "Киностудия \"Мосфильм\"                                                                        335\n",
       "ООО \"Мульт в кино\"                                                                            57\n",
       "Анимаккорд Лтд                                                                                23\n",
       "ООО \"Мульт в кино\"                                                                            18\n",
       "ФГУП \"ТПО \"Киностудия \"Союзмультфильм\"                                                        15\n",
       "                                                                                            ... \n",
       "Сосьете Нувель де Синематографи, СиДжиИСи, Компанья Дженерале Финанциарья Чинематографика      1\n",
       "Дэйт Авейтс Синема, Пинк Буффало Филмз                                                         1\n",
       "Диджитал Интерференс                                                                           1\n",
       "Гравье Продакшнз                                                                               1\n",
       "Моби Дик Филмз, Партизан Фильм                                                                 1\n",
       "Name: count, Length: 5393, dtype: int64"
      ]
     },
     "execution_count": 143,
     "metadata": {},
     "output_type": "execute_result"
    }
   ],
   "source": [
    "data['film_studio'].value_counts()"
   ]
  },
  {
   "cell_type": "markdown",
   "metadata": {
    "id": "-fPsbOFSsQcL"
   },
   "source": [
    "Выделим 20 самых продуктивных студий (которые выпустили больше всего фильмов), остальные закодируем как \"другие\""
   ]
  },
  {
   "cell_type": "code",
   "execution_count": 144,
   "metadata": {
    "executionInfo": {
     "elapsed": 26,
     "status": "ok",
     "timestamp": 1744274225405,
     "user": {
      "displayName": "Татьяна Стрельницкая",
      "userId": "08357198606275998011"
     },
     "user_tz": -180
    },
    "id": "AXEzmUg7v9mo"
   },
   "outputs": [],
   "source": [
    "data['film_studio'] = data['film_studio'].str.strip().str.lower()\n",
    "data['film_studio'] = data['film_studio'].fillna('')\n",
    "\n",
    "TOP_N = 20\n",
    "top_studios = data['film_studio'].value_counts().nlargest(TOP_N).index\n",
    "\n",
    "data['film_studio_limited'] = data['film_studio'].apply(lambda x: x if x in top_studios else 'другая студия')\n",
    "\n",
    "studio_ohe = pd.get_dummies(data['film_studio_limited'], prefix='studio', dtype=int)\n",
    "data = pd.concat([data, studio_ohe], axis=1)"
   ]
  },
  {
   "cell_type": "markdown",
   "metadata": {
    "id": "pZTqOnRvElHv"
   },
   "source": [
    "### Обработка production_country"
   ]
  },
  {
   "cell_type": "code",
   "execution_count": 145,
   "metadata": {
    "colab": {
     "base_uri": "https://localhost:8080/",
     "height": 489
    },
    "executionInfo": {
     "elapsed": 22,
     "status": "ok",
     "timestamp": 1744274225430,
     "user": {
      "displayName": "Татьяна Стрельницкая",
      "userId": "08357198606275998011"
     },
     "user_tz": -180
    },
    "id": "S6GuNHHMzIt0",
    "outputId": "81e0315d-dbda-462b-a052-9850238111b3"
   },
   "outputs": [
    {
     "data": {
      "text/html": [
       "<div>\n",
       "<style scoped>\n",
       "    .dataframe tbody tr th:only-of-type {\n",
       "        vertical-align: middle;\n",
       "    }\n",
       "\n",
       "    .dataframe tbody tr th {\n",
       "        vertical-align: top;\n",
       "    }\n",
       "\n",
       "    .dataframe thead th {\n",
       "        text-align: right;\n",
       "    }\n",
       "</style>\n",
       "<table border=\"1\" class=\"dataframe\">\n",
       "  <thead>\n",
       "    <tr style=\"text-align: right;\">\n",
       "      <th></th>\n",
       "      <th>count</th>\n",
       "    </tr>\n",
       "    <tr>\n",
       "      <th>production_country</th>\n",
       "      <th></th>\n",
       "    </tr>\n",
       "  </thead>\n",
       "  <tbody>\n",
       "    <tr>\n",
       "      <th>Россия</th>\n",
       "      <td>1780</td>\n",
       "    </tr>\n",
       "    <tr>\n",
       "      <th>США</th>\n",
       "      <td>1739</td>\n",
       "    </tr>\n",
       "    <tr>\n",
       "      <th>СССР</th>\n",
       "      <td>339</td>\n",
       "    </tr>\n",
       "    <tr>\n",
       "      <th>Франция</th>\n",
       "      <td>274</td>\n",
       "    </tr>\n",
       "    <tr>\n",
       "      <th>Великобритания</th>\n",
       "      <td>240</td>\n",
       "    </tr>\n",
       "    <tr>\n",
       "      <th>...</th>\n",
       "      <td>...</td>\n",
       "    </tr>\n",
       "    <tr>\n",
       "      <th>Республика Кипр-Россия</th>\n",
       "      <td>1</td>\n",
       "    </tr>\n",
       "    <tr>\n",
       "      <th>США-Канада-Бельгия</th>\n",
       "      <td>1</td>\n",
       "    </tr>\n",
       "    <tr>\n",
       "      <th>Бразилия - Португалия - Франция</th>\n",
       "      <td>1</td>\n",
       "    </tr>\n",
       "    <tr>\n",
       "      <th>Франция-Великобритания - Германия</th>\n",
       "      <td>1</td>\n",
       "    </tr>\n",
       "    <tr>\n",
       "      <th>Германия - Франция -  Польша - Турция - Канада - Италия - Россия</th>\n",
       "      <td>1</td>\n",
       "    </tr>\n",
       "  </tbody>\n",
       "</table>\n",
       "<p>938 rows × 1 columns</p>\n",
       "</div><br><label><b>dtype:</b> int64</label>"
      ],
      "text/plain": [
       "production_country\n",
       "Россия                                                               1780\n",
       "США                                                                  1739\n",
       "СССР                                                                  339\n",
       "Франция                                                               274\n",
       "Великобритания                                                        240\n",
       "                                                                     ... \n",
       "Республика Кипр-Россия                                                  1\n",
       "США-Канада-Бельгия                                                      1\n",
       "Бразилия - Португалия - Франция                                         1\n",
       "Франция-Великобритания - Германия                                       1\n",
       "Германия - Франция -  Польша - Турция - Канада - Италия - Россия        1\n",
       "Name: count, Length: 938, dtype: int64"
      ]
     },
     "execution_count": 145,
     "metadata": {},
     "output_type": "execute_result"
    }
   ],
   "source": [
    "data['production_country'].value_counts()"
   ]
  },
  {
   "cell_type": "markdown",
   "metadata": {
    "id": "F7-awV0Hrg7j"
   },
   "source": [
    "Страны закодируем таким образом, что если какая-то страна принимала участие в создании фильма, что в столбце с этой страной будет стоять 1, иначе 0. Так можно учесть, что фильм могли делать представители одной страны или нескольких\n",
    "\n",
    "Кроме того, относительно небольшое количество стран позволило сделать качественную обработку, например, заменить опечатки и прочее"
   ]
  },
  {
   "cell_type": "code",
   "execution_count": 146,
   "metadata": {
    "executionInfo": {
     "elapsed": 11,
     "status": "ok",
     "timestamp": 1744274225462,
     "user": {
      "displayName": "Татьяна Стрельницкая",
      "userId": "08357198606275998011"
     },
     "user_tz": -180
    },
    "id": "ba0_-NU_ou-1"
   },
   "outputs": [],
   "source": [
    "data['country_list'] = (\n",
    "    data['production_country']\n",
    "    .fillna('')\n",
    "    .str.replace(r'[-–—]', ',', regex=True)\n",
    "    .str.replace(r'\\s*,\\s*', ',', regex=True)\n",
    "    .str.strip()\n",
    "    .apply(lambda x: [i.strip().lower() for i in x.split(',') if i.strip()])\n",
    ")\n",
    "\n",
    "country_aliases = {\n",
    "    'англия': 'великобритания',\n",
    "    'белоруссия': 'беларусь', 'республика беларусь': 'беларусь',\n",
    "    'бенльгия': 'бельгия',\n",
    "    'босния': 'босния и герцеговина', 'герцеговина': 'босния и герцеговина',\n",
    "    'внр': 'венгрия',\n",
    "    'гдр': 'германия', 'германя': 'германия', 'западный берлин': 'германия', 'фрг': 'германия',\n",
    "    'изриль': 'израиль',\n",
    "    'к;анада': 'канада',\n",
    "    'кнр': 'китай',\n",
    "    'ланка': 'шри-ланка', 'шри': 'шри-ланка',\n",
    "    'н.зеландия': 'новая зеландия',\n",
    "    'норвения': 'норвегия',\n",
    "    'объединенные арабские эмираты': 'оаэ',\n",
    "    'пнр': 'польша',\n",
    "    'порртугалия': 'португалия',\n",
    "    'пуэрто': 'пуэрто рико', 'рико': 'пуэрто рико',\n",
    "    'ю.корея': 'южная корея', 'корея': 'южная корея', 'республика корея': 'южная корея',\n",
    "    'республика армения': 'армения',\n",
    "    'республика казахстан': 'казахстан',\n",
    "    'республика кипр': 'кипр',\n",
    "    'сща': 'сша',\n",
    "    'фрация': 'франция',\n",
    "    'чехословакия': 'чехия', 'чехшская республика': 'чехия',\n",
    "    'чсср': 'ссср',\n",
    "}"
   ]
  },
  {
   "cell_type": "code",
   "execution_count": 147,
   "metadata": {
    "executionInfo": {
     "elapsed": 305,
     "status": "ok",
     "timestamp": 1744274225767,
     "user": {
      "displayName": "Татьяна Стрельницкая",
      "userId": "08357198606275998011"
     },
     "user_tz": -180
    },
    "id": "6ghUfnreB-RI"
   },
   "outputs": [],
   "source": [
    "data['country_list'] = data['country_list'].apply(lambda country_list: [\n",
    "    country_aliases.get(c.strip().lower(), c.strip().lower())\n",
    "    for c in country_list if c.strip() and c.strip().lower() not in ['nan', 'none']\n",
    "])\n",
    "\n",
    "all_countries = data['country_list'].explode()\n",
    "top_20 = all_countries.value_counts().head(20).index.tolist()\n",
    "\n",
    "data['country_list_limited'] = data['country_list'].apply(lambda countries:\n",
    "    [c if c in top_20 else 'другие страны' for c in countries]\n",
    ")"
   ]
  },
  {
   "cell_type": "code",
   "execution_count": 148,
   "metadata": {
    "colab": {
     "base_uri": "https://localhost:8080/"
    },
    "executionInfo": {
     "elapsed": 4,
     "status": "ok",
     "timestamp": 1744274225768,
     "user": {
      "displayName": "Татьяна Стрельницкая",
      "userId": "08357198606275998011"
     },
     "user_tz": -180
    },
    "id": "Kp7fakXyB-Om",
    "outputId": "66c510e7-6763-4fc3-cd56-9e1a967a5310"
   },
   "outputs": [
    {
     "name": "stderr",
     "output_type": "stream",
     "text": [
      "/usr/local/lib/python3.11/dist-packages/sklearn/preprocessing/_label.py:909: UserWarning: unknown class(es) ['другие страны'] will be ignored\n",
      "  warnings.warn(\n"
     ]
    }
   ],
   "source": [
    "mlb = MultiLabelBinarizer(classes=top_20)\n",
    "one_hot_encoded = mlb.fit_transform(data['country_list_limited'])\n",
    "one_hot_df = pd.DataFrame(one_hot_encoded, columns=mlb.classes_, index=data.index)\n",
    "\n",
    "one_hot_df.columns = ['country_' + col for col in one_hot_df.columns]\n",
    "data = pd.concat([data.reset_index(drop=True), one_hot_df.reset_index(drop=True)], axis=1)"
   ]
  },
  {
   "cell_type": "markdown",
   "metadata": {
    "id": "utm0fqsBNAxn"
   },
   "source": [
    "### Обработка director"
   ]
  },
  {
   "cell_type": "code",
   "execution_count": 149,
   "metadata": {
    "colab": {
     "base_uri": "https://localhost:8080/",
     "height": 489
    },
    "executionInfo": {
     "elapsed": 18,
     "status": "ok",
     "timestamp": 1744274225786,
     "user": {
      "displayName": "Татьяна Стрельницкая",
      "userId": "08357198606275998011"
     },
     "user_tz": -180
    },
    "id": "To5r8tT7z9IU",
    "outputId": "6fc8fc45-3077-4aaf-baf8-5fb8bb60237a"
   },
   "outputs": [
    {
     "data": {
      "text/html": [
       "<div>\n",
       "<style scoped>\n",
       "    .dataframe tbody tr th:only-of-type {\n",
       "        vertical-align: middle;\n",
       "    }\n",
       "\n",
       "    .dataframe tbody tr th {\n",
       "        vertical-align: top;\n",
       "    }\n",
       "\n",
       "    .dataframe thead th {\n",
       "        text-align: right;\n",
       "    }\n",
       "</style>\n",
       "<table border=\"1\" class=\"dataframe\">\n",
       "  <thead>\n",
       "    <tr style=\"text-align: right;\">\n",
       "      <th></th>\n",
       "      <th>count</th>\n",
       "    </tr>\n",
       "    <tr>\n",
       "      <th>director</th>\n",
       "      <th></th>\n",
       "    </tr>\n",
       "  </thead>\n",
       "  <tbody>\n",
       "    <tr>\n",
       "      <th>О.Семёнова</th>\n",
       "      <td>47</td>\n",
       "    </tr>\n",
       "    <tr>\n",
       "      <th>Д.Червяцов</th>\n",
       "      <td>16</td>\n",
       "    </tr>\n",
       "    <tr>\n",
       "      <th>Вуди Аллен</th>\n",
       "      <td>13</td>\n",
       "    </tr>\n",
       "    <tr>\n",
       "      <th>О.Семёнова</th>\n",
       "      <td>12</td>\n",
       "    </tr>\n",
       "    <tr>\n",
       "      <th>Стивен Содерберг</th>\n",
       "      <td>12</td>\n",
       "    </tr>\n",
       "    <tr>\n",
       "      <th>...</th>\n",
       "      <td>...</td>\n",
       "    </tr>\n",
       "    <tr>\n",
       "      <th>Сиддхартх Малхотра</th>\n",
       "      <td>1</td>\n",
       "    </tr>\n",
       "    <tr>\n",
       "      <th>Р.Д. Браунштейн</th>\n",
       "      <td>1</td>\n",
       "    </tr>\n",
       "    <tr>\n",
       "      <th>Г.Коломийцев</th>\n",
       "      <td>1</td>\n",
       "    </tr>\n",
       "    <tr>\n",
       "      <th>Оливер Цигенбальг</th>\n",
       "      <td>1</td>\n",
       "    </tr>\n",
       "    <tr>\n",
       "      <th>Д.Кузнецов (псевдоним - Хаски), Д.Найшуллер (псевдоним - Даша Чаруша), С.Поварницын, А.Золотарев, И.Плечёв</th>\n",
       "      <td>1</td>\n",
       "    </tr>\n",
       "  </tbody>\n",
       "</table>\n",
       "<p>4751 rows × 1 columns</p>\n",
       "</div><br><label><b>dtype:</b> int64</label>"
      ],
      "text/plain": [
       "director\n",
       "О.Семёнова                                                                                                    47\n",
       "Д.Червяцов                                                                                                    16\n",
       "Вуди Аллен                                                                                                    13\n",
       "О.Семёнова                                                                                                    12\n",
       "Стивен Содерберг                                                                                              12\n",
       "                                                                                                              ..\n",
       "Сиддхартх Малхотра                                                                                             1\n",
       "Р.Д. Браунштейн                                                                                                1\n",
       "Г.Коломийцев                                                                                                   1\n",
       "Оливер Цигенбальг                                                                                              1\n",
       "Д.Кузнецов (псевдоним - Хаски), Д.Найшуллер (псевдоним - Даша Чаруша), С.Поварницын, А.Золотарев, И.Плечёв     1\n",
       "Name: count, Length: 4751, dtype: int64"
      ]
     },
     "execution_count": 149,
     "metadata": {},
     "output_type": "execute_result"
    }
   ],
   "source": [
    "data['director'].value_counts()"
   ]
  },
  {
   "cell_type": "code",
   "execution_count": 150,
   "metadata": {
    "executionInfo": {
     "elapsed": 34,
     "status": "ok",
     "timestamp": 1744274225821,
     "user": {
      "displayName": "Татьяна Стрельницкая",
      "userId": "08357198606275998011"
     },
     "user_tz": -180
    },
    "id": "TqR-JmBuM9zm"
   },
   "outputs": [],
   "source": [
    "data['director'] = data['director'].astype(str).str.strip().str.lower()\n",
    "data['director'] = data['director'].fillna('другой режиссёр')\n",
    "\n",
    "TOP_N_DIRECTORS = 20\n",
    "top_directors = data['director'].value_counts().nlargest(TOP_N_DIRECTORS).index\n",
    "\n",
    "data['director_limited'] = data['director'].apply(lambda x: x if x in top_directors else 'другой режиссёр')\n",
    "director_ohe = pd.get_dummies(data['director_limited'], prefix='director', dtype=int, drop_first=True)\n",
    "\n",
    "data = pd.concat([data, director_ohe], axis=1)"
   ]
  },
  {
   "cell_type": "markdown",
   "metadata": {
    "id": "EydpKBUrszbu"
   },
   "source": [
    "С режиссерами поступим так же, как со студиями - выявим 20 наиболее популярных значений, остальные закодируем как \"другие\""
   ]
  },
  {
   "cell_type": "markdown",
   "metadata": {
    "id": "pB7qkdgbM6w3"
   },
   "source": [
    "### Обработка producer"
   ]
  },
  {
   "cell_type": "code",
   "execution_count": 151,
   "metadata": {
    "colab": {
     "base_uri": "https://localhost:8080/",
     "height": 489
    },
    "executionInfo": {
     "elapsed": 6,
     "status": "ok",
     "timestamp": 1744274225842,
     "user": {
      "displayName": "Татьяна Стрельницкая",
      "userId": "08357198606275998011"
     },
     "user_tz": -180
    },
    "id": "4rb18PIiz9F-",
    "outputId": "6d276bc6-ed28-40c8-d5f8-c66316cae411"
   },
   "outputs": [
    {
     "data": {
      "text/html": [
       "<div>\n",
       "<style scoped>\n",
       "    .dataframe tbody tr th:only-of-type {\n",
       "        vertical-align: middle;\n",
       "    }\n",
       "\n",
       "    .dataframe tbody tr th {\n",
       "        vertical-align: top;\n",
       "    }\n",
       "\n",
       "    .dataframe thead th {\n",
       "        text-align: right;\n",
       "    }\n",
       "</style>\n",
       "<table border=\"1\" class=\"dataframe\">\n",
       "  <thead>\n",
       "    <tr style=\"text-align: right;\">\n",
       "      <th></th>\n",
       "      <th>count</th>\n",
       "    </tr>\n",
       "    <tr>\n",
       "      <th>producer</th>\n",
       "      <th></th>\n",
       "    </tr>\n",
       "  </thead>\n",
       "  <tbody>\n",
       "    <tr>\n",
       "      <th>П.Смирнов</th>\n",
       "      <td>67</td>\n",
       "    </tr>\n",
       "    <tr>\n",
       "      <th>Олег Кузовков, Дмитрий Ловейко, Марина Ратина</th>\n",
       "      <td>28</td>\n",
       "    </tr>\n",
       "    <tr>\n",
       "      <th>С.Сельянов</th>\n",
       "      <td>18</td>\n",
       "    </tr>\n",
       "    <tr>\n",
       "      <th>Д.Ловейко, О.Кузовков</th>\n",
       "      <td>16</td>\n",
       "    </tr>\n",
       "    <tr>\n",
       "      <th>Кевин Фейги</th>\n",
       "      <td>11</td>\n",
       "    </tr>\n",
       "    <tr>\n",
       "      <th>...</th>\n",
       "      <td>...</td>\n",
       "    </tr>\n",
       "    <tr>\n",
       "      <th>Жан-Клод Ван Дамм, Эвзен Килар</th>\n",
       "      <td>1</td>\n",
       "    </tr>\n",
       "    <tr>\n",
       "      <th>Дж.Д. Лифшиц, Рафаэль Маргулес</th>\n",
       "      <td>1</td>\n",
       "    </tr>\n",
       "    <tr>\n",
       "      <th>Эрик Инглэнд, Дж.Д. Лифшиц, Рафаэль Маргулес</th>\n",
       "      <td>1</td>\n",
       "    </tr>\n",
       "    <tr>\n",
       "      <th>Б.Бакурадзе, Ю.Мишкинене, З.Болотаев, А.Плотников</th>\n",
       "      <td>1</td>\n",
       "    </tr>\n",
       "    <tr>\n",
       "      <th>Р.Давлетьяров, А.Котелевский, Е.Аманшаев</th>\n",
       "      <td>1</td>\n",
       "    </tr>\n",
       "  </tbody>\n",
       "</table>\n",
       "<p>5270 rows × 1 columns</p>\n",
       "</div><br><label><b>dtype:</b> int64</label>"
      ],
      "text/plain": [
       "producer\n",
       "П.Смирнов                                            67\n",
       "Олег Кузовков, Дмитрий Ловейко, Марина Ратина        28\n",
       "С.Сельянов                                           18\n",
       "Д.Ловейко, О.Кузовков                                16\n",
       "Кевин Фейги                                          11\n",
       "                                                     ..\n",
       "Жан-Клод Ван Дамм, Эвзен Килар                        1\n",
       "Дж.Д. Лифшиц, Рафаэль Маргулес                        1\n",
       "Эрик Инглэнд, Дж.Д. Лифшиц, Рафаэль Маргулес          1\n",
       "Б.Бакурадзе, Ю.Мишкинене, З.Болотаев, А.Плотников     1\n",
       "Р.Давлетьяров, А.Котелевский, Е.Аманшаев              1\n",
       "Name: count, Length: 5270, dtype: int64"
      ]
     },
     "execution_count": 151,
     "metadata": {},
     "output_type": "execute_result"
    }
   ],
   "source": [
    "data['producer'].value_counts()"
   ]
  },
  {
   "cell_type": "code",
   "execution_count": 152,
   "metadata": {
    "executionInfo": {
     "elapsed": 25,
     "status": "ok",
     "timestamp": 1744274225881,
     "user": {
      "displayName": "Татьяна Стрельницкая",
      "userId": "08357198606275998011"
     },
     "user_tz": -180
    },
    "id": "GiwFgGrjOLs1"
   },
   "outputs": [],
   "source": [
    "data['producer'] = data['producer'].astype(str).str.strip().str.lower()\n",
    "data['producer'] = data['producer'].fillna('другой продюсер')\n",
    "\n",
    "TOP_N_PRODUCERS = 20\n",
    "top_producers = data['producer'].value_counts().nlargest(TOP_N_PRODUCERS).index\n",
    "\n",
    "data['producer_limited'] = data['producer'].apply(lambda x: x if x in top_producers else 'другой продюсер')\n",
    "producer_ohe = pd.get_dummies(data['producer_limited'], prefix='producer', dtype=int, drop_first=True)\n",
    "\n",
    "data = pd.concat([data, producer_ohe], axis=1)"
   ]
  },
  {
   "cell_type": "markdown",
   "metadata": {
    "id": "TZrn5M5KhYwV"
   },
   "source": [
    "### Обработка age_restriction"
   ]
  },
  {
   "cell_type": "code",
   "execution_count": 153,
   "metadata": {
    "colab": {
     "base_uri": "https://localhost:8080/",
     "height": 272
    },
    "executionInfo": {
     "elapsed": 107,
     "status": "ok",
     "timestamp": 1744274225989,
     "user": {
      "displayName": "Татьяна Стрельницкая",
      "userId": "08357198606275998011"
     },
     "user_tz": -180
    },
    "id": "U7_gPcBuz9Dt",
    "outputId": "2da8c277-191c-470c-e724-d3880afd8510"
   },
   "outputs": [
    {
     "data": {
      "text/html": [
       "<div>\n",
       "<style scoped>\n",
       "    .dataframe tbody tr th:only-of-type {\n",
       "        vertical-align: middle;\n",
       "    }\n",
       "\n",
       "    .dataframe tbody tr th {\n",
       "        vertical-align: top;\n",
       "    }\n",
       "\n",
       "    .dataframe thead th {\n",
       "        text-align: right;\n",
       "    }\n",
       "</style>\n",
       "<table border=\"1\" class=\"dataframe\">\n",
       "  <thead>\n",
       "    <tr style=\"text-align: right;\">\n",
       "      <th></th>\n",
       "      <th>count</th>\n",
       "    </tr>\n",
       "    <tr>\n",
       "      <th>age_restriction</th>\n",
       "      <th></th>\n",
       "    </tr>\n",
       "  </thead>\n",
       "  <tbody>\n",
       "    <tr>\n",
       "      <th>«16+» - для детей старше 16 лет</th>\n",
       "      <td>2477</td>\n",
       "    </tr>\n",
       "    <tr>\n",
       "      <th>«12+» - для детей старше 12 лет</th>\n",
       "      <td>1468</td>\n",
       "    </tr>\n",
       "    <tr>\n",
       "      <th>«18+» - запрещено для детей</th>\n",
       "      <td>1410</td>\n",
       "    </tr>\n",
       "    <tr>\n",
       "      <th>«0+» - для любой зрительской аудитории</th>\n",
       "      <td>734</td>\n",
       "    </tr>\n",
       "    <tr>\n",
       "      <th>«6+» - для детей старше 6 лет</th>\n",
       "      <td>597</td>\n",
       "    </tr>\n",
       "  </tbody>\n",
       "</table>\n",
       "</div><br><label><b>dtype:</b> int64</label>"
      ],
      "text/plain": [
       "age_restriction\n",
       "«16+» - для детей старше 16 лет           2477\n",
       "«12+» - для детей старше 12 лет           1468\n",
       "«18+» - запрещено для детей               1410\n",
       "«0+» - для любой зрительской аудитории     734\n",
       "«6+» - для детей старше 6 лет              597\n",
       "Name: count, dtype: int64"
      ]
     },
     "execution_count": 153,
     "metadata": {},
     "output_type": "execute_result"
    }
   ],
   "source": [
    "data['age_restriction'].value_counts()"
   ]
  },
  {
   "cell_type": "code",
   "execution_count": 154,
   "metadata": {
    "executionInfo": {
     "elapsed": 22,
     "status": "ok",
     "timestamp": 1744274226015,
     "user": {
      "displayName": "Татьяна Стрельницкая",
      "userId": "08357198606275998011"
     },
     "user_tz": -180
    },
    "id": "3nLLKsebmbNt"
   },
   "outputs": [],
   "source": [
    "data['age_cleaned'] = (\n",
    "    data['age_restriction']\n",
    "    .fillna('')\n",
    "    .str.extract(r'(\\d+\\+)', expand=False)\n",
    ")\n",
    "\n",
    "age_dummies = pd.get_dummies(data['age_cleaned'], prefix='age', dtype=int)\n",
    "data = pd.concat([data, age_dummies], axis=1)"
   ]
  },
  {
   "cell_type": "markdown",
   "metadata": {
    "id": "HfdYaM6shckA"
   },
   "source": [
    "### Обработка financing_source"
   ]
  },
  {
   "cell_type": "code",
   "execution_count": 155,
   "metadata": {
    "colab": {
     "base_uri": "https://localhost:8080/",
     "height": 209
    },
    "executionInfo": {
     "elapsed": 6,
     "status": "ok",
     "timestamp": 1744274226023,
     "user": {
      "displayName": "Татьяна Стрельницкая",
      "userId": "08357198606275998011"
     },
     "user_tz": -180
    },
    "id": "cnirQm-az9BJ",
    "outputId": "93e5cb55-f13d-48f1-e7b2-dfb53ab7156b"
   },
   "outputs": [
    {
     "data": {
      "text/html": [
       "<div>\n",
       "<style scoped>\n",
       "    .dataframe tbody tr th:only-of-type {\n",
       "        vertical-align: middle;\n",
       "    }\n",
       "\n",
       "    .dataframe tbody tr th {\n",
       "        vertical-align: top;\n",
       "    }\n",
       "\n",
       "    .dataframe thead th {\n",
       "        text-align: right;\n",
       "    }\n",
       "</style>\n",
       "<table border=\"1\" class=\"dataframe\">\n",
       "  <thead>\n",
       "    <tr style=\"text-align: right;\">\n",
       "      <th></th>\n",
       "      <th>count</th>\n",
       "    </tr>\n",
       "    <tr>\n",
       "      <th>financing_source</th>\n",
       "      <th></th>\n",
       "    </tr>\n",
       "  </thead>\n",
       "  <tbody>\n",
       "    <tr>\n",
       "      <th>Министерство культуры</th>\n",
       "      <td>164</td>\n",
       "    </tr>\n",
       "    <tr>\n",
       "      <th>Фонд кино</th>\n",
       "      <td>146</td>\n",
       "    </tr>\n",
       "    <tr>\n",
       "      <th>Министерство культуры, Фонд кино</th>\n",
       "      <td>22</td>\n",
       "    </tr>\n",
       "  </tbody>\n",
       "</table>\n",
       "</div><br><label><b>dtype:</b> int64</label>"
      ],
      "text/plain": [
       "financing_source\n",
       "Министерство культуры               164\n",
       "Фонд кино                           146\n",
       "Министерство культуры, Фонд кино     22\n",
       "Name: count, dtype: int64"
      ]
     },
     "execution_count": 155,
     "metadata": {},
     "output_type": "execute_result"
    }
   ],
   "source": [
    "data['financing_source'].value_counts()"
   ]
  },
  {
   "cell_type": "code",
   "execution_count": 156,
   "metadata": {
    "executionInfo": {
     "elapsed": 22,
     "status": "ok",
     "timestamp": 1744274226044,
     "user": {
      "displayName": "Татьяна Стрельницкая",
      "userId": "08357198606275998011"
     },
     "user_tz": -180
    },
    "id": "KGNY1O2qlo0V"
   },
   "outputs": [],
   "source": [
    "data['financing_list'] = (\n",
    "    data['financing_source']\n",
    "    .fillna('')\n",
    "    .str.replace(r'\\s*,\\s*', ',', regex=True)\n",
    "    .str.strip()\n",
    "    .apply(lambda x: [i.strip() for i in x.split(',') if i.strip()])\n",
    ")\n",
    "\n",
    "financing_dummies = data['financing_list'].explode().str.get_dummies().groupby(level=0).sum()\n",
    "financing_dummies.columns = ['financing_source_mincult', 'financing_source_fond_kino']\n",
    "\n",
    "data = pd.concat([data, financing_dummies], axis=1)"
   ]
  },
  {
   "cell_type": "markdown",
   "metadata": {
    "id": "3wuzQ_JjhjDO"
   },
   "source": [
    "### Обработка genres"
   ]
  },
  {
   "cell_type": "code",
   "execution_count": 157,
   "metadata": {
    "colab": {
     "base_uri": "https://localhost:8080/",
     "height": 489
    },
    "executionInfo": {
     "elapsed": 5,
     "status": "ok",
     "timestamp": 1744274226051,
     "user": {
      "displayName": "Татьяна Стрельницкая",
      "userId": "08357198606275998011"
     },
     "user_tz": -180
    },
    "id": "F-dct-nBz88t",
    "outputId": "2dfa6447-470c-40e0-9e6c-86e24b5b249d"
   },
   "outputs": [
    {
     "data": {
      "text/html": [
       "<div>\n",
       "<style scoped>\n",
       "    .dataframe tbody tr th:only-of-type {\n",
       "        vertical-align: middle;\n",
       "    }\n",
       "\n",
       "    .dataframe tbody tr th {\n",
       "        vertical-align: top;\n",
       "    }\n",
       "\n",
       "    .dataframe thead th {\n",
       "        text-align: right;\n",
       "    }\n",
       "</style>\n",
       "<table border=\"1\" class=\"dataframe\">\n",
       "  <thead>\n",
       "    <tr style=\"text-align: right;\">\n",
       "      <th></th>\n",
       "      <th>count</th>\n",
       "    </tr>\n",
       "    <tr>\n",
       "      <th>genres</th>\n",
       "      <th></th>\n",
       "    </tr>\n",
       "  </thead>\n",
       "  <tbody>\n",
       "    <tr>\n",
       "      <th>драма</th>\n",
       "      <td>441</td>\n",
       "    </tr>\n",
       "    <tr>\n",
       "      <th>комедия</th>\n",
       "      <td>329</td>\n",
       "    </tr>\n",
       "    <tr>\n",
       "      <th>мелодрама,комедия</th>\n",
       "      <td>177</td>\n",
       "    </tr>\n",
       "    <tr>\n",
       "      <th>драма,мелодрама</th>\n",
       "      <td>169</td>\n",
       "    </tr>\n",
       "    <tr>\n",
       "      <th>драма,мелодрама,комедия</th>\n",
       "      <td>161</td>\n",
       "    </tr>\n",
       "    <tr>\n",
       "      <th>...</th>\n",
       "      <td>...</td>\n",
       "    </tr>\n",
       "    <tr>\n",
       "      <th>детский,мультфильм,приключения</th>\n",
       "      <td>1</td>\n",
       "    </tr>\n",
       "    <tr>\n",
       "      <th>драма,история,детектив</th>\n",
       "      <td>1</td>\n",
       "    </tr>\n",
       "    <tr>\n",
       "      <th>боевик,комедия,семейный</th>\n",
       "      <td>1</td>\n",
       "    </tr>\n",
       "    <tr>\n",
       "      <th>фэнтези,комедия,детектив</th>\n",
       "      <td>1</td>\n",
       "    </tr>\n",
       "    <tr>\n",
       "      <th>документальный,боевик,приключения</th>\n",
       "      <td>1</td>\n",
       "    </tr>\n",
       "  </tbody>\n",
       "</table>\n",
       "<p>742 rows × 1 columns</p>\n",
       "</div><br><label><b>dtype:</b> int64</label>"
      ],
      "text/plain": [
       "genres\n",
       "драма                                441\n",
       "комедия                              329\n",
       "мелодрама,комедия                    177\n",
       "драма,мелодрама                      169\n",
       "драма,мелодрама,комедия              161\n",
       "                                    ... \n",
       "детский,мультфильм,приключения         1\n",
       "драма,история,детектив                 1\n",
       "боевик,комедия,семейный                1\n",
       "фэнтези,комедия,детектив               1\n",
       "документальный,боевик,приключения      1\n",
       "Name: count, Length: 742, dtype: int64"
      ]
     },
     "execution_count": 157,
     "metadata": {},
     "output_type": "execute_result"
    }
   ],
   "source": [
    "data['genres'].value_counts()"
   ]
  },
  {
   "cell_type": "markdown",
   "metadata": {
    "id": "ILYwRtTbtnWm"
   },
   "source": [
    "С жанрами такая же логика, как была со странами"
   ]
  },
  {
   "cell_type": "code",
   "execution_count": 158,
   "metadata": {
    "executionInfo": {
     "elapsed": 159,
     "status": "ok",
     "timestamp": 1744274226229,
     "user": {
      "displayName": "Татьяна Стрельницкая",
      "userId": "08357198606275998011"
     },
     "user_tz": -180
    },
    "id": "bOx0YllMh8OF"
   },
   "outputs": [],
   "source": [
    "from collections import Counter\n",
    "\n",
    "data['genre_list'] = (\n",
    "    data['genres']\n",
    "    .fillna('')\n",
    "    .str.replace(r'[-–—]', ',', regex=True)\n",
    "    .str.replace(r'\\s*,\\s*', ',', regex=True)\n",
    "    .str.strip()\n",
    "    .apply(lambda x: [i.strip().lower() for i in x.split(',') if i.strip() and i != 'nan'])\n",
    ")\n",
    "\n",
    "all_genres = data['genre_list'].explode()\n",
    "genre_counts = Counter(all_genres)\n",
    "\n",
    "min_count = 2\n",
    "rare_genres = {genre for genre, count in genre_counts.items() if count < min_count}\n",
    "\n",
    "def replace_rare_genres(genres):\n",
    "    return [g if g not in rare_genres else 'другой жанр' for g in genres]\n",
    "\n",
    "data['genre_list_limited'] = data['genre_list'].apply(replace_rare_genres)\n",
    "genre_dummies = data['genre_list_limited'].explode().str.get_dummies().groupby(level=0).sum()\n",
    "genre_dummies = genre_dummies.add_prefix('genres_')\n",
    "\n",
    "data = pd.concat([data, genre_dummies], axis=1)"
   ]
  },
  {
   "cell_type": "markdown",
   "metadata": {
    "id": "budi1B5ZkxFO"
   },
   "source": [
    "К категории \"другие жанры\" относятся фильмы, у которых значение признака не указано (nan), а также реальное тв и новости"
   ]
  },
  {
   "cell_type": "markdown",
   "metadata": {
    "id": "CgVn4N_qm5Yh"
   },
   "source": [
    "### Обработка пропусков в ratings и box_office"
   ]
  },
  {
   "cell_type": "code",
   "execution_count": 159,
   "metadata": {
    "executionInfo": {
     "elapsed": 13,
     "status": "ok",
     "timestamp": 1744274226248,
     "user": {
      "displayName": "Татьяна Стрельницкая",
      "userId": "08357198606275998011"
     },
     "user_tz": -180
    },
    "id": "5TP1QN88h8FR"
   },
   "outputs": [],
   "source": [
    "data['ratings'] = (\n",
    "    data['ratings']\n",
    "    .astype(str)\n",
    "    .str.strip()\n",
    "    .str.replace(',', '.', regex=False)\n",
    ")\n",
    "\n",
    "data['ratings'] = pd.to_numeric(data['ratings'], errors='coerce')"
   ]
  },
  {
   "cell_type": "code",
   "execution_count": 160,
   "metadata": {
    "colab": {
     "base_uri": "https://localhost:8080/",
     "height": 417
    },
    "executionInfo": {
     "elapsed": 282,
     "status": "ok",
     "timestamp": 1744274226531,
     "user": {
      "displayName": "Татьяна Стрельницкая",
      "userId": "08357198606275998011"
     },
     "user_tz": -180
    },
    "id": "rLlmpR-hnsiz",
    "outputId": "57c3bc1d-81b9-4b22-899b-d2347128908d"
   },
   "outputs": [
    {
     "data": {
      "image/png": "[encoded data removed]",
      "text/plain": [
       "<Figure size 800x400 with 1 Axes>"
      ]
     },
     "metadata": {},
     "output_type": "display_data"
    }
   ],
   "source": [
    "plt.figure(figsize=(8, 4))\n",
    "sns.histplot(data['ratings'].dropna(), bins=30, kde=True, color='skyblue')\n",
    "\n",
    "plt.title('Распределение рейтингов', fontsize=16)\n",
    "plt.xlabel('Рейтинг', fontsize=12)\n",
    "plt.ylabel('Количество фильмов', fontsize=12)\n",
    "plt.grid(True)\n",
    "plt.show()\n"
   ]
  },
  {
   "cell_type": "markdown",
   "metadata": {
    "id": "16PBkK2FDmaX"
   },
   "source": [
    "Пропуски в значении рейтинга заменим медианным значением"
   ]
  },
  {
   "cell_type": "code",
   "execution_count": 161,
   "metadata": {
    "executionInfo": {
     "elapsed": 3,
     "status": "ok",
     "timestamp": 1744274226536,
     "user": {
      "displayName": "Татьяна Стрельницкая",
      "userId": "08357198606275998011"
     },
     "user_tz": -180
    },
    "id": "ws7QokBEoNMw"
   },
   "outputs": [],
   "source": [
    "median_rating = data['ratings'].median()\n",
    "data['ratings'] = data['ratings'].fillna(median_rating)"
   ]
  },
  {
   "cell_type": "markdown",
   "metadata": {
    "id": "-U7kSdhRDt54"
   },
   "source": [
    "В box_office заменим пропуски на 0, так как, предположительно, если у фильма нет значения кассовых сборов, то соответственно в кинотеатрах его скорее всего не показывали"
   ]
  },
  {
   "cell_type": "code",
   "execution_count": 162,
   "metadata": {
    "executionInfo": {
     "elapsed": 3,
     "status": "ok",
     "timestamp": 1744274226541,
     "user": {
      "displayName": "Татьяна Стрельницкая",
      "userId": "08357198606275998011"
     },
     "user_tz": -180
    },
    "id": "6TkB7Bktsn4e"
   },
   "outputs": [],
   "source": [
    "data['box_office'] = data['box_office'].fillna(0)"
   ]
  },
  {
   "cell_type": "code",
   "execution_count": 163,
   "metadata": {
    "colab": {
     "base_uri": "https://localhost:8080/"
    },
    "executionInfo": {
     "elapsed": 17,
     "status": "ok",
     "timestamp": 1744274226557,
     "user": {
      "displayName": "Татьяна Стрельницкая",
      "userId": "08357198606275998011"
     },
     "user_tz": -180
    },
    "id": "kSj92g3Rnsd4",
    "outputId": "718e9790-2431-4006-8685-99cf766de648"
   },
   "outputs": [
    {
     "name": "stdout",
     "output_type": "stream",
     "text": [
      "                 column   dtype  missing_pct\n",
      "0                 title  object         0.00\n",
      "1              puNumber   int64         0.00\n",
      "2       show_start_date  object         0.00\n",
      "3           film_studio  object         0.00\n",
      "4    production_country  object         0.03\n",
      "..                  ...     ...          ...\n",
      "146      genres_триллер   int64         0.00\n",
      "147        genres_ужасы   int64         0.00\n",
      "148   genres_фантастика   int64         0.00\n",
      "149        genres_фильм   int64         0.00\n",
      "150      genres_фэнтези   int64         0.00\n",
      "\n",
      "[151 rows x 3 columns]\n"
     ]
    }
   ],
   "source": [
    "info_df = pd.DataFrame({\n",
    "    'column': data.columns,\n",
    "    'dtype': data.dtypes,\n",
    "    'missing_pct': data.isnull().mean() * 100\n",
    "}).reset_index(drop=True)\n",
    "\n",
    "info_df['missing_pct'] = info_df['missing_pct'].round(2)\n",
    "print(info_df)"
   ]
  },
  {
   "cell_type": "code",
   "execution_count": 164,
   "metadata": {
    "executionInfo": {
     "elapsed": 45,
     "status": "ok",
     "timestamp": 1744274226603,
     "user": {
      "displayName": "Татьяна Стрельницкая",
      "userId": "08357198606275998011"
     },
     "user_tz": -180
    },
    "id": "UIJQokws39-L"
   },
   "outputs": [],
   "source": [
    "features = [\n",
    "    'ratings',\n",
    "    'box_office',\n",
    "    'year', 'month', 'weekday', 'day',\n",
    "    'type_анимационный', 'type_документальный', 'type_научно-популярный', 'type_прочие', 'type_художественный',\n",
    "    'studio_', 'studio_анимаккорд лтд', 'studio_дримуоркс анимейшн', 'studio_другая студия', 'studio_зао \"аэроплан\"', 'studio_киностудия \"мосфильм\"',\n",
    "    'studio_оао \"тпо \"санкт-петербургская студия документальных фильмов\"', 'studio_ооо \"кинокомпания \"ств\"', 'studio_ооо \"мульт в кино\"',\n",
    "    'studio_ооо \"продюсерский центр ералаш\"', 'studio_ооо \"студия анимационного кино \"мельница\"', 'studio_ооо \"таббак\"', 'studio_ооо \"энджой мувиз\"', 'studio_опус арте',\n",
    "    'studio_пиксар анимейшн студиос, уолт дисней пикчерз', 'studio_р а и синема', 'studio_свердловская киностудия', 'studio_синема лайв', 'studio_уорнер бразерс',\n",
    "    'studio_фгуп \"тпо \"киностудия \"союзмультфильм\"', 'studio_эр а и синема',\n",
    "    'country_сша', 'country_россия', 'country_франция', 'country_великобритания', 'country_германия', 'country_ссср', 'country_италия', 'country_канада',\n",
    "    'country_бельгия', 'country_испания', 'country_австралия', 'country_китай', 'country_япония', 'country_дания', 'country_швеция', 'country_кипр',\n",
    "    'country_нидерланды','country_ирландия', 'country_индия', 'country_норвегия',\n",
    "    'director_вуди аллен', 'director_георгий орлов', 'director_д.дьяченко', 'director_д.червяцов', 'director_другой режиссёр', 'director_квентин тарантино', 'director_клинт иствуд',\n",
    "    'director_кристофер нолан', 'director_л.гайдай','director_люк бессон', 'director_н.михалков', 'director_о.семёнова', 'director_п.смирнов', 'director_питер джексон',\n",
    "    'director_ридли скотт', 'director_роберт земекис', 'director_роберт родригес', 'director_с.андреасян', 'director_стивен содерберг', 'director_стивен спилберг',\n",
    "    'producer_а.герасимов', 'producer_а.тельнов', 'producer_а.учитель, к.саксаганская', 'producer_б.машковцев, с.струсовский', 'producer_г.васильев, м.мэннис, и.попов',\n",
    "    'producer_д.ловейко, о.кузовков', 'producer_джерри брукхаймер', 'producer_другой продюсер', 'producer_и.гелашвили', 'producer_кевин фейги', 'producer_н.мокрицкая',\n",
    "    'producer_олег кузовков, дмитрий ловейко, марина ратина', 'producer_ооо \"продюсерский центр ералаш\"', 'producer_п.смирнов', 'producer_с.говорухин, е.маскина',\n",
    "    'producer_с.сельянов', 'producer_с.сельянов, а.боярский', 'producer_фгуп \"киноконцерн \"мосфильм\"', 'producer_фил грабски', 'producer_э.пичугин',\n",
    "    'age_0+', 'age_12+', 'age_16+', 'age_18+', 'age_6+',\n",
    "    'financing_source_mincult', 'financing_source_fond_kino',\n",
    "    'genres_аниме', 'genres_биография', 'genres_боевик', 'genres_вестерн', 'genres_военный', 'genres_детектив', 'genres_детский', 'genres_для взрослых', 'genres_документальный',\n",
    "    'genres_драма', 'genres_другой жанр', 'genres_история', 'genres_комедия', 'genres_концерт', 'genres_короткометражка', 'genres_криминал', 'genres_мелодрама',\n",
    "    'genres_музыка', 'genres_мультфильм', 'genres_мюзикл', 'genres_нуар', 'genres_приключения', 'genres_семейный', 'genres_спорт', 'genres_триллер', 'genres_ужасы',\n",
    "    'genres_фантастика', 'genres_фильм','genres_фэнтези'\n",
    "]\n"
   ]
  },
  {
   "cell_type": "code",
   "execution_count": 165,
   "metadata": {
    "executionInfo": {
     "elapsed": 1,
     "status": "ok",
     "timestamp": 1744274226615,
     "user": {
      "displayName": "Татьяна Стрельницкая",
      "userId": "08357198606275998011"
     },
     "user_tz": -180
    },
    "id": "r-KSTmoA397a"
   },
   "outputs": [],
   "source": [
    "data = data[features]"
   ]
  },
  {
   "cell_type": "markdown",
   "metadata": {
    "id": "JTyB12WZ62kV"
   },
   "source": [
    "### Скалирование"
   ]
  },
  {
   "cell_type": "markdown",
   "metadata": {
    "id": "L3hdjkZZLGuS"
   },
   "source": [
    "Скалируем только box_office, так как все остальные признаки и так представлены собственно в диапазоне от 0 до 1"
   ]
  },
  {
   "cell_type": "code",
   "execution_count": 166,
   "metadata": {
    "colab": {
     "base_uri": "https://localhost:8080/"
    },
    "executionInfo": {
     "elapsed": 7,
     "status": "ok",
     "timestamp": 1744274226624,
     "user": {
      "displayName": "Татьяна Стрельницкая",
      "userId": "08357198606275998011"
     },
     "user_tz": -180
    },
    "id": "jw4s00os390h",
    "outputId": "addc6613-0fe2-4b77-d75a-ff6e88d19569"
   },
   "outputs": [
    {
     "name": "stderr",
     "output_type": "stream",
     "text": [
      "<ipython-input-166-a9e76a75e1a2>:2: SettingWithCopyWarning: \n",
      "A value is trying to be set on a copy of a slice from a DataFrame.\n",
      "Try using .loc[row_indexer,col_indexer] = value instead\n",
      "\n",
      "See the caveats in the documentation: https://pandas.pydata.org/pandas-docs/stable/user_guide/indexing.html#returning-a-view-versus-a-copy\n",
      "  data['box_office'] = scaler.fit_transform(data[['box_office']])\n"
     ]
    }
   ],
   "source": [
    "scaler = StandardScaler()\n",
    "data['box_office'] = scaler.fit_transform(data[['box_office']])"
   ]
  },
  {
   "cell_type": "markdown",
   "metadata": {
    "id": "wOhRY3jo3-jB"
   },
   "source": [
    "## 2. baseline"
   ]
  },
  {
   "cell_type": "code",
   "execution_count": 167,
   "metadata": {
    "executionInfo": {
     "elapsed": 2,
     "status": "ok",
     "timestamp": 1744274226627,
     "user": {
      "displayName": "Татьяна Стрельницкая",
      "userId": "08357198606275998011"
     },
     "user_tz": -180
    },
    "id": "RPs_QATV-8bZ"
   },
   "outputs": [],
   "source": [
    "class MovieRatingNN(nn.Module):\n",
    "    def __init__(self, input_dim, hidden_dims=[64, 32]):\n",
    "        super(MovieRatingNN, self).__init__()\n",
    "        layers = []\n",
    "        prev_dim = input_dim\n",
    "\n",
    "        for h in hidden_dims:\n",
    "            layers.append(nn.Linear(prev_dim, h))\n",
    "            layers.append(nn.ReLU())\n",
    "            prev_dim = h\n",
    "\n",
    "        layers.append(nn.Linear(prev_dim, 1))\n",
    "        self.model = nn.Sequential(*layers)\n",
    "\n",
    "    def forward(self, x):\n",
    "        return self.model(x)"
   ]
  },
  {
   "cell_type": "code",
   "execution_count": 168,
   "metadata": {
    "colab": {
     "base_uri": "https://localhost:8080/"
    },
    "executionInfo": {
     "elapsed": 66410,
     "status": "ok",
     "timestamp": 1744274293038,
     "user": {
      "displayName": "Татьяна Стрельницкая",
      "userId": "08357198606275998011"
     },
     "user_tz": -180
    },
    "id": "NiSJ2aqb0szi",
    "outputId": "5bb0aa27-ebbc-47f3-8cda-3fa36e1466ab"
   },
   "outputs": [
    {
     "name": "stdout",
     "output_type": "stream",
     "text": [
      "Epoch 10/300, Loss: 0.7227\n",
      "Epoch 20/300, Loss: 0.5153\n",
      "Epoch 30/300, Loss: 0.5820\n",
      "Epoch 40/300, Loss: 0.7271\n",
      "Epoch 50/300, Loss: 0.7662\n",
      "Epoch 60/300, Loss: 0.2960\n",
      "Epoch 70/300, Loss: 1.2562\n",
      "Epoch 80/300, Loss: 0.6846\n",
      "Epoch 90/300, Loss: 0.4025\n",
      "Epoch 100/300, Loss: 0.4507\n",
      "Epoch 110/300, Loss: 0.4657\n",
      "Epoch 120/300, Loss: 0.2665\n",
      "Epoch 130/300, Loss: 0.3776\n",
      "Epoch 140/300, Loss: 0.2705\n",
      "Epoch 150/300, Loss: 0.4345\n",
      "Epoch 160/300, Loss: 0.5986\n",
      "Epoch 170/300, Loss: 0.2132\n",
      "Epoch 180/300, Loss: 0.3582\n",
      "Epoch 190/300, Loss: 0.2232\n",
      "Epoch 200/300, Loss: 0.2338\n",
      "Epoch 210/300, Loss: 0.3068\n",
      "Epoch 220/300, Loss: 0.2539\n",
      "Epoch 230/300, Loss: 0.3024\n",
      "Epoch 240/300, Loss: 0.4679\n",
      "Epoch 250/300, Loss: 0.5380\n",
      "Epoch 260/300, Loss: 0.3032\n",
      "Epoch 270/300, Loss: 0.1888\n",
      "Epoch 280/300, Loss: 0.4443\n",
      "Epoch 290/300, Loss: 0.2172\n",
      "Epoch 300/300, Loss: 0.3677\n"
     ]
    }
   ],
   "source": [
    "def train_model(X, y, hidden_dims=[64, 32], lr=1e-3, epochs=100, batch_size=64):\n",
    "    X_train, X_test, y_train, y_test = train_test_split(X, y, test_size=0.2, random_state=42)\n",
    "\n",
    "    X_train_t = torch.tensor(X_train.values, dtype=torch.float32)\n",
    "    y_train_t = torch.tensor(y_train.values, dtype=torch.float32).view(-1, 1)\n",
    "    X_test_t = torch.tensor(X_test.values, dtype=torch.float32)\n",
    "    y_test_t = torch.tensor(y_test.values, dtype=torch.float32).view(-1, 1)\n",
    "\n",
    "    train_loader = DataLoader(TensorDataset(X_train_t, y_train_t), batch_size=batch_size, shuffle=True)\n",
    "\n",
    "    model = MovieRatingNN(input_dim=X.shape[1], hidden_dims=hidden_dims)\n",
    "    optimizer = optim.Adam(model.parameters(), lr=lr)\n",
    "    loss_fn = nn.MSELoss()\n",
    "\n",
    "    for epoch in range(epochs):\n",
    "        model.train()\n",
    "        for xb, yb in train_loader:\n",
    "            pred = model(xb)\n",
    "            loss = loss_fn(pred, yb)\n",
    "            optimizer.zero_grad()\n",
    "            loss.backward()\n",
    "            optimizer.step()\n",
    "\n",
    "        if (epoch + 1) % 10 == 0:\n",
    "            print(f\"Epoch {epoch+1}/{epochs}, Loss: {loss.item():.4f}\")\n",
    "\n",
    "    return model, X_test_t, y_test_t\n",
    "\n",
    "\n",
    "target = 'ratings'\n",
    "features = data.select_dtypes(include=['int64', 'float64']).drop(columns=[target])\n",
    "\n",
    "model, X_test_t, y_test_t = train_model(features, data[target], hidden_dims=[128, 64], epochs=300)"
   ]
  },
  {
   "cell_type": "code",
   "execution_count": 169,
   "metadata": {
    "colab": {
     "base_uri": "https://localhost:8080/",
     "height": 564
    },
    "executionInfo": {
     "elapsed": 393,
     "status": "ok",
     "timestamp": 1744274293433,
     "user": {
      "displayName": "Татьяна Стрельницкая",
      "userId": "08357198606275998011"
     },
     "user_tz": -180
    },
    "id": "kr8DLxGt0sxj",
    "outputId": "46868bcc-1eb5-49ed-91d8-44deb67aed1d"
   },
   "outputs": [
    {
     "data": {
      "image/png": "[encoded data removed]",
      "text/plain": [
       "<Figure size 1000x600 with 1 Axes>"
      ]
     },
     "metadata": {},
     "output_type": "display_data"
    }
   ],
   "source": [
    "model.eval()\n",
    "with torch.no_grad():\n",
    "    y_pred = model(X_test_t).squeeze()\n",
    "\n",
    "plt.figure(figsize=(10, 6))\n",
    "plt.hist(y_test_t, bins=30, alpha=0.5, label='Факт')\n",
    "plt.hist(y_pred, bins=30, alpha=0.5, label='Прогноз')\n",
    "plt.xlabel('Рейтинг')\n",
    "plt.ylabel('Частота')\n",
    "plt.title('Факт/Прогноз')\n",
    "plt.legend(loc='upper right')\n",
    "plt.grid(True)\n",
    "plt.show()"
   ]
  },
  {
   "cell_type": "markdown",
   "metadata": {
    "id": "M79w76--yf9g"
   },
   "source": [
    "Таким образом, loss в целом снижается, что свидетельствует о хорошей работе модели. Однако значение loss довольно сильно колеблется от эпохи к эпохе - попробуем это исправить"
   ]
  },
  {
   "cell_type": "code",
   "execution_count": 170,
   "metadata": {
    "executionInfo": {
     "elapsed": 4,
     "status": "ok",
     "timestamp": 1744274293438,
     "user": {
      "displayName": "Татьяна Стрельницкая",
      "userId": "08357198606275998011"
     },
     "user_tz": -180
    },
    "id": "BjzkIGkewx1Y"
   },
   "outputs": [],
   "source": [
    "class MovieRatingImprovedNN(nn.Module):\n",
    "    def __init__(self, input_dim, hidden_dims=[128, 64], activation=nn.ReLU, dropout=0.3):\n",
    "        super().__init__()\n",
    "        layers = []\n",
    "        prev_dim = input_dim\n",
    "\n",
    "        for h in hidden_dims:\n",
    "            layers.append(nn.Linear(prev_dim, h))\n",
    "            layers.append(nn.BatchNorm1d(h))\n",
    "            layers.append(activation())\n",
    "            layers.append(nn.Dropout(dropout))\n",
    "            prev_dim = h\n",
    "\n",
    "        layers.append(nn.Linear(prev_dim, 1))\n",
    "        self.model = nn.Sequential(*layers)\n",
    "\n",
    "    def forward(self, x):\n",
    "        return self.model(x)"
   ]
  },
  {
   "cell_type": "code",
   "execution_count": null,
   "metadata": {
    "id": "5QUkzzY75AJa"
   },
   "outputs": [],
   "source": [
    "def train_with_validation(X, y, lr=1e-4, batch_size=128, epochs=100):\n",
    "    # Train / Val split\n",
    "    X_train, X_val, y_train, y_val = train_test_split(X, y, test_size=0.2, random_state=42)\n",
    "\n",
    "    X_train_t = torch.tensor(X_train.values, dtype=torch.float32)\n",
    "    y_train_t = torch.tensor(y_train.values, dtype=torch.float32).view(-1, 1)\n",
    "    X_val_t = torch.tensor(X_val.values, dtype=torch.float32)\n",
    "    y_val_t = torch.tensor(y_val.values, dtype=torch.float32).view(-1, 1)\n",
    "\n",
    "\n",
    "    train_loader = DataLoader(TensorDataset(X_train_t, y_train_t), batch_size=batch_size, shuffle=True)\n",
    "\n",
    "    model = MovieRatingImprovedNN(input_dim=X.shape[1])\n",
    "    optimizer = torch.optim.Adam(model.parameters(), lr=lr, weight_decay=1e-5)\n",
    "    loss_fn = nn.MSELoss()\n",
    "\n",
    "    train_losses, val_losses = [], []\n",
    "\n",
    "    for epoch in range(1, epochs + 1):\n",
    "        model.train()\n",
    "        for xb, yb in train_loader:\n",
    "            pred = model(xb)\n",
    "            loss = loss_fn(pred, yb)\n",
    "            optimizer.zero_grad()\n",
    "            loss.backward()\n",
    "            optimizer.step()\n",
    "\n",
    "        model.eval()\n",
    "        with torch.no_grad():\n",
    "            val_pred = model(X_val_t)\n",
    "            val_loss = loss_fn(val_pred, y_val_t).item()\n",
    "            train_pred = model(X_train_t)\n",
    "            train_loss = loss_fn(train_pred, y_train_t).item()\n",
    "\n",
    "        train_losses.append(train_loss)\n",
    "        val_losses.append(val_loss)\n",
    "\n",
    "        if epoch % 10 == 0 or epoch == 1:\n",
    "            print(f\"Epoch {epoch}/{epochs}, Train Loss: {train_loss:.4f}, Val Loss: {val_loss:.4f}\")\n",
    "\n",
    "    return model, train_losses, val_losses"
   ]
  },
  {
   "cell_type": "code",
   "execution_count": 171,
   "metadata": {
    "colab": {
     "base_uri": "https://localhost:8080/",
     "height": 1000
    },
    "executionInfo": {
     "elapsed": 56647,
     "status": "ok",
     "timestamp": 1744274350083,
     "user": {
      "displayName": "Татьяна Стрельницкая",
      "userId": "08357198606275998011"
     },
     "user_tz": -180
    },
    "id": "lovgNW7BwxzC",
    "outputId": "274afd3c-952e-4657-9122-8255beb2e930"
   },
   "outputs": [
    {
     "name": "stdout",
     "output_type": "stream",
     "text": [
      "Epoch 1/300, Train Loss: 42.2398, Val Loss: 42.0877\n",
      "Epoch 10/300, Train Loss: 29.9939, Val Loss: 30.0987\n",
      "Epoch 20/300, Train Loss: 19.1510, Val Loss: 19.2447\n",
      "Epoch 30/300, Train Loss: 10.2273, Val Loss: 10.2653\n",
      "Epoch 40/300, Train Loss: 4.6413, Val Loss: 4.6717\n",
      "Epoch 50/300, Train Loss: 2.1404, Val Loss: 2.1887\n",
      "Epoch 60/300, Train Loss: 1.2866, Val Loss: 1.3647\n",
      "Epoch 70/300, Train Loss: 1.0698, Val Loss: 1.1759\n",
      "Epoch 80/300, Train Loss: 0.9330, Val Loss: 1.0590\n",
      "Epoch 90/300, Train Loss: 0.9251, Val Loss: 1.0614\n",
      "Epoch 100/300, Train Loss: 0.8907, Val Loss: 1.0398\n",
      "Epoch 110/300, Train Loss: 0.8518, Val Loss: 1.0127\n",
      "Epoch 120/300, Train Loss: 0.8513, Val Loss: 1.0162\n",
      "Epoch 130/300, Train Loss: 0.8203, Val Loss: 0.9936\n",
      "Epoch 140/300, Train Loss: 0.8078, Val Loss: 0.9866\n",
      "Epoch 150/300, Train Loss: 0.8030, Val Loss: 0.9846\n",
      "Epoch 160/300, Train Loss: 0.7657, Val Loss: 0.9574\n",
      "Epoch 170/300, Train Loss: 0.7409, Val Loss: 0.9381\n",
      "Epoch 180/300, Train Loss: 0.7305, Val Loss: 0.9315\n",
      "Epoch 190/300, Train Loss: 0.7256, Val Loss: 0.9320\n",
      "Epoch 200/300, Train Loss: 0.7240, Val Loss: 0.9344\n",
      "Epoch 210/300, Train Loss: 0.7293, Val Loss: 0.9437\n",
      "Epoch 220/300, Train Loss: 0.7169, Val Loss: 0.9337\n",
      "Epoch 230/300, Train Loss: 0.6973, Val Loss: 0.9261\n",
      "Epoch 240/300, Train Loss: 0.6778, Val Loss: 0.9046\n",
      "Epoch 250/300, Train Loss: 0.6592, Val Loss: 0.8898\n",
      "Epoch 260/300, Train Loss: 0.6465, Val Loss: 0.8855\n",
      "Epoch 270/300, Train Loss: 0.6592, Val Loss: 0.9051\n",
      "Epoch 280/300, Train Loss: 0.6348, Val Loss: 0.8768\n",
      "Epoch 290/300, Train Loss: 0.6217, Val Loss: 0.8721\n",
      "Epoch 300/300, Train Loss: 0.6228, Val Loss: 0.8739\n"
     ]
    },
    {
     "data": {
      "image/png": "[encoded data removed]",
      "text/plain": [
       "<Figure size 1000x500 with 1 Axes>"
      ]
     },
     "metadata": {},
     "output_type": "display_data"
    }
   ],
   "source": [
    "model, train_losses, val_losses = train_with_validation(features, data['ratings'], epochs=300)\n",
    "\n",
    "plt.figure(figsize=(10, 5))\n",
    "plt.plot(train_losses, label=\"Train Loss\")\n",
    "plt.plot(val_losses, label=\"Validation Loss\")\n",
    "plt.xlabel(\"Epoch\")\n",
    "plt.ylabel(\"Loss\")\n",
    "plt.title(\"Train vs Validation Loss\")\n",
    "plt.legend()\n",
    "plt.grid(True)\n",
    "plt.show()"
   ]
  },
  {
   "cell_type": "markdown",
   "metadata": {
    "id": "91lLCjFhzgXh"
   },
   "source": [
    "Теперь модель стала более стабильной, loss уменьшается постепенно, хотя кажется имеется небольшое переобучение, судя по отличиям между трейновым и валидационным значением loss"
   ]
  },
  {
   "cell_type": "markdown",
   "metadata": {
    "id": "SwwsL44P3Gpy"
   },
   "source": [
    "## 3. Улучшение нейросети"
   ]
  },
  {
   "cell_type": "code",
   "execution_count": 173,
   "metadata": {
    "executionInfo": {
     "elapsed": 3,
     "status": "ok",
     "timestamp": 1744274350322,
     "user": {
      "displayName": "Татьяна Стрельницкая",
      "userId": "08357198606275998011"
     },
     "user_tz": -180
    },
    "id": "r9M4Xh650ss5"
   },
   "outputs": [],
   "source": [
    "class MovieRatingNN(nn.Module):\n",
    "    def __init__(self, input_dim, hidden_dims=[128, 64], activation=nn.ReLU, dropout=0.0, use_bn=False):\n",
    "        super().__init__()\n",
    "        layers = []\n",
    "        prev_dim = input_dim\n",
    "\n",
    "        for h in hidden_dims:\n",
    "            layers.append(nn.Linear(prev_dim, h))\n",
    "            if use_bn:\n",
    "                layers.append(nn.BatchNorm1d(h))\n",
    "            layers.append(activation())\n",
    "            if dropout > 0:\n",
    "                layers.append(nn.Dropout(dropout))\n",
    "            prev_dim = h\n",
    "\n",
    "        layers.append(nn.Linear(prev_dim, 1))\n",
    "        self.model = nn.Sequential(*layers)\n",
    "\n",
    "    def forward(self, x):\n",
    "        return self.model(x)"
   ]
  },
  {
   "cell_type": "code",
   "execution_count": 174,
   "metadata": {
    "executionInfo": {
     "elapsed": 2,
     "status": "ok",
     "timestamp": 1744274350325,
     "user": {
      "displayName": "Татьяна Стрельницкая",
      "userId": "08357198606275998011"
     },
     "user_tz": -180
    },
    "id": "3-lbBgqB0sq3"
   },
   "outputs": [],
   "source": [
    "def train_and_evaluate(X, y, activation_fn, dropout, use_bn, batch_size, epochs=100):\n",
    "    X_train, X_test, y_train, y_test = train_test_split(X, y, test_size=0.2, random_state=42)\n",
    "\n",
    "    X_train_t = torch.tensor(X_train.values, dtype=torch.float32)\n",
    "    y_train_t = torch.tensor(y_train.values, dtype=torch.float32).view(-1, 1)\n",
    "    X_test_t = torch.tensor(X_test.values, dtype=torch.float32)\n",
    "    y_test_t = torch.tensor(y_test.values, dtype=torch.float32).view(-1, 1)\n",
    "\n",
    "    train_loader = DataLoader(TensorDataset(X_train_t, y_train_t), batch_size=batch_size, shuffle=True)\n",
    "\n",
    "    model = MovieRatingNN(input_dim=X.shape[1],\n",
    "                          activation=activation_fn,\n",
    "                          dropout=dropout,\n",
    "                          use_bn=use_bn)\n",
    "\n",
    "    optimizer = torch.optim.Adam(model.parameters(), lr=1e-3)\n",
    "    loss_fn = nn.MSELoss()\n",
    "\n",
    "    for epoch in range(epochs):\n",
    "        model.train()\n",
    "        for xb, yb in train_loader:\n",
    "            optimizer.zero_grad()\n",
    "            pred = model(xb)\n",
    "            loss = loss_fn(pred, yb)\n",
    "            loss.backward()\n",
    "            optimizer.step()\n",
    "\n",
    "    model.eval()\n",
    "    with torch.no_grad():\n",
    "        preds = model(X_test_t).numpy().flatten()\n",
    "        true_vals = y_test_t.numpy().flatten()\n",
    "        rmse = np.sqrt(mean_squared_error(true_vals, preds))\n",
    "    return rmse, preds, true_vals"
   ]
  },
  {
   "cell_type": "code",
   "execution_count": 175,
   "metadata": {
    "colab": {
     "base_uri": "https://localhost:8080/"
    },
    "executionInfo": {
     "elapsed": 521564,
     "status": "ok",
     "timestamp": 1744274871891,
     "user": {
      "displayName": "Татьяна Стрельницкая",
      "userId": "08357198606275998011"
     },
     "user_tz": -180
    },
    "id": "mi62KlJ90shQ",
    "outputId": "aa45ee36-3a27-4644-c4a0-d9380d51d6df"
   },
   "outputs": [
    {
     "name": "stdout",
     "output_type": "stream",
     "text": [
      "Done: ReLU, Dropout=0.0, BN=False, BS=32, RMSE=0.9578\n",
      "Done: ReLU, Dropout=0.0, BN=False, BS=64, RMSE=0.9523\n",
      "Done: ReLU, Dropout=0.0, BN=True, BS=32, RMSE=0.9286\n",
      "Done: ReLU, Dropout=0.0, BN=True, BS=64, RMSE=0.9607\n",
      "Done: ReLU, Dropout=0.3, BN=False, BS=32, RMSE=0.8877\n",
      "Done: ReLU, Dropout=0.3, BN=False, BS=64, RMSE=0.8795\n",
      "Done: ReLU, Dropout=0.3, BN=True, BS=32, RMSE=0.8743\n",
      "Done: ReLU, Dropout=0.3, BN=True, BS=64, RMSE=0.9028\n",
      "Done: Tanh, Dropout=0.0, BN=False, BS=32, RMSE=0.8994\n",
      "Done: Tanh, Dropout=0.0, BN=False, BS=64, RMSE=0.8970\n",
      "Done: Tanh, Dropout=0.0, BN=True, BS=32, RMSE=0.9354\n",
      "Done: Tanh, Dropout=0.0, BN=True, BS=64, RMSE=0.9295\n",
      "Done: Tanh, Dropout=0.3, BN=False, BS=32, RMSE=0.8892\n",
      "Done: Tanh, Dropout=0.3, BN=False, BS=64, RMSE=0.8931\n",
      "Done: Tanh, Dropout=0.3, BN=True, BS=32, RMSE=0.8547\n",
      "Done: Tanh, Dropout=0.3, BN=True, BS=64, RMSE=0.8641\n"
     ]
    }
   ],
   "source": [
    "param_grid = {\n",
    "    'activation_fn': [nn.ReLU, nn.Tanh],\n",
    "    'dropout': [0.0, 0.3],\n",
    "    'use_bn': [False, True],\n",
    "    'batch_size': [32, 64]\n",
    "}\n",
    "\n",
    "results = []\n",
    "for act_fn in param_grid['activation_fn']:\n",
    "    for dr in param_grid['dropout']:\n",
    "        for bn in param_grid['use_bn']:\n",
    "            for bs in param_grid['batch_size']:\n",
    "                rmse, preds, y_true = train_and_evaluate(\n",
    "                    features, data['ratings'],\n",
    "                    activation_fn=act_fn,\n",
    "                    dropout=dr,\n",
    "                    use_bn=bn,\n",
    "                    batch_size=bs,\n",
    "                    epochs=100\n",
    "                )\n",
    "                results.append({\n",
    "                    'activation': act_fn.__name__,\n",
    "                    'dropout': dr,\n",
    "                    'batch_norm': bn,\n",
    "                    'batch_size': bs,\n",
    "                    'rmse': rmse,\n",
    "                    'preds': preds,\n",
    "                    'y_true': y_true\n",
    "                })\n",
    "                print(f\"Done: {act_fn.__name__}, Dropout={dr}, BN={bn}, BS={bs}, RMSE={rmse:.4f}\")"
   ]
  },
  {
   "cell_type": "code",
   "execution_count": 176,
   "metadata": {
    "colab": {
     "base_uri": "https://localhost:8080/",
     "height": 1000
    },
    "executionInfo": {
     "elapsed": 588,
     "status": "ok",
     "timestamp": 1744274872476,
     "user": {
      "displayName": "Татьяна Стрельницкая",
      "userId": "08357198606275998011"
     },
     "user_tz": -180
    },
    "id": "CPW1ki720FEK",
    "outputId": "3e255730-c243-4137-bc1c-07e658173256"
   },
   "outputs": [
    {
     "data": {
      "image/png": "[encoded data removed]",
      "text/plain": [
       "<Figure size 1200x1000 with 4 Axes>"
      ]
     },
     "metadata": {},
     "output_type": "display_data"
    }
   ],
   "source": [
    "results_df = pd.DataFrame([{k: v for k, v in res.items() if k not in ['preds', 'y_true']} for res in results])\n",
    "\n",
    "keys = ['activation', 'dropout', 'batch_norm', 'batch_size']\n",
    "fig, axs = plt.subplots(2, 2, figsize=(12, 10))\n",
    "axs = axs.flatten()\n",
    "\n",
    "for i, key in enumerate(keys):\n",
    "    results_df.groupby(key)['rmse'].mean().plot(kind='bar', ax=axs[i])\n",
    "    axs[i].set_title(f'Зависимость RMSE от {key}')\n",
    "    axs[i].set_ylabel('RMSE')\n",
    "    axs[i].set_xlabel(key)\n",
    "    axs[i].grid(True)\n",
    "\n",
    "plt.tight_layout()\n",
    "plt.show()"
   ]
  },
  {
   "cell_type": "code",
   "execution_count": 177,
   "metadata": {
    "colab": {
     "base_uri": "https://localhost:8080/",
     "height": 542
    },
    "executionInfo": {
     "elapsed": 215,
     "status": "ok",
     "timestamp": 1744274872692,
     "user": {
      "displayName": "Татьяна Стрельницкая",
      "userId": "08357198606275998011"
     },
     "user_tz": -180
    },
    "id": "iwavSW8M0FBs",
    "outputId": "4d62a59d-d1cb-48c8-a8a5-710fc1df3eb5"
   },
   "outputs": [
    {
     "data": {
      "image/png": "[encoded data removed]",
      "text/plain": [
       "<Figure size 1000x500 with 1 Axes>"
      ]
     },
     "metadata": {},
     "output_type": "display_data"
    },
    {
     "name": "stdout",
     "output_type": "stream",
     "text": [
      "{'activation': 'Tanh', 'dropout': 0.3, 'batch_norm': True, 'batch_size': 32, 'rmse': np.float64(0.8547002746073677), 'preds': array([6.409355 , 6.468011 , 6.3226876, ..., 6.932128 , 7.308689 ,\n",
      "       6.3559847], dtype=float32), 'y_true': array([6.6, 6.6, 7.3, ..., 6.1, 7.2, 5.3], dtype=float32)}\n"
     ]
    }
   ],
   "source": [
    "best_result = min(results, key=lambda x: x['rmse'])\n",
    "\n",
    "plt.figure(figsize=(10, 5))\n",
    "plt.hist(best_result['y_true'], bins=30, alpha=0.5, label='Факт')\n",
    "plt.hist(best_result['preds'], bins=30, alpha=0.5, label='Прогноз')\n",
    "plt.title('Факт/Прогноз для лучшей модели')\n",
    "plt.xlabel('Рейтинг')\n",
    "plt.ylabel('Частота')\n",
    "plt.legend()\n",
    "plt.grid(True)\n",
    "plt.show()\n",
    "\n",
    "print(best_result)"
   ]
  },
  {
   "cell_type": "markdown",
   "metadata": {
    "id": "8jYEm-a7NnGr"
   },
   "source": [
    "Выводы:\n",
    "1. функция активации Tanh дает лучший результат, чем ReLU\n",
    "2. dropout улучшает работу модели (даже видно по графику)\n",
    "3. batch_norm также улучшает работу модели\n",
    "4. batch_size по всей видимости не слишком оказывает влияние на точность модели"
   ]
  }
 ],
 "metadata": {
  "colab": {
   "authorship_tag": "ABX9TyOmMF0zsF/Q6RpPvp1RU1Kn",
   "mount_file_id": "1MpMxnpScE6R30kNucZHzgsXen5kxlZP4",
   "provenance": []
  },
  "kernelspec": {
   "display_name": "Python 3",
   "name": "python3"
  },
  "language_info": {
   "name": "python"
  }
 },
 "nbformat": 4,
 "nbformat_minor": 0
}
